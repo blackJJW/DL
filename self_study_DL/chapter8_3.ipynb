{
  "nbformat": 4,
  "nbformat_minor": 0,
  "metadata": {
    "colab": {
      "name": "chapter8_3.ipynb",
      "provenance": [],
      "authorship_tag": "ABX9TyPE1dlMpxJmhzRS5zW2C0lz",
      "include_colab_link": true
    },
    "kernelspec": {
      "name": "python3",
      "display_name": "Python 3"
    },
    "language_info": {
      "name": "python"
    },
    "accelerator": "GPU"
  },
  "cells": [
    {
      "cell_type": "markdown",
      "metadata": {
        "id": "view-in-github",
        "colab_type": "text"
      },
      "source": [
        "<a href=\"https://colab.research.google.com/github/blackJJW/DL/blob/main/self_study_DL/chapter8_3.ipynb\" target=\"_parent\"><img src=\"https://colab.research.google.com/assets/colab-badge.svg\" alt=\"Open In Colab\"/></a>"
      ]
    },
    {
      "cell_type": "markdown",
      "source": [
        "# 08-3 합성곱 신경망의 시각화"
      ],
      "metadata": {
        "id": "WbedcTf2pULu"
      }
    },
    {
      "cell_type": "markdown",
      "source": [
        "## 가중치 시각화"
      ],
      "metadata": {
        "id": "1asO3dKppepy"
      }
    },
    {
      "cell_type": "markdown",
      "source": [
        "- 합성곱 층은 여러 개의 필터를 사용해 이미지에서 특징을 학습\n",
        "- 각 필터는 커널이라는 가중치와 절편을 가지고 있음\n",
        "- 일반적으로 절편은 시각적으로 의미가 없음\n",
        "- 가중치는 입력 이미지의 2차원 영역에 적용되어 어떤 특징을 크게 두드러지게 표현하는 역할"
      ],
      "metadata": {
        "id": "ovptJC-2pnon"
      }
    },
    {
      "cell_type": "code",
      "source": [
        "from tensorflow import keras\n",
        "model = keras.models.load_model('best-cnn-model.h5')"
      ],
      "metadata": {
        "id": "TFsW8fLtuBFe"
      },
      "execution_count": 1,
      "outputs": []
    },
    {
      "cell_type": "code",
      "source": [
        "model.layers"
      ],
      "metadata": {
        "colab": {
          "base_uri": "https://localhost:8080/"
        },
        "id": "BP__UJHVuPrl",
        "outputId": "6d018371-7978-4e84-db35-ffd03393ebd0"
      },
      "execution_count": 2,
      "outputs": [
        {
          "output_type": "execute_result",
          "data": {
            "text/plain": [
              "[<keras.layers.convolutional.Conv2D at 0x7fc398c6fed0>,\n",
              " <keras.layers.pooling.MaxPooling2D at 0x7fc390653c90>,\n",
              " <keras.layers.convolutional.Conv2D at 0x7fc390653490>,\n",
              " <keras.layers.pooling.MaxPooling2D at 0x7fc390653850>,\n",
              " <keras.layers.core.flatten.Flatten at 0x7fc390591b10>,\n",
              " <keras.layers.core.dense.Dense at 0x7fc390595c90>,\n",
              " <keras.layers.core.dropout.Dropout at 0x7fc3905a12d0>,\n",
              " <keras.layers.core.dense.Dense at 0x7fc390589490>]"
            ]
          },
          "metadata": {},
          "execution_count": 2
        }
      ]
    },
    {
      "cell_type": "markdown",
      "source": [
        "- model.layers 리스트에 이전 절에서 추가했던 Conv2D, MaxPooling2D 층이 번갈아 2번 연속 등장\n",
        "- 그 다음 Flatten 층과 Dense 층, Dropout 층이 차례대로 등장\n",
        "- 마지막에 Dense 출력층이 놓여있음"
      ],
      "metadata": {
        "id": "fvpqvulTt9lK"
      }
    },
    {
      "cell_type": "markdown",
      "source": [
        "- 첫 번째 합성곱 층의 가중치\n",
        "  - 층의 가중치와 절편은 층의 weights 속성에 저장\n",
        "  "
      ],
      "metadata": {
        "id": "jC1MdO6FvTfu"
      }
    },
    {
      "cell_type": "code",
      "source": [
        "conv = model.layers[0]\n",
        "print(conv.weights[0].shape, conv.weights[1].shape)"
      ],
      "metadata": {
        "colab": {
          "base_uri": "https://localhost:8080/"
        },
        "id": "2Sv80_nFvglT",
        "outputId": "10e59ca2-be92-4b50-cc5d-deecfda0e874"
      },
      "execution_count": 4,
      "outputs": [
        {
          "output_type": "stream",
          "name": "stdout",
          "text": [
            "(3, 3, 1, 32) (32,)\n"
          ]
        }
      ]
    },
    {
      "cell_type": "markdown",
      "source": [
        "- 합성곱 층에 전달되는 입력의 깊이가 1이므로 실제 커널의 크기는 (3, 3, 1)\n",
        "- 필터 개수가 32개이므로 weights의 첫 번째 원소인 가중치의 크기는 (3, 3, 1, 32)가 됨\n",
        "- weights의 두 번째 원소는 절편의 개수를 나타냄\n",
        "- 필터마다 1개의 절편이 있으므로 (32,) 크기가 됨 "
      ],
      "metadata": {
        "id": "MWNgk0yVv7zs"
      }
    },
    {
      "cell_type": "markdown",
      "source": [
        "- weights 속성은 텐서플로의 다차원 배열인 Tensor 클래스의 객체\n",
        "- 여기서는 넘파이 배열로 변환"
      ],
      "metadata": {
        "id": "lP5e3io6wrfE"
      }
    },
    {
      "cell_type": "code",
      "source": [
        "conv_weights = conv.weights[0].numpy()\n",
        "print(conv_weights.mean(), conv_weights.std())"
      ],
      "metadata": {
        "colab": {
          "base_uri": "https://localhost:8080/"
        },
        "id": "T2xCY06XxWv5",
        "outputId": "f8fc695f-1648-4dce-ee76-eef7672eaa35"
      },
      "execution_count": 5,
      "outputs": [
        {
          "output_type": "stream",
          "name": "stdout",
          "text": [
            "-0.028283767 0.24100564\n"
          ]
        }
      ]
    },
    {
      "cell_type": "markdown",
      "source": [
        "- 이 가중치의 평균값은 0에 가깝고, 표준편차는 0.24 정도"
      ],
      "metadata": {
        "id": "IE24erzexqEJ"
      }
    },
    {
      "cell_type": "code",
      "source": [
        "import matplotlib.pyplot as plt\n",
        "plt.hist(conv_weights.reshape(-1, 1))\n",
        "plt.xlabel('weight')\n",
        "plt.ylabel('count')\n",
        "plt.show()"
      ],
      "metadata": {
        "colab": {
          "base_uri": "https://localhost:8080/",
          "height": 279
        },
        "id": "9j3CAGMEx4Ho",
        "outputId": "ddff6de9-4aa7-45d3-9a35-2e3c0be13228"
      },
      "execution_count": 6,
      "outputs": [
        {
          "output_type": "display_data",
          "data": {
            "text/plain": [
              "<Figure size 432x288 with 1 Axes>"
            ],
            "image/png": "[encoded data removed]"
          },
          "metadata": {
            "needs_background": "light"
          }
        }
      ]
    },
    {
      "cell_type": "markdown",
      "source": [
        "- 맷플롯립의 hist() 함수에 히스토그램을 그리기 위해 1차원 배열로 전달\n",
        "- reshape() 메서드로 conv_weights 배열을 1개의 열이 있는 배열로 변환"
      ],
      "metadata": {
        "id": "twJGe1XVx3Jw"
      }
    },
    {
      "cell_type": "markdown",
      "source": [
        "- 이번에는 32개의 커널을 16개씩 두 줄에 출력"
      ],
      "metadata": {
        "id": "jU3Z5MFWylrl"
      }
    },
    {
      "cell_type": "code",
      "source": [
        "fig, axs = plt.subplots(2, 16, figsize=(15, 2))\n",
        "for i in range(2):\n",
        "  for j in range(16):\n",
        "    axs[i, j].imshow(conv_weights[:,:,0,i*16 + j], vmin=-0.5, vmax=0.5)\n",
        "    axs[i, j].axis('off')\n",
        "plt.show()"
      ],
      "metadata": {
        "colab": {
          "base_uri": "https://localhost:8080/",
          "height": 134
        },
        "id": "Ma5OPv3Oyurk",
        "outputId": "998912af-83bd-40fb-8f5e-943e20ae5b22"
      },
      "execution_count": 7,
      "outputs": [
        {
          "output_type": "display_data",
          "data": {
            "text/plain": [
              "<Figure size 1080x144 with 32 Axes>"
            ],
            "image/png": "[encoded data removed]"
          },
          "metadata": {
            "needs_background": "light"
          }
        }
      ]
    },
    {
      "cell_type": "markdown",
      "source": [
        "- conv_weights에 32개의 가중치를 저장\n",
        "- 이 배열의 마지막 차원을 순회하면서 0부터 i*16 + j번째까지의 가중치 값을 차례대로 출력\n",
        "- i는 행 인덱스, j는 열 인덱스\n",
        "- conv_weights[:,:,0,0]에서 conv_weights[:,:,0,31]까지 출력"
      ],
      "metadata": {
        "id": "7S3OXUi3zo3L"
      }
    },
    {
      "cell_type": "markdown",
      "source": [
        "- imshow() 함수는 배열에 있는 최댓값과 최솟값을 사용해 픽셀의 강도를 표현\n",
        "  - 그 배열의 최댓값이면 가장 밝은 노란색을 그림\n",
        "  "
      ],
      "metadata": {
        "id": "xULvHdNF0cGc"
      }
    },
    {
      "cell_type": "markdown",
      "source": [
        "- 이번에는 훈련하지 않는 빈 합성곱 신경망을 생성\n",
        "- 이 합성곱 층의 가중치가 위에서 본 훈련한 가중치와 어떻게 다른지 그림으로 비교\n",
        "- 먼저 Sequential 클래스로 모델을 만들고 Conv2D 층을 하나 추가"
      ],
      "metadata": {
        "id": "Jw1lmX121Dng"
      }
    },
    {
      "cell_type": "code",
      "source": [
        "no_training_model = keras.Sequential()\n",
        "no_training_model.add(keras.layers.Conv2D(32, kernel_size=3, activation='relu',\n",
        "                                          padding='same', input_shape=(28, 28, 1)))"
      ],
      "metadata": {
        "id": "paky9zus1dy_"
      },
      "execution_count": 8,
      "outputs": []
    },
    {
      "cell_type": "markdown",
      "source": [
        "- 이 모델의 첫 번째 층 (Conv2D 층)의 가중치를 no_training_conv 변수에 저장"
      ],
      "metadata": {
        "id": "WEd8hru813YZ"
      }
    },
    {
      "cell_type": "code",
      "source": [
        "no_training_conv = no_training_model.layers[0]\n",
        "print(no_training_conv.weights[0].shape)"
      ],
      "metadata": {
        "colab": {
          "base_uri": "https://localhost:8080/"
        },
        "id": "GgoKIdSV2DAZ",
        "outputId": "622ed78d-c527-45d9-ab3a-7985a7194c09"
      },
      "execution_count": 9,
      "outputs": [
        {
          "output_type": "stream",
          "name": "stdout",
          "text": [
            "(3, 3, 1, 32)\n"
          ]
        }
      ]
    },
    {
      "cell_type": "code",
      "source": [
        "no_training_weights = no_training_conv.weights[0].numpy()\n",
        "print(no_training_weights.mean(), no_training_weights.std())"
      ],
      "metadata": {
        "colab": {
          "base_uri": "https://localhost:8080/"
        },
        "id": "khQ982SJ2V5Q",
        "outputId": "98e4916e-5189-4eaf-ba93-884149342fef"
      },
      "execution_count": 10,
      "outputs": [
        {
          "output_type": "stream",
          "name": "stdout",
          "text": [
            "-0.003443989 0.081783295\n"
          ]
        }
      ]
    },
    {
      "cell_type": "code",
      "source": [
        "plt.hist(no_training_weights.reshape(-1, 1))\n",
        "plt.xlabel('weight')\n",
        "plt.ylabel('count')\n",
        "plt.show()"
      ],
      "metadata": {
        "colab": {
          "base_uri": "https://localhost:8080/",
          "height": 279
        },
        "id": "W6DhrIVM24qx",
        "outputId": "914005f6-67b8-43cf-d8f3-26581cf3b84e"
      },
      "execution_count": 11,
      "outputs": [
        {
          "output_type": "display_data",
          "data": {
            "text/plain": [
              "<Figure size 432x288 with 1 Axes>"
            ],
            "image/png": "[encoded data removed]"
          },
          "metadata": {
            "needs_background": "light"
          }
        }
      ]
    },
    {
      "cell_type": "markdown",
      "source": [
        "- 그래프가 이전과 달라진 이유는 텐서플로가 신경망의 가중치를 처음 초기화할 때 균등 분포에서 랜덤하게 값을 선택하기 때문\n"
      ],
      "metadata": {
        "id": "Wp2pecYC2TmW"
      }
    },
    {
      "cell_type": "code",
      "source": [
        "fig, axs = plt.subplots(2, 16, figsize=(15, 2))\n",
        "for i in range(2):\n",
        "  for j in range(16):\n",
        "    axs[i, j].imshow(no_training_weights[:,:,0,i*16 + j], vmin=-0.5, vmax=0.5)\n",
        "    axs[i, j].axis('off')\n",
        "plt.show()"
      ],
      "metadata": {
        "colab": {
          "base_uri": "https://localhost:8080/",
          "height": 134
        },
        "id": "ClzGnU7l3Sb0",
        "outputId": "03ae2ea7-8a61-4266-8ad6-e630233ab4ac"
      },
      "execution_count": 12,
      "outputs": [
        {
          "output_type": "display_data",
          "data": {
            "text/plain": [
              "<Figure size 1080x144 with 32 Axes>"
            ],
            "image/png": "[encoded data removed]"
          },
          "metadata": {
            "needs_background": "light"
          }
        }
      ]
    },
    {
      "cell_type": "markdown",
      "source": [
        "- 가중치가 밋밋하게 초기화됨"
      ],
      "metadata": {
        "id": "CGJne5J73eRQ"
      }
    },
    {
      "cell_type": "markdown",
      "source": [
        "## 함수형 API"
      ],
      "metadata": {
        "id": "24psOQmD3h-K"
      }
    },
    {
      "cell_type": "markdown",
      "source": [
        "- 함수형 API(fucntional API)는 케라스의 Model 클래스를 사용하여 모델을 만듬\n",
        "- Dense 층 2개로 이루어진 완전 연결 신경망을 함수형 API로 구현\n",
        "\n",
        "\n",
        "```\n",
        "dense1 = keras.layers.Dense(100, activation = 'sigmoid')\n",
        "dense2 = keras.layers.Dense(10, activation = 'softmax')\n",
        "```\n",
        "\n"
      ],
      "metadata": {
        "id": "5-W961zh3j64"
      }
    },
    {
      "cell_type": "markdown",
      "source": [
        "- 이 객체를 Sequential 클래스 객체의 add() 메서드에 전달 가능\n",
        "- 하지만 다음과 같이 함수처럼 호출 가능\n",
        "\n",
        "\n",
        "```\n",
        "hidden = dense1(inputs)\n",
        "```\n",
        "\n"
      ],
      "metadata": {
        "id": "y-NubOJZ4qEH"
      }
    },
    {
      "cell_type": "markdown",
      "source": [
        "- 두 번째 층 호출\n",
        "\n",
        "\n",
        "```\n",
        "outputs = dense2(hidden)\n",
        "```\n",
        "\n"
      ],
      "metadata": {
        "id": "C5l954q65PJ7"
      }
    },
    {
      "cell_type": "markdown",
      "source": [
        "- inputs와 outputs을 Model 클래스로 연결\n",
        "\n",
        "```\n",
        "model = keras.Model(inputs, outputs)\n",
        "```\n",
        "\n"
      ],
      "metadata": {
        "id": "Mzd8KEXP6cN4"
      }
    },
    {
      "cell_type": "markdown",
      "source": [
        "- 입력에서 출력까지 층을 호출한 결과를 계속 이어주고 Model 클래스에 입력과 최종 출력을 지정\n",
        "- Sequential 클래스는 InputLayer 클래스를 자동으로 추가하고 호출해 주지만 Model 클래스에서는 수동으로 만드러서 호출해야함\n",
        "  - inputs는 InputLayer 클래스의 출력값"
      ],
      "metadata": {
        "id": "SKBfumOP64ox"
      }
    },
    {
      "cell_type": "markdown",
      "source": [
        "- 케라스는 InputLayer 클래스 객체를 쉽게 다룰수 있도록 Input() 함수를 별도로 제공\n",
        "- 입력의 크기를 지정하는 shape 매개변수와 함께 이 함수를 호출하면 InputLayer 클래스 객체를 만들어 출력을 반환\n",
        "\n",
        "```\n",
        "inputs = keras.Input(shape=(784,))\n",
        "```\n",
        "\n"
      ],
      "metadata": {
        "id": "Hl6wg1v07Y5M"
      }
    },
    {
      "cell_type": "markdown",
      "source": [
        "- model 객체 순서   \n",
        "model 객체 - InputLayer -> Conv2D -> MaxPooling2D -> Conv2D -> MaxPooling2D -> Flatten -> Dense -> Dropout -> Dense "
      ],
      "metadata": {
        "id": "IgYe34su8cCj"
      }
    },
    {
      "cell_type": "markdown",
      "source": [
        "- 필요한 것은 첫 번째 Conv2D의 출력\n",
        "- model 객체의 입려과 Conv2D의 출력을 알 수 있다면 이 둘을 연결하여 새로운 모델을 얻을 수 있음\n",
        "- model 객체의 predict() 메서드를 호출하면 입력부터 마지막 층까지 모든 계산을 수행한 후 최종 출력을 반환\n",
        "- 첫 번째 Conv2D의 출력 : model.layers[0].output\n",
        "- model 객체의 입력 : model.input"
      ],
      "metadata": {
        "id": "YNzpFEkk9Yxt"
      }
    },
    {
      "cell_type": "code",
      "source": [
        "print(model.input)"
      ],
      "metadata": {
        "colab": {
          "base_uri": "https://localhost:8080/"
        },
        "id": "DeanGIti-vQg",
        "outputId": "ca22c1d1-08ca-40b0-f36e-d9fa52758f28"
      },
      "execution_count": 13,
      "outputs": [
        {
          "output_type": "stream",
          "name": "stdout",
          "text": [
            "KerasTensor(type_spec=TensorSpec(shape=(None, 28, 28, 1), dtype=tf.float32, name='conv2d_input'), name='conv2d_input', description=\"created by layer 'conv2d_input'\")\n"
          ]
        }
      ]
    },
    {
      "cell_type": "markdown",
      "source": [
        "- model.input 과 model.layers[0].output 을 연결하는 새로운 conv_acti 모델 생성 가능"
      ],
      "metadata": {
        "id": "v-WKPGHx-5WW"
      }
    },
    {
      "cell_type": "code",
      "source": [
        "conv_acti = keras.Model(model.input, model.layers[0].output)"
      ],
      "metadata": {
        "id": "OcZ4ONMs_f8U"
      },
      "execution_count": 14,
      "outputs": []
    },
    {
      "cell_type": "markdown",
      "source": [
        "- model 객체의 predict() 메서드를 호출하면 최종 출력층의 확률을 반환\n",
        "- conv_acti의 predict() 메서드를 호출하면 첫 번째 Conv2D의 출력을 반환"
      ],
      "metadata": {
        "id": "dRTzoPnS_zzr"
      }
    },
    {
      "cell_type": "markdown",
      "source": [
        "## 특성 맵 시각화"
      ],
      "metadata": {
        "id": "QzwpBwsQARHI"
      }
    },
    {
      "cell_type": "code",
      "source": [
        "(train_input, train_target), (test_input, test_target) = keras.datasets.fashion_mnist.load_data()\n",
        "plt.imshow(train_input[0], cmap='gray_r')\n",
        "plt.show()"
      ],
      "metadata": {
        "colab": {
          "base_uri": "https://localhost:8080/",
          "height": 465
        },
        "id": "wZU7JcxUATvV",
        "outputId": "9def087f-d9b2-4ef7-e231-7c01c94461ec"
      },
      "execution_count": 15,
      "outputs": [
        {
          "output_type": "stream",
          "name": "stdout",
          "text": [
            "Downloading data from https://storage.googleapis.com/tensorflow/tf-keras-datasets/train-labels-idx1-ubyte.gz\n",
            "32768/29515 [=================================] - 0s 0us/step\n",
            "40960/29515 [=========================================] - 0s 0us/step\n",
            "Downloading data from https://storage.googleapis.com/tensorflow/tf-keras-datasets/train-images-idx3-ubyte.gz\n",
            "26427392/26421880 [==============================] - 1s 0us/step\n",
            "26435584/26421880 [==============================] - 1s 0us/step\n",
            "Downloading data from https://storage.googleapis.com/tensorflow/tf-keras-datasets/t10k-labels-idx1-ubyte.gz\n",
            "16384/5148 [===============================================================================================] - 0s 0us/step\n",
            "Downloading data from https://storage.googleapis.com/tensorflow/tf-keras-datasets/t10k-images-idx3-ubyte.gz\n",
            "4423680/4422102 [==============================] - 0s 0us/step\n",
            "4431872/4422102 [==============================] - 0s 0us/step\n"
          ]
        },
        {
          "output_type": "display_data",
          "data": {
            "text/plain": [
              "<Figure size 432x288 with 1 Axes>"
            ],
            "image/png": "[encoded data removed]"
          },
          "metadata": {
            "needs_background": "light"
          }
        }
      ]
    },
    {
      "cell_type": "markdown",
      "source": [
        "- 이 샘플을 conv_acti 모델에 주입하여 Conv2D 층이 만드는 특성 맵을 출력\n",
        "- predict() 메서드는 항상 입력의 첫 번째 차원이 배치 차원일 것을 기대\n",
        "- 하나의 샘플을 전달하더라도 꼭 첫 번째 차원을 유지해야 함\n",
        "  - 이를 위해 슬라이싱 연산자를 사용해 첫 번째 샘플을 선택\n",
        "  - 그 다음 (784,) 크기를 (28, 28, 1) 크기로 변경하고 255로 나눔"
      ],
      "metadata": {
        "id": "4eGh8yrUA0XQ"
      }
    },
    {
      "cell_type": "code",
      "source": [
        "inputs = train_input[0:1].reshape(-1, 28, 28, 1) / 255.0\n",
        "feature_maps = conv_acti.predict(inputs)"
      ],
      "metadata": {
        "id": "ZP28K9YJB-p2"
      },
      "execution_count": 16,
      "outputs": []
    },
    {
      "cell_type": "code",
      "source": [
        "print(feature_maps.shape)"
      ],
      "metadata": {
        "colab": {
          "base_uri": "https://localhost:8080/"
        },
        "id": "_laV_FxaCQ_B",
        "outputId": "b5d7a683-b2d6-4435-ea8b-db3481435e9d"
      },
      "execution_count": 17,
      "outputs": [
        {
          "output_type": "stream",
          "name": "stdout",
          "text": [
            "(1, 28, 28, 32)\n"
          ]
        }
      ]
    },
    {
      "cell_type": "markdown",
      "source": [
        "- 세임 패딩과 32개의 필터를 사용한 합성곱 층의 출력이므로 (28, 28, 32)\n",
        "- 첫 번째 차원은 배치 차원\n",
        "- 샘플을 하나 입력했기 때문에 1"
      ],
      "metadata": {
        "id": "nSP4eHhxCVWK"
      }
    },
    {
      "cell_type": "code",
      "source": [
        "fig, axs = plt.subplots(4, 8, figsize=(15, 8))\n",
        "for i in range(4):\n",
        "  for j in range(8):\n",
        "    axs[i, j].imshow(feature_maps[0,:,:,i*8 + j])\n",
        "    axs[i, j].axis('off')\n",
        "plt.show()"
      ],
      "metadata": {
        "colab": {
          "base_uri": "https://localhost:8080/",
          "height": 460
        },
        "id": "OMLlOwQhCnto",
        "outputId": "4eac9224-a1db-49b6-d24a-528d954c0fef"
      },
      "execution_count": 19,
      "outputs": [
        {
          "output_type": "display_data",
          "data": {
            "text/plain": [
              "<Figure size 1080x576 with 32 Axes>"
            ],
            "image/png": "[encoded data removed]"
          },
          "metadata": {
            "needs_background": "light"
          }
        }
      ]
    },
    {
      "cell_type": "markdown",
      "source": [
        "- 이 특성 맵은 32개의 필터로 인해 입력 이미지에서 강하게 활성화된 부분을 보여줌\n"
      ],
      "metadata": {
        "id": "5gzZ79cbDNGM"
      }
    },
    {
      "cell_type": "markdown",
      "source": [
        "- 두 번째 합성곱 층이 만든 특성 맵도 같은 방식으로 확인 가능\n",
        "- 먼저 model 객체의 입력과 두 번째 합성곱 층인 model.layers[2]의 출력을 연결한 conv2_acti 모델을 생성"
      ],
      "metadata": {
        "id": "RmrAK4BPEjFU"
      }
    },
    {
      "cell_type": "code",
      "source": [
        "conv2_acti = keras.Model(model.input, model.layers[2].output)"
      ],
      "metadata": {
        "id": "2GSEbPZlE3lc"
      },
      "execution_count": 20,
      "outputs": []
    },
    {
      "cell_type": "markdown",
      "source": [
        "- 첫 번째 샘플을 conv2_acti 모델의 predict()메서드에 전달"
      ],
      "metadata": {
        "id": "zbaKblCpE_09"
      }
    },
    {
      "cell_type": "code",
      "source": [
        "inputs = train_input[0:1].reshape(-1, 28, 28, 1) / 255.0\n",
        "feature_maps = conv2_acti.predict(inputs)"
      ],
      "metadata": {
        "id": "Wi7ARww3FHzh"
      },
      "execution_count": 21,
      "outputs": []
    },
    {
      "cell_type": "markdown",
      "source": [
        "- 첫 번째 풀링 층에서 가로세로 크기가 절반으로 줄었고, 두 번째 합성곱 층의 필터 개수는 64개이므로 feature_maps의 크기는 배치 차원을 제외하면 (14, 14, 64)일 것"
      ],
      "metadata": {
        "id": "e-7KP3U6FagC"
      }
    },
    {
      "cell_type": "code",
      "source": [
        "print(feature_maps.shape)"
      ],
      "metadata": {
        "colab": {
          "base_uri": "https://localhost:8080/"
        },
        "id": "dkogbKWsFsvJ",
        "outputId": "e890bb53-8a20-4045-e17f-d7037e4ff2d3"
      },
      "execution_count": 22,
      "outputs": [
        {
          "output_type": "stream",
          "name": "stdout",
          "text": [
            "(1, 14, 14, 64)\n"
          ]
        }
      ]
    },
    {
      "cell_type": "code",
      "source": [
        "fig, axs = plt.subplots(8, 8, figsize=(12, 12))\n",
        "for i in range(8):\n",
        "  for j in range(8):\n",
        "    axs[i, j].imshow(feature_maps[0,:,:,i*8 + j])\n",
        "    axs[i, j].axis('off')\n",
        "plt.show()"
      ],
      "metadata": {
        "colab": {
          "base_uri": "https://localhost:8080/",
          "height": 683
        },
        "id": "InFNIcKsFxhO",
        "outputId": "10ad07f2-da21-4f45-dad1-00bc00beca47"
      },
      "execution_count": 23,
      "outputs": [
        {
          "output_type": "display_data",
          "data": {
            "text/plain": [
              "<Figure size 864x864 with 64 Axes>"
            ],
            "image/png": "[encoded data removed]"
          },
          "metadata": {
            "needs_background": "light"
          }
        }
      ]
    },
    {
      "cell_type": "markdown",
      "source": [
        "- 두 번째 합성곱 층의 필터 크기는 (3, 3, 32)\n",
        "- 두 번째 합성곱 층의 첫 번째 필터가 앞서 출력한 32개의 특성 맵과 곱해져 두 번째 합성곱 층의 첫 번째 특성 맵이 됨\n",
        "- (14, 14, 32) 특성 맵에서 어떤 부위를 감지하는지 직관적으로 이해하기가 어려움\n",
        "- 이런 현상은 합성곱 층을 많이 쌓을수록 심해짐"
      ],
      "metadata": {
        "id": "Cda9EMikGvqW"
      }
    },
    {
      "cell_type": "markdown",
      "source": [
        "- 합성곱 신경망의 앞부분에 있는 합성곱 층은 이미지의 시각적인 정보를 감지하고 뒤쪽에 있는 합성곱 층은 앞쪽에서 감지한 시각적인 정보를 바탕으로 추상적인 정보를 학습함"
      ],
      "metadata": {
        "id": "KOXhqxhrHd5X"
      }
    },
    {
      "cell_type": "markdown",
      "source": [
        "## 마무리"
      ],
      "metadata": {
        "id": "u7Aat17dH4a5"
      }
    },
    {
      "cell_type": "markdown",
      "source": [
        "### 키워드로 끝내는 핵심 포인트"
      ],
      "metadata": {
        "id": "-WECNnXYH6j8"
      }
    },
    {
      "cell_type": "markdown",
      "source": [
        "> 가중치 시각화 : 합성곱 층의 가중치를 이미지로 출력하는 것.\n",
        "- 합성곱 신경망은 주로 이미지를 다루기 때문에 가중치가 시각적인 패턴을 학습하는지 알아볼 수 있음   \n",
        "\n",
        "> 특성 맵 시각화 : 합성곱 층의 활성화 출력을 이미지로 그리는 것\n",
        "- 가중치 시각화와 함께 비교하여 각 필터가 이미지의 어느 부분을 활성화시키는지 확인 가능\n",
        "   \n",
        "> 함수형 API : 케라스에서 신경망 모델을 마드는 방법 중 하나\n",
        "- Model 클래스에 모델의 입려과 출력을 지정.\n",
        "- 전형적으로 입력은 Input() 함수를 사용하여 정의하고 출력은 마지막 층의 출력으로 정의"
      ],
      "metadata": {
        "id": "PerO-HpdH9_A"
      }
    },
    {
      "cell_type": "markdown",
      "source": [
        "### 핵심 패키지와 함수"
      ],
      "metadata": {
        "id": "cQHdSiu2I7Pv"
      }
    },
    {
      "cell_type": "markdown",
      "source": [
        "> TensorFlow\n",
        "- Model : 케라스 모델을 만드는 클래스\n",
        "  - 첫 번째 매개변수인 inputs에 모델의 입력 또는 입력의 리스트를 지정\n",
        "  - 두 번째 매개변수인 outputs에 모델의 출력 또는 출력의 리스트를 지정\n",
        "  - name 매개변수에 모델의 이름을 지정 가능"
      ],
      "metadata": {
        "id": "yhY64OB4I_31"
      }
    }
  ]
}