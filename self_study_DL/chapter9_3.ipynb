{
  "nbformat": 4,
  "nbformat_minor": 0,
  "metadata": {
    "colab": {
      "name": "chapter9_3",
      "provenance": [],
      "authorship_tag": "ABX9TyNX0Hav+pk0l/v03wEAXp1h",
      "include_colab_link": true
    },
    "kernelspec": {
      "name": "python3",
      "display_name": "Python 3"
    },
    "language_info": {
      "name": "python"
    }
  },
  "cells": [
    {
      "cell_type": "markdown",
      "metadata": {
        "id": "view-in-github",
        "colab_type": "text"
      },
      "source": [
        "<a href=\"https://colab.research.google.com/github/blackJJW/DL/blob/main/self_study_DL/chapter9_3.ipynb\" target=\"_parent\"><img src=\"https://colab.research.google.com/assets/colab-badge.svg\" alt=\"Open In Colab\"/></a>"
      ]
    },
    {
      "cell_type": "markdown",
      "source": [
        "# 09-3 LSTM과 GRU 셀"
      ],
      "metadata": {
        "id": "h45NIo5cUL7d"
      }
    },
    {
      "cell_type": "markdown",
      "source": [
        "## LSTM 구조"
      ],
      "metadata": {
        "id": "oDbespeZUnjj"
      }
    },
    {
      "cell_type": "markdown",
      "source": [
        "- Long Short-Term Memory\n",
        "- 단기 기억을 오래 기억하기 위해 고안\n",
        "- 입력과 가중치를 곱하고 절편을 더해 활성화 함수를 통과시키는 구조를 여러 개 가지고 있음\n",
        "  - 이런 계산 결과는 다음 타임스텝에 재사용됨"
      ],
      "metadata": {
        "id": "nWYZzRZDXdAn"
      }
    },
    {
      "cell_type": "markdown",
      "source": [
        "- 은닉상태를 만드는 방법\n",
        "  - 입력과 이전 타임스텝의 은닉 상태를 가중치에 곱한 후 활성화 함수를 통과시켜 다음 은닉 상태를 생성\n",
        "    - 이때 기본 순환층과는 달리 시그모이드 활성화 함수를 사용\n",
        "    - tanh 활성화 함수를 통과한 어떤 값과 곱해져서 은닉 상태를 만듦"
      ],
      "metadata": {
        "id": "qGNue7CuY-io"
      }
    },
    {
      "cell_type": "markdown",
      "source": [
        "- LSTM에는 순환되는 상태가 2개\n",
        "  - 은닉 상태\n",
        "  - 셀 상태(cell state) : 은닉 상태와 달리 다음 층으로 전달되지 않고 LSTM 셀에서 순환만 되는 값"
      ],
      "metadata": {
        "id": "H3jpZcCJhVsQ"
      }
    },
    {
      "cell_type": "markdown",
      "source": [
        "- 셀 상태 계산\n",
        "  1. 입력과 은닉 상태를 또 다른 가중치 $w_{i}$에 곱한 다음 시그모이드 함수를 통과\n",
        "  2. 이전 타입스텝의 셀 사태와 곱하여 새로운 셀 상태를 생성\n",
        "    - 이 셀 상태가 tanh 함수를 통과하여 새로운 은닉 상태를 만드는 데 기여"
      ],
      "metadata": {
        "id": "z5h2WPvijp8i"
      }
    },
    {
      "cell_type": "markdown",
      "source": [
        "- LSTM은 작은 셀을 여러 개 포함하고 있는 큰 셀과 같음\n",
        "- 중요한 것은 입력과 은닉 상태에 곱해지는 가중치 $w_{o}$와 $w_{f}$가 다르다는 점\n",
        "  - 이 두 작은 셀은 각기 다른 기능을 위해 훈련됨"
      ],
      "metadata": {
        "id": "zABXK139kHmd"
      }
    },
    {
      "cell_type": "markdown",
      "source": [
        "- 여기에 2개의 작은 셀이 더 추가되어 셀 상태를 만드는 데 기여\\\n",
        "  - LSTM은 총 4개의 셀이 있음\n",
        "- 입력과 은닉 상태를 각기 다른 가중체에 곱한 다음, 하나는 시그모이드 함수를 통과시키고 다른 하나는 tanh 함수를 통과시킴\n",
        "- 두 결과를 곱한 후 이전 셀 상태와 더함\n",
        "  - 이 결과가 최종적인 다음 셀 상태가 됨\n"
      ],
      "metadata": {
        "id": "di9UFXORkpdQ"
      }
    },
    {
      "cell_type": "markdown",
      "source": [
        "- 삭제 게이트, 입력 게이트, 출력 게이트\n",
        "  - 삭제 게이트 : 셀 상태에 있는 정보를 제거하는 역할\n",
        "  - 입력 게이트 : 새로운 정보를 셀 상태에 추가\n",
        "  - 출력 게이트 : 이 게이트를 통해 셀 상태가 다음 은닉 상태로 출력"
      ],
      "metadata": {
        "id": "5vRpLuNcuRkZ"
      }
    },
    {
      "cell_type": "markdown",
      "source": [
        "## LSTM 신경망 훈력"
      ],
      "metadata": {
        "id": "u_QseMS0usUL"
      }
    },
    {
      "cell_type": "code",
      "source": [
        "from tensorflow.keras.datasets import imdb\n",
        "from sklearn.model_selection import train_test_split\n",
        "(train_input, train_target), (test_input, test_target) = imdb.load_data(num_words=500)\n",
        "train_input, val_input, train_target, val_target = train_test_split(train_input, train_target, test_size=0.2, random_state=42)"
      ],
      "metadata": {
        "id": "UaSxxJ_-uxvF"
      },
      "execution_count": 9,
      "outputs": []
    },
    {
      "cell_type": "markdown",
      "source": [
        "- 그 다음 케라스의 pad_sequences() 함수로 각 샘플의 길이를 100에 맞추고 부족할 때는 패딩을 추가"
      ],
      "metadata": {
        "id": "wypFRHOJuwlE"
      }
    },
    {
      "cell_type": "code",
      "source": [
        "from tensorflow.keras.preprocessing.sequence import pad_sequences\n",
        "train_seq = pad_sequences(train_input, maxlen=100)\n",
        "val_seq = pad_sequences(val_input, maxlen=100)"
      ],
      "metadata": {
        "id": "iXR63TdSzM-A"
      },
      "execution_count": 10,
      "outputs": []
    },
    {
      "cell_type": "markdown",
      "source": [
        "- LSTM 셀을 상요한 순환층을 생성"
      ],
      "metadata": {
        "id": "Wfmmu-uxzsZm"
      }
    },
    {
      "cell_type": "code",
      "source": [
        "from tensorflow import keras\n",
        "model = keras.Sequential()\n",
        "model.add(keras.layers.Embedding(500, 16, input_length=100))\n",
        "model.add(keras.layers.LSTM(8))\n",
        "model.add(keras.layers.Dense(1, activation='sigmoid'))"
      ],
      "metadata": {
        "id": "kXJsSXVEzzBp"
      },
      "execution_count": 11,
      "outputs": []
    },
    {
      "cell_type": "code",
      "source": [
        "model.summary()"
      ],
      "metadata": {
        "colab": {
          "base_uri": "https://localhost:8080/"
        },
        "id": "rgabZydY0kCx",
        "outputId": "590e9ca2-e8a1-4671-de5d-3d600f9bc214"
      },
      "execution_count": 12,
      "outputs": [
        {
          "output_type": "stream",
          "name": "stdout",
          "text": [
            "Model: \"sequential_2\"\n",
            "_________________________________________________________________\n",
            " Layer (type)                Output Shape              Param #   \n",
            "=================================================================\n",
            " embedding_2 (Embedding)     (None, 100, 16)           8000      \n",
            "                                                                 \n",
            " lstm_2 (LSTM)               (None, 8)                 800       \n",
            "                                                                 \n",
            " dense_2 (Dense)             (None, 1)                 9         \n",
            "                                                                 \n",
            "=================================================================\n",
            "Total params: 8,809\n",
            "Trainable params: 8,809\n",
            "Non-trainable params: 0\n",
            "_________________________________________________________________\n"
          ]
        }
      ]
    },
    {
      "cell_type": "markdown",
      "source": [
        "- SimpleRNN 클래스의 모델 파라미터의 개수는 200개\n",
        "- LSTM 셀에는 작은 셀이 4개 있으므로 정확히 4배가 늘어 모델 파라미터 개수는 800개가 됨"
      ],
      "metadata": {
        "id": "PFzcVkSA0wGF"
      }
    },
    {
      "cell_type": "markdown",
      "source": [
        "- 배치 크기 = 64\n",
        "- 에포크 회수 = 100"
      ],
      "metadata": {
        "id": "keCpNJXP1Bfj"
      }
    },
    {
      "cell_type": "code",
      "source": [
        "rmsprop = keras.optimizers.RMSprop(learning_rate=1e-4)\n",
        "model.compile(optimizer=rmsprop, loss = 'binary_crossentropy',\n",
        "              metrics=['accuracy'])\n",
        "checkpoint_cb = keras.callbacks.ModelCheckpoint('best-lstm-model.h5',\n",
        "                                                 save_best_only=True)\n",
        "early_stopping_cb = keras.callbacks.EarlyStopping(patience=3,\n",
        "                                                  restore_best_weights=True)\n",
        "history = model.fit(train_seq, train_target, epochs=100, batch_size=64,\n",
        "                    validation_data=(val_seq, val_target),\n",
        "                    callbacks=[checkpoint_cb, early_stopping_cb])"
      ],
      "metadata": {
        "colab": {
          "base_uri": "https://localhost:8080/"
        },
        "id": "y5sNe5eA1KJX",
        "outputId": "120332ef-5418-4ad4-c0fd-2916fc890525"
      },
      "execution_count": 13,
      "outputs": [
        {
          "output_type": "stream",
          "name": "stdout",
          "text": [
            "Epoch 1/100\n",
            "313/313 [==============================] - 13s 36ms/step - loss: 0.6926 - accuracy: 0.5258 - val_loss: 0.6917 - val_accuracy: 0.5680\n",
            "Epoch 2/100\n",
            "313/313 [==============================] - 11s 34ms/step - loss: 0.6904 - accuracy: 0.5907 - val_loss: 0.6886 - val_accuracy: 0.6204\n",
            "Epoch 3/100\n",
            "313/313 [==============================] - 11s 34ms/step - loss: 0.6845 - accuracy: 0.6497 - val_loss: 0.6792 - val_accuracy: 0.6664\n",
            "Epoch 4/100\n",
            "313/313 [==============================] - 11s 36ms/step - loss: 0.6555 - accuracy: 0.7054 - val_loss: 0.6158 - val_accuracy: 0.7126\n",
            "Epoch 5/100\n",
            "313/313 [==============================] - 12s 39ms/step - loss: 0.5900 - accuracy: 0.7181 - val_loss: 0.5802 - val_accuracy: 0.7160\n",
            "Epoch 6/100\n",
            "313/313 [==============================] - 11s 37ms/step - loss: 0.5650 - accuracy: 0.7347 - val_loss: 0.5579 - val_accuracy: 0.7402\n",
            "Epoch 7/100\n",
            "313/313 [==============================] - 11s 35ms/step - loss: 0.5449 - accuracy: 0.7499 - val_loss: 0.5432 - val_accuracy: 0.7474\n",
            "Epoch 8/100\n",
            "313/313 [==============================] - 11s 34ms/step - loss: 0.5278 - accuracy: 0.7621 - val_loss: 0.5250 - val_accuracy: 0.7604\n",
            "Epoch 9/100\n",
            "313/313 [==============================] - 11s 36ms/step - loss: 0.5118 - accuracy: 0.7721 - val_loss: 0.5124 - val_accuracy: 0.7668\n",
            "Epoch 10/100\n",
            "313/313 [==============================] - 11s 34ms/step - loss: 0.4964 - accuracy: 0.7800 - val_loss: 0.4961 - val_accuracy: 0.7746\n",
            "Epoch 11/100\n",
            "313/313 [==============================] - 11s 34ms/step - loss: 0.4822 - accuracy: 0.7861 - val_loss: 0.4853 - val_accuracy: 0.7820\n",
            "Epoch 12/100\n",
            "313/313 [==============================] - 11s 34ms/step - loss: 0.4696 - accuracy: 0.7926 - val_loss: 0.4745 - val_accuracy: 0.7836\n",
            "Epoch 13/100\n",
            "313/313 [==============================] - 11s 34ms/step - loss: 0.4588 - accuracy: 0.7969 - val_loss: 0.4644 - val_accuracy: 0.7920\n",
            "Epoch 14/100\n",
            "313/313 [==============================] - 13s 40ms/step - loss: 0.4497 - accuracy: 0.8008 - val_loss: 0.4583 - val_accuracy: 0.7926\n",
            "Epoch 15/100\n",
            "313/313 [==============================] - 13s 41ms/step - loss: 0.4424 - accuracy: 0.8044 - val_loss: 0.4518 - val_accuracy: 0.7986\n",
            "Epoch 16/100\n",
            "313/313 [==============================] - 11s 36ms/step - loss: 0.4365 - accuracy: 0.8061 - val_loss: 0.4480 - val_accuracy: 0.7978\n",
            "Epoch 17/100\n",
            "313/313 [==============================] - 11s 34ms/step - loss: 0.4315 - accuracy: 0.8086 - val_loss: 0.4445 - val_accuracy: 0.8004\n",
            "Epoch 18/100\n",
            "313/313 [==============================] - 11s 34ms/step - loss: 0.4280 - accuracy: 0.8102 - val_loss: 0.4423 - val_accuracy: 0.8010\n",
            "Epoch 19/100\n",
            "313/313 [==============================] - 11s 34ms/step - loss: 0.4245 - accuracy: 0.8108 - val_loss: 0.4426 - val_accuracy: 0.8024\n",
            "Epoch 20/100\n",
            "313/313 [==============================] - 11s 34ms/step - loss: 0.4219 - accuracy: 0.8127 - val_loss: 0.4391 - val_accuracy: 0.7974\n",
            "Epoch 21/100\n",
            "313/313 [==============================] - 11s 34ms/step - loss: 0.4197 - accuracy: 0.8134 - val_loss: 0.4355 - val_accuracy: 0.8052\n",
            "Epoch 22/100\n",
            "313/313 [==============================] - 11s 34ms/step - loss: 0.4174 - accuracy: 0.8130 - val_loss: 0.4351 - val_accuracy: 0.7972\n",
            "Epoch 23/100\n",
            "313/313 [==============================] - 11s 34ms/step - loss: 0.4160 - accuracy: 0.8135 - val_loss: 0.4341 - val_accuracy: 0.8020\n",
            "Epoch 24/100\n",
            "313/313 [==============================] - 11s 34ms/step - loss: 0.4141 - accuracy: 0.8140 - val_loss: 0.4328 - val_accuracy: 0.8048\n",
            "Epoch 25/100\n",
            "313/313 [==============================] - 11s 34ms/step - loss: 0.4128 - accuracy: 0.8134 - val_loss: 0.4332 - val_accuracy: 0.8062\n",
            "Epoch 26/100\n",
            "313/313 [==============================] - 11s 34ms/step - loss: 0.4121 - accuracy: 0.8146 - val_loss: 0.4306 - val_accuracy: 0.8034\n",
            "Epoch 27/100\n",
            "313/313 [==============================] - 11s 34ms/step - loss: 0.4111 - accuracy: 0.8135 - val_loss: 0.4312 - val_accuracy: 0.8068\n",
            "Epoch 28/100\n",
            "313/313 [==============================] - 11s 34ms/step - loss: 0.4095 - accuracy: 0.8143 - val_loss: 0.4309 - val_accuracy: 0.7994\n",
            "Epoch 29/100\n",
            "313/313 [==============================] - 11s 34ms/step - loss: 0.4089 - accuracy: 0.8142 - val_loss: 0.4294 - val_accuracy: 0.8008\n",
            "Epoch 30/100\n",
            "313/313 [==============================] - 11s 34ms/step - loss: 0.4078 - accuracy: 0.8164 - val_loss: 0.4289 - val_accuracy: 0.8022\n",
            "Epoch 31/100\n",
            "313/313 [==============================] - 11s 34ms/step - loss: 0.4072 - accuracy: 0.8164 - val_loss: 0.4339 - val_accuracy: 0.8048\n",
            "Epoch 32/100\n",
            "313/313 [==============================] - 11s 34ms/step - loss: 0.4069 - accuracy: 0.8155 - val_loss: 0.4308 - val_accuracy: 0.8054\n",
            "Epoch 33/100\n",
            "313/313 [==============================] - 11s 34ms/step - loss: 0.4057 - accuracy: 0.8174 - val_loss: 0.4284 - val_accuracy: 0.8006\n",
            "Epoch 34/100\n",
            "313/313 [==============================] - 11s 34ms/step - loss: 0.4049 - accuracy: 0.8152 - val_loss: 0.4334 - val_accuracy: 0.8056\n",
            "Epoch 35/100\n",
            "313/313 [==============================] - 11s 35ms/step - loss: 0.4044 - accuracy: 0.8184 - val_loss: 0.4286 - val_accuracy: 0.8064\n",
            "Epoch 36/100\n",
            "313/313 [==============================] - 11s 34ms/step - loss: 0.4040 - accuracy: 0.8156 - val_loss: 0.4269 - val_accuracy: 0.8052\n",
            "Epoch 37/100\n",
            "313/313 [==============================] - 11s 34ms/step - loss: 0.4031 - accuracy: 0.8156 - val_loss: 0.4271 - val_accuracy: 0.8038\n",
            "Epoch 38/100\n",
            "313/313 [==============================] - 11s 34ms/step - loss: 0.4029 - accuracy: 0.8168 - val_loss: 0.4263 - val_accuracy: 0.8038\n",
            "Epoch 39/100\n",
            "313/313 [==============================] - 11s 34ms/step - loss: 0.4017 - accuracy: 0.8159 - val_loss: 0.4267 - val_accuracy: 0.8046\n",
            "Epoch 40/100\n",
            "313/313 [==============================] - 11s 34ms/step - loss: 0.4014 - accuracy: 0.8159 - val_loss: 0.4269 - val_accuracy: 0.8074\n",
            "Epoch 41/100\n",
            "313/313 [==============================] - 11s 34ms/step - loss: 0.4008 - accuracy: 0.8173 - val_loss: 0.4266 - val_accuracy: 0.8028\n"
          ]
        }
      ]
    },
    {
      "cell_type": "code",
      "source": [
        "import matplotlib.pyplot as plt\n",
        "plt.plot(history.history['loss'])\n",
        "plt.plot(history.history['val_loss'])\n",
        "plt.xlabel('epoch')\n",
        "plt.ylabel('loss')\n",
        "plt.legend(['train', 'val'])\n",
        "plt.show()"
      ],
      "metadata": {
        "colab": {
          "base_uri": "https://localhost:8080/",
          "height": 279
        },
        "id": "mgDaLXV_2lsN",
        "outputId": "fe2c2a0b-8c7c-4afe-e143-81391fb1a5b6"
      },
      "execution_count": 14,
      "outputs": [
        {
          "output_type": "display_data",
          "data": {
            "text/plain": [
              "<Figure size 432x288 with 1 Axes>"
            ],
            "image/png": "[encoded data removed]"
          },
          "metadata": {
            "needs_background": "light"
          }
        }
      ]
    },
    {
      "cell_type": "markdown",
      "source": [
        "- 기본 순환층보다 LSTM이 과대적합을 억제하면서 훈련을 잘 수행\n",
        "- 하지만 경우에 따라서는 과대적합을 더 강하게 제어할 필요가 있음"
      ],
      "metadata": {
        "id": "FaJL9F0f3FN4"
      }
    },
    {
      "cell_type": "markdown",
      "source": [
        "## 순환층에 드롭아웃 적용하기"
      ],
      "metadata": {
        "id": "s2zlRRyG3TW7"
      }
    },
    {
      "cell_type": "markdown",
      "source": [
        "- 완전 연결 실졍망과 합성곱 신경망에서는 Dropput 클래스를 사용해 드롭아웃을 적용\n",
        "  - 드롭아웃은 은닉층에 있는 뉴런의 출력을 랜덤하게 꺼서 과대적합을 막는 기법\n",
        "  - 이를 통해 모델이 훈련 세트에 너무 과대 적합된는 것을 막음\n",
        "- 순환층은 자체적으로 드롭아웃 기능을 제공\n",
        "- SimpleRNN과 LSTM 클래스 모두 dropout 매개변수와 recurrnet_dropout 매개변수를 가지고 있음\n",
        "  "
      ],
      "metadata": {
        "id": "afFAgsWa3WU7"
      }
    },
    {
      "cell_type": "markdown",
      "source": [
        "- dropout 매개변수는 셀의 입력에 드롭아웃을 적용하고 recurrent_dropout은 순환되는 은닉 상태에 드롭아웃을 적용\n",
        "- 기술적인 문제로 인해 recurrent_dropout을 사용하면 GPU를 사용하여 모델을 훈련하지 못함\n",
        "  - 이 때문에 모델의 훈련 속도가 크게 느려짐"
      ],
      "metadata": {
        "id": "lnjq0D2w5ww7"
      }
    },
    {
      "cell_type": "markdown",
      "source": [
        "- LSTM 클래스에 dropout 매개변수를 0.3으로 지정하여 30%의 입력을 드롭아웃"
      ],
      "metadata": {
        "id": "8DjAuWDB6dex"
      }
    },
    {
      "cell_type": "code",
      "source": [
        "model2 = keras.Sequential()\n",
        "model2.add(keras.layers.Embedding(500, 16, input_length=100))\n",
        "model2.add(keras.layers.LSTM(8, dropout=0.3))\n",
        "model2.add(keras.layers.Dense(1, activation='sigmoid'))"
      ],
      "metadata": {
        "id": "S-eyGOhO6uMc"
      },
      "execution_count": 15,
      "outputs": []
    },
    {
      "cell_type": "code",
      "source": [
        "rmsprop = keras.optimizers.RMSprop(learning_rate=1e-4)\n",
        "model2.compile(optimizer=rmsprop, loss = 'binary_crossentropy',\n",
        "              metrics=['accuracy'])\n",
        "checkpoint_cb = keras.callbacks.ModelCheckpoint('best-dropout-model.h5',\n",
        "                                                 save_best_only=True)\n",
        "early_stopping_cb = keras.callbacks.EarlyStopping(patience=3,\n",
        "                                                  restore_best_weights=True)\n",
        "history = model2.fit(train_seq, train_target, epochs=100, batch_size=64,\n",
        "                    validation_data=(val_seq, val_target),\n",
        "                    callbacks=[checkpoint_cb, early_stopping_cb])"
      ],
      "metadata": {
        "id": "XVR5N7Rt7siY",
        "outputId": "aa526742-662e-4c21-f28c-bed2257ce26c",
        "colab": {
          "base_uri": "https://localhost:8080/"
        }
      },
      "execution_count": 16,
      "outputs": [
        {
          "output_type": "stream",
          "name": "stdout",
          "text": [
            "Epoch 1/100\n",
            "313/313 [==============================] - 14s 37ms/step - loss: 0.6925 - accuracy: 0.5213 - val_loss: 0.6918 - val_accuracy: 0.5640\n",
            "Epoch 2/100\n",
            "313/313 [==============================] - 11s 36ms/step - loss: 0.6903 - accuracy: 0.5796 - val_loss: 0.6890 - val_accuracy: 0.6126\n",
            "Epoch 3/100\n",
            "313/313 [==============================] - 11s 36ms/step - loss: 0.6858 - accuracy: 0.6264 - val_loss: 0.6829 - val_accuracy: 0.6426\n",
            "Epoch 4/100\n",
            "313/313 [==============================] - 11s 36ms/step - loss: 0.6750 - accuracy: 0.6647 - val_loss: 0.6645 - val_accuracy: 0.6822\n",
            "Epoch 5/100\n",
            "313/313 [==============================] - 11s 36ms/step - loss: 0.6329 - accuracy: 0.6978 - val_loss: 0.5980 - val_accuracy: 0.7220\n",
            "Epoch 6/100\n",
            "313/313 [==============================] - 11s 36ms/step - loss: 0.5804 - accuracy: 0.7309 - val_loss: 0.5634 - val_accuracy: 0.7380\n",
            "Epoch 7/100\n",
            "313/313 [==============================] - 11s 35ms/step - loss: 0.5560 - accuracy: 0.7448 - val_loss: 0.5456 - val_accuracy: 0.7472\n",
            "Epoch 8/100\n",
            "313/313 [==============================] - 11s 36ms/step - loss: 0.5388 - accuracy: 0.7548 - val_loss: 0.5303 - val_accuracy: 0.7622\n",
            "Epoch 9/100\n",
            "313/313 [==============================] - 12s 40ms/step - loss: 0.5235 - accuracy: 0.7628 - val_loss: 0.5168 - val_accuracy: 0.7676\n",
            "Epoch 10/100\n",
            "313/313 [==============================] - 11s 36ms/step - loss: 0.5095 - accuracy: 0.7718 - val_loss: 0.5044 - val_accuracy: 0.7742\n",
            "Epoch 11/100\n",
            "313/313 [==============================] - 11s 36ms/step - loss: 0.4960 - accuracy: 0.7782 - val_loss: 0.5001 - val_accuracy: 0.7712\n",
            "Epoch 12/100\n",
            "313/313 [==============================] - 11s 35ms/step - loss: 0.4878 - accuracy: 0.7828 - val_loss: 0.4872 - val_accuracy: 0.7774\n",
            "Epoch 13/100\n",
            "313/313 [==============================] - 11s 36ms/step - loss: 0.4772 - accuracy: 0.7879 - val_loss: 0.4775 - val_accuracy: 0.7836\n",
            "Epoch 14/100\n",
            "313/313 [==============================] - 11s 36ms/step - loss: 0.4703 - accuracy: 0.7889 - val_loss: 0.4710 - val_accuracy: 0.7872\n",
            "Epoch 15/100\n",
            "313/313 [==============================] - 12s 38ms/step - loss: 0.4637 - accuracy: 0.7941 - val_loss: 0.4659 - val_accuracy: 0.7866\n",
            "Epoch 16/100\n",
            "313/313 [==============================] - 11s 37ms/step - loss: 0.4560 - accuracy: 0.7973 - val_loss: 0.4608 - val_accuracy: 0.7888\n",
            "Epoch 17/100\n",
            "313/313 [==============================] - 12s 38ms/step - loss: 0.4513 - accuracy: 0.7970 - val_loss: 0.4572 - val_accuracy: 0.7912\n",
            "Epoch 18/100\n",
            "313/313 [==============================] - 11s 37ms/step - loss: 0.4491 - accuracy: 0.7961 - val_loss: 0.4533 - val_accuracy: 0.7900\n",
            "Epoch 19/100\n",
            "313/313 [==============================] - 16s 52ms/step - loss: 0.4441 - accuracy: 0.7988 - val_loss: 0.4502 - val_accuracy: 0.7930\n",
            "Epoch 20/100\n",
            "313/313 [==============================] - 14s 45ms/step - loss: 0.4411 - accuracy: 0.8015 - val_loss: 0.4477 - val_accuracy: 0.7940\n",
            "Epoch 21/100\n",
            "313/313 [==============================] - 14s 44ms/step - loss: 0.4377 - accuracy: 0.8013 - val_loss: 0.4494 - val_accuracy: 0.7912\n",
            "Epoch 22/100\n",
            "313/313 [==============================] - 11s 36ms/step - loss: 0.4361 - accuracy: 0.8037 - val_loss: 0.4446 - val_accuracy: 0.7964\n",
            "Epoch 23/100\n",
            "313/313 [==============================] - 12s 37ms/step - loss: 0.4317 - accuracy: 0.8062 - val_loss: 0.4442 - val_accuracy: 0.7926\n",
            "Epoch 24/100\n",
            "313/313 [==============================] - 11s 36ms/step - loss: 0.4311 - accuracy: 0.8047 - val_loss: 0.4419 - val_accuracy: 0.7976\n",
            "Epoch 25/100\n",
            "313/313 [==============================] - 11s 36ms/step - loss: 0.4271 - accuracy: 0.8074 - val_loss: 0.4399 - val_accuracy: 0.7954\n",
            "Epoch 26/100\n",
            "313/313 [==============================] - 11s 36ms/step - loss: 0.4254 - accuracy: 0.8084 - val_loss: 0.4389 - val_accuracy: 0.7954\n",
            "Epoch 27/100\n",
            "313/313 [==============================] - 12s 37ms/step - loss: 0.4254 - accuracy: 0.8090 - val_loss: 0.4372 - val_accuracy: 0.7966\n",
            "Epoch 28/100\n",
            "313/313 [==============================] - 12s 38ms/step - loss: 0.4247 - accuracy: 0.8091 - val_loss: 0.4364 - val_accuracy: 0.7978\n",
            "Epoch 29/100\n",
            "313/313 [==============================] - 11s 37ms/step - loss: 0.4222 - accuracy: 0.8091 - val_loss: 0.4354 - val_accuracy: 0.7990\n",
            "Epoch 30/100\n",
            "313/313 [==============================] - 16s 51ms/step - loss: 0.4216 - accuracy: 0.8080 - val_loss: 0.4348 - val_accuracy: 0.7974\n",
            "Epoch 31/100\n",
            "313/313 [==============================] - 11s 36ms/step - loss: 0.4200 - accuracy: 0.8097 - val_loss: 0.4338 - val_accuracy: 0.7996\n",
            "Epoch 32/100\n",
            "313/313 [==============================] - 11s 36ms/step - loss: 0.4192 - accuracy: 0.8109 - val_loss: 0.4335 - val_accuracy: 0.7972\n",
            "Epoch 33/100\n",
            "313/313 [==============================] - 11s 36ms/step - loss: 0.4184 - accuracy: 0.8105 - val_loss: 0.4319 - val_accuracy: 0.7986\n",
            "Epoch 34/100\n",
            "313/313 [==============================] - 11s 36ms/step - loss: 0.4180 - accuracy: 0.8109 - val_loss: 0.4315 - val_accuracy: 0.7996\n",
            "Epoch 35/100\n",
            "313/313 [==============================] - 12s 40ms/step - loss: 0.4161 - accuracy: 0.8116 - val_loss: 0.4310 - val_accuracy: 0.7992\n",
            "Epoch 36/100\n",
            "313/313 [==============================] - 11s 36ms/step - loss: 0.4147 - accuracy: 0.8115 - val_loss: 0.4315 - val_accuracy: 0.8016\n",
            "Epoch 37/100\n",
            "313/313 [==============================] - 12s 38ms/step - loss: 0.4137 - accuracy: 0.8135 - val_loss: 0.4323 - val_accuracy: 0.7964\n",
            "Epoch 38/100\n",
            "313/313 [==============================] - 12s 38ms/step - loss: 0.4133 - accuracy: 0.8105 - val_loss: 0.4319 - val_accuracy: 0.7972\n"
          ]
        }
      ]
    },
    {
      "cell_type": "markdown",
      "source": [
        "- 검증 손실이 약간 향상"
      ],
      "metadata": {
        "id": "4IUXaRoQ8Ott"
      }
    },
    {
      "cell_type": "code",
      "source": [
        "plt.plot(history.history['loss'])\n",
        "plt.plot(history.history['val_loss'])\n",
        "plt.xlabel('epoch')\n",
        "plt.ylabel('loss')\n",
        "plt.legend(['train', 'val'])\n",
        "plt.show()"
      ],
      "metadata": {
        "id": "fUQQOC3r8Rti",
        "outputId": "a29aefa6-0eb0-4291-dba4-4d4cfb591d48",
        "colab": {
          "base_uri": "https://localhost:8080/",
          "height": 279
        }
      },
      "execution_count": 17,
      "outputs": [
        {
          "output_type": "display_data",
          "data": {
            "text/plain": [
              "<Figure size 432x288 with 1 Axes>"
            ],
            "image/png": "[encoded data removed]"
          },
          "metadata": {
            "needs_background": "light"
          }
        }
      ]
    },
    {
      "cell_type": "markdown",
      "source": [
        "- LSTM 층에 적용한 드롭아웃이 효과를 발휘\n",
        "- 훈련 손실과 검증 손실 간의 차이가 좁혀진 것을 확인"
      ],
      "metadata": {
        "id": "1lwDcTxy8dr2"
      }
    },
    {
      "cell_type": "markdown",
      "source": [
        "## 2개의 층을 연결하기"
      ],
      "metadata": {
        "id": "IJ5g3uKC8rwK"
      }
    },
    {
      "cell_type": "markdown",
      "source": [
        "- 순환층을 연결할 때는 한 가지 주의할 점이 존재\n",
        "- 순환층의 은닉 상태는 샘플의 마지막 타임스탭에 대한 은닉 상태만 다음 층으로 전달\n",
        "- 하지만 순환층을 쌓게 되면 모든 순환층에 순차 데이터가 필요\n",
        "  - 앞쪽의 순환층이 모든 타임스텝에 대한 은닉 상태를 출력해야함\n",
        "- 오직 마지막 순환층만 마지막 타임스텝의 은닉 상태를 출력해야함"
      ],
      "metadata": {
        "id": "v9fegufT8u9l"
      }
    },
    {
      "cell_type": "markdown",
      "source": [
        "- 케라스의 순환층에서 모든 타입스텝의 은닉 상태를 출력하려면 마지막을 제외한 다른 모든 순환층에서 return_sequences 매개변수를 True로 지정하면 됨"
      ],
      "metadata": {
        "id": "8mES3WTK-XnI"
      }
    },
    {
      "cell_type": "code",
      "source": [
        "model3 = keras.Sequential()\n",
        "model3.add(keras.layers.Embedding(500, 16, input_length=100))\n",
        "model3.add(keras.layers.LSTM(8, dropout=0.3, return_sequences=True))\n",
        "model3.add(keras.layers.LSTM(8, dropout=0.3))\n",
        "model3.add(keras.layers.Dense(1, activation='sigmoid'))"
      ],
      "metadata": {
        "id": "S1JgUq2j-pQK"
      },
      "execution_count": 18,
      "outputs": []
    },
    {
      "cell_type": "markdown",
      "source": [
        "- 2개의 LSTM 층을 쌓았고 모두 드롭아웃을 0.3으로 지정\n",
        "- 첫 번째 LSTM 클래스에는 return_sequences 매개변수를 True로 지정한 것을 확인"
      ],
      "metadata": {
        "id": "8a_WPJXR_DA8"
      }
    },
    {
      "cell_type": "code",
      "source": [
        "model3.summary()"
      ],
      "metadata": {
        "id": "kZuAkh2w_Vzl",
        "outputId": "3f414481-46c1-441f-833c-b93297b333eb",
        "colab": {
          "base_uri": "https://localhost:8080/"
        }
      },
      "execution_count": 19,
      "outputs": [
        {
          "output_type": "stream",
          "name": "stdout",
          "text": [
            "Model: \"sequential_4\"\n",
            "_________________________________________________________________\n",
            " Layer (type)                Output Shape              Param #   \n",
            "=================================================================\n",
            " embedding_4 (Embedding)     (None, 100, 16)           8000      \n",
            "                                                                 \n",
            " lstm_4 (LSTM)               (None, 100, 8)            800       \n",
            "                                                                 \n",
            " lstm_5 (LSTM)               (None, 8)                 544       \n",
            "                                                                 \n",
            " dense_4 (Dense)             (None, 1)                 9         \n",
            "                                                                 \n",
            "=================================================================\n",
            "Total params: 9,353\n",
            "Trainable params: 9,353\n",
            "Non-trainable params: 0\n",
            "_________________________________________________________________\n"
          ]
        }
      ]
    },
    {
      "cell_type": "markdown",
      "source": [
        "- 첫 번째 LSTM 층이 모든 타임스텝(100개)의 은닉 상태를 출력하기 때문에 출력 크기가 (None, 100, 8)로 표시\n",
        "- 두 번째 LSTM 층의 출력 크기는 마지막 타임스텝의 은닉 상태만 출력하기 때문에 (None, 8)"
      ],
      "metadata": {
        "id": "FaJztINK_jqK"
      }
    },
    {
      "cell_type": "code",
      "source": [
        "rmsprop = keras.optimizers.RMSprop(learning_rate=1e-4)\n",
        "model3.compile(optimizer=rmsprop, loss = 'binary_crossentropy',\n",
        "              metrics=['accuracy'])\n",
        "checkpoint_cb = keras.callbacks.ModelCheckpoint('best-2rnn-model.h5',\n",
        "                                                 save_best_only=True)\n",
        "early_stopping_cb = keras.callbacks.EarlyStopping(patience=3,\n",
        "                                                  restore_best_weights=True)\n",
        "history = model3.fit(train_seq, train_target, epochs=100, batch_size=64,\n",
        "                    validation_data=(val_seq, val_target),\n",
        "                    callbacks=[checkpoint_cb, early_stopping_cb])"
      ],
      "metadata": {
        "id": "FkwaGDsJAKPu",
        "outputId": "9ff8e36b-254c-4e54-9eba-e4fe5b0efa93",
        "colab": {
          "base_uri": "https://localhost:8080/"
        }
      },
      "execution_count": 20,
      "outputs": [
        {
          "output_type": "stream",
          "name": "stdout",
          "text": [
            "Epoch 1/100\n",
            "313/313 [==============================] - 26s 71ms/step - loss: 0.6920 - accuracy: 0.5326 - val_loss: 0.6902 - val_accuracy: 0.5734\n",
            "Epoch 2/100\n",
            "313/313 [==============================] - 22s 70ms/step - loss: 0.6832 - accuracy: 0.6094 - val_loss: 0.6722 - val_accuracy: 0.6584\n",
            "Epoch 3/100\n",
            "313/313 [==============================] - 21s 68ms/step - loss: 0.6362 - accuracy: 0.6755 - val_loss: 0.5861 - val_accuracy: 0.7112\n",
            "Epoch 4/100\n",
            "313/313 [==============================] - 22s 69ms/step - loss: 0.5543 - accuracy: 0.7275 - val_loss: 0.5317 - val_accuracy: 0.7412\n",
            "Epoch 5/100\n",
            "313/313 [==============================] - 22s 71ms/step - loss: 0.5223 - accuracy: 0.7464 - val_loss: 0.5032 - val_accuracy: 0.7610\n",
            "Epoch 6/100\n",
            "313/313 [==============================] - 22s 71ms/step - loss: 0.5031 - accuracy: 0.7592 - val_loss: 0.4942 - val_accuracy: 0.7644\n",
            "Epoch 7/100\n",
            "313/313 [==============================] - 21s 67ms/step - loss: 0.4896 - accuracy: 0.7674 - val_loss: 0.4777 - val_accuracy: 0.7744\n",
            "Epoch 8/100\n",
            "313/313 [==============================] - 21s 67ms/step - loss: 0.4796 - accuracy: 0.7750 - val_loss: 0.4734 - val_accuracy: 0.7820\n",
            "Epoch 9/100\n",
            "313/313 [==============================] - 21s 67ms/step - loss: 0.4718 - accuracy: 0.7793 - val_loss: 0.4650 - val_accuracy: 0.7822\n",
            "Epoch 10/100\n",
            "313/313 [==============================] - 22s 69ms/step - loss: 0.4702 - accuracy: 0.7779 - val_loss: 0.4602 - val_accuracy: 0.7858\n",
            "Epoch 11/100\n",
            "313/313 [==============================] - 21s 68ms/step - loss: 0.4622 - accuracy: 0.7808 - val_loss: 0.4586 - val_accuracy: 0.7860\n",
            "Epoch 12/100\n",
            "313/313 [==============================] - 21s 68ms/step - loss: 0.4578 - accuracy: 0.7868 - val_loss: 0.4582 - val_accuracy: 0.7876\n",
            "Epoch 13/100\n",
            "313/313 [==============================] - 21s 68ms/step - loss: 0.4533 - accuracy: 0.7907 - val_loss: 0.4608 - val_accuracy: 0.7864\n",
            "Epoch 14/100\n",
            "313/313 [==============================] - 23s 74ms/step - loss: 0.4507 - accuracy: 0.7904 - val_loss: 0.4531 - val_accuracy: 0.7908\n",
            "Epoch 15/100\n",
            "313/313 [==============================] - 21s 68ms/step - loss: 0.4486 - accuracy: 0.7933 - val_loss: 0.4475 - val_accuracy: 0.7920\n",
            "Epoch 16/100\n",
            "313/313 [==============================] - 21s 68ms/step - loss: 0.4442 - accuracy: 0.7966 - val_loss: 0.4496 - val_accuracy: 0.7924\n",
            "Epoch 17/100\n",
            "313/313 [==============================] - 21s 68ms/step - loss: 0.4406 - accuracy: 0.7963 - val_loss: 0.4441 - val_accuracy: 0.7942\n",
            "Epoch 18/100\n",
            "313/313 [==============================] - 21s 68ms/step - loss: 0.4405 - accuracy: 0.7958 - val_loss: 0.4455 - val_accuracy: 0.7912\n",
            "Epoch 19/100\n",
            "313/313 [==============================] - 22s 69ms/step - loss: 0.4388 - accuracy: 0.8004 - val_loss: 0.4442 - val_accuracy: 0.7946\n",
            "Epoch 20/100\n",
            "313/313 [==============================] - 22s 69ms/step - loss: 0.4367 - accuracy: 0.7997 - val_loss: 0.4403 - val_accuracy: 0.7944\n",
            "Epoch 21/100\n",
            "313/313 [==============================] - 23s 73ms/step - loss: 0.4343 - accuracy: 0.8012 - val_loss: 0.4400 - val_accuracy: 0.7976\n",
            "Epoch 22/100\n",
            "313/313 [==============================] - 21s 68ms/step - loss: 0.4320 - accuracy: 0.8034 - val_loss: 0.4408 - val_accuracy: 0.7930\n",
            "Epoch 23/100\n",
            "313/313 [==============================] - 21s 68ms/step - loss: 0.4319 - accuracy: 0.8009 - val_loss: 0.4377 - val_accuracy: 0.7944\n",
            "Epoch 24/100\n",
            "313/313 [==============================] - 21s 68ms/step - loss: 0.4322 - accuracy: 0.8007 - val_loss: 0.4363 - val_accuracy: 0.7986\n",
            "Epoch 25/100\n",
            "313/313 [==============================] - 21s 68ms/step - loss: 0.4291 - accuracy: 0.8039 - val_loss: 0.4361 - val_accuracy: 0.7928\n",
            "Epoch 26/100\n",
            "313/313 [==============================] - 21s 68ms/step - loss: 0.4289 - accuracy: 0.8033 - val_loss: 0.4483 - val_accuracy: 0.7938\n",
            "Epoch 27/100\n",
            "313/313 [==============================] - 21s 68ms/step - loss: 0.4266 - accuracy: 0.8053 - val_loss: 0.4342 - val_accuracy: 0.7972\n",
            "Epoch 28/100\n",
            "313/313 [==============================] - 21s 68ms/step - loss: 0.4240 - accuracy: 0.8063 - val_loss: 0.4338 - val_accuracy: 0.7988\n",
            "Epoch 29/100\n",
            "313/313 [==============================] - 21s 68ms/step - loss: 0.4244 - accuracy: 0.8072 - val_loss: 0.4340 - val_accuracy: 0.8028\n",
            "Epoch 30/100\n",
            "313/313 [==============================] - 21s 68ms/step - loss: 0.4215 - accuracy: 0.8069 - val_loss: 0.4321 - val_accuracy: 0.7996\n",
            "Epoch 31/100\n",
            "313/313 [==============================] - 21s 68ms/step - loss: 0.4230 - accuracy: 0.8083 - val_loss: 0.4312 - val_accuracy: 0.8014\n",
            "Epoch 32/100\n",
            "313/313 [==============================] - 21s 68ms/step - loss: 0.4219 - accuracy: 0.8077 - val_loss: 0.4318 - val_accuracy: 0.8042\n",
            "Epoch 33/100\n",
            "313/313 [==============================] - 21s 68ms/step - loss: 0.4206 - accuracy: 0.8080 - val_loss: 0.4306 - val_accuracy: 0.8030\n",
            "Epoch 34/100\n",
            "313/313 [==============================] - 21s 68ms/step - loss: 0.4198 - accuracy: 0.8094 - val_loss: 0.4310 - val_accuracy: 0.8016\n",
            "Epoch 35/100\n",
            "313/313 [==============================] - 21s 68ms/step - loss: 0.4185 - accuracy: 0.8081 - val_loss: 0.4343 - val_accuracy: 0.7984\n",
            "Epoch 36/100\n",
            "313/313 [==============================] - 21s 68ms/step - loss: 0.4169 - accuracy: 0.8095 - val_loss: 0.4294 - val_accuracy: 0.8048\n",
            "Epoch 37/100\n",
            "313/313 [==============================] - 21s 68ms/step - loss: 0.4185 - accuracy: 0.8072 - val_loss: 0.4287 - val_accuracy: 0.8028\n",
            "Epoch 38/100\n",
            "313/313 [==============================] - 21s 68ms/step - loss: 0.4164 - accuracy: 0.8104 - val_loss: 0.4288 - val_accuracy: 0.8032\n",
            "Epoch 39/100\n",
            "313/313 [==============================] - 21s 68ms/step - loss: 0.4152 - accuracy: 0.8116 - val_loss: 0.4282 - val_accuracy: 0.8070\n",
            "Epoch 40/100\n",
            "313/313 [==============================] - 21s 68ms/step - loss: 0.4139 - accuracy: 0.8084 - val_loss: 0.4273 - val_accuracy: 0.8058\n",
            "Epoch 41/100\n",
            "313/313 [==============================] - 21s 68ms/step - loss: 0.4150 - accuracy: 0.8121 - val_loss: 0.4276 - val_accuracy: 0.8042\n",
            "Epoch 42/100\n",
            "313/313 [==============================] - 21s 68ms/step - loss: 0.4127 - accuracy: 0.8145 - val_loss: 0.4264 - val_accuracy: 0.8048\n",
            "Epoch 43/100\n",
            "313/313 [==============================] - 21s 68ms/step - loss: 0.4137 - accuracy: 0.8127 - val_loss: 0.4274 - val_accuracy: 0.8060\n",
            "Epoch 44/100\n",
            "313/313 [==============================] - 21s 68ms/step - loss: 0.4104 - accuracy: 0.8126 - val_loss: 0.4267 - val_accuracy: 0.8056\n",
            "Epoch 45/100\n",
            "313/313 [==============================] - 21s 68ms/step - loss: 0.4108 - accuracy: 0.8105 - val_loss: 0.4290 - val_accuracy: 0.8028\n"
          ]
        }
      ]
    },
    {
      "cell_type": "markdown",
      "source": [
        "- 일반적으로 순환층을 쌓으면 성능이 높아짐"
      ],
      "metadata": {
        "id": "3NhcjMI8Ah0l"
      }
    },
    {
      "cell_type": "code",
      "source": [
        "plt.plot(history.history['loss'])\n",
        "plt.plot(history.history['val_loss'])\n",
        "plt.xlabel('epoch')\n",
        "plt.ylabel('loss')\n",
        "plt.legend(['train', 'val'])\n",
        "plt.show()"
      ],
      "metadata": {
        "id": "IkTT2J7OAnZt",
        "outputId": "339c5254-cccb-4885-96aa-75d0d2f8b691",
        "colab": {
          "base_uri": "https://localhost:8080/",
          "height": 279
        }
      },
      "execution_count": 21,
      "outputs": [
        {
          "output_type": "display_data",
          "data": {
            "text/plain": [
              "<Figure size 432x288 with 1 Axes>"
            ],
            "image/png": "[encoded data removed]"
          },
          "metadata": {
            "needs_background": "light"
          }
        }
      ]
    },
    {
      "cell_type": "markdown",
      "source": [
        "- 과대적합을 제어하면서 손실을 최대한 낮춤"
      ],
      "metadata": {
        "id": "B5zH2fQVAxHk"
      }
    },
    {
      "cell_type": "markdown",
      "source": [
        "## GRU 구조"
      ],
      "metadata": {
        "id": "YWh4M4rGA4G4"
      }
    },
    {
      "cell_type": "markdown",
      "source": [
        "- Gated Recurrent Unit\n",
        "- 이 셀은 LSTM을 간소화한 버전으로 생각 가능\n",
        "  - LSTM처럼 셀 상태를 계산하지 않고 은닉 상태 하나만 포함"
      ],
      "metadata": {
        "id": "cADCk_OuA67J"
      }
    },
    {
      "cell_type": "markdown",
      "source": [
        "- GRU 셀에는 은닉 상태와 입력에 가중치를 곱하고 절편을 더하는 작은 셀이 3개 들어 있음\n",
        "  - 2개는 시그모이드 활성화 함수를 사용하고 하나는 tanh 활성화 함수를 사용\n",
        "- 여기에서도 은닉 상태화 입력에 곱해지는 가중치를 합쳐서 나타냄"
      ],
      "metadata": {
        "id": "NbKc5PMyBmX4"
      }
    },
    {
      "cell_type": "markdown",
      "source": [
        "- 맨 왼쪽에서 $w_{z}$를 사용하는 셀의 출력이 은닉 상테에 바로 곱해져 삭제 게이트 역할을 수행\n",
        "- 이와 똑같은 출력을 1에서 뺀 다음에 가장 오른쪽 $w_{g}$를 사요하는 셀의 출력에 곱함\n",
        "  - 이는 입력되는 정보를 제어하는 역할을 수행\n",
        "- 가운데 $w_{r}$을 사용하는 셀에서 출력된 값은 $w_{g}$셀이 사용할 은닉 상태의 정보를 제어"
      ],
      "metadata": {
        "id": "5kKbTJaoCKWv"
      }
    },
    {
      "cell_type": "markdown",
      "source": [
        "- GRU 셀은 LSTM보다 가중치가 적기 때문에 계산량이 적지만 LSTM 못지않은 좋은 성능을 내는 것으로 알려짐"
      ],
      "metadata": {
        "id": "-s0D08iXFEhU"
      }
    },
    {
      "cell_type": "markdown",
      "source": [
        "## GRU 신경망 훈련하기"
      ],
      "metadata": {
        "id": "LGIuW7a2FS2-"
      }
    },
    {
      "cell_type": "code",
      "source": [
        "model4 = keras.Sequential()\n",
        "model4.add(keras.layers.Embedding(500, 16, input_length=100))\n",
        "model4.add(keras.layers.GRU(8))\n",
        "model4.add(keras.layers.Dense(1, activation='sigmoid'))"
      ],
      "metadata": {
        "id": "V78fj4n5FXqP"
      },
      "execution_count": 22,
      "outputs": []
    },
    {
      "cell_type": "code",
      "source": [
        "model4.summary()"
      ],
      "metadata": {
        "id": "U1Ff2KtOFr02",
        "outputId": "db9a2769-c42d-4ade-dae9-700648b576d9",
        "colab": {
          "base_uri": "https://localhost:8080/"
        }
      },
      "execution_count": 24,
      "outputs": [
        {
          "output_type": "stream",
          "name": "stdout",
          "text": [
            "Model: \"sequential_5\"\n",
            "_________________________________________________________________\n",
            " Layer (type)                Output Shape              Param #   \n",
            "=================================================================\n",
            " embedding_5 (Embedding)     (None, 100, 16)           8000      \n",
            "                                                                 \n",
            " gru (GRU)                   (None, 8)                 624       \n",
            "                                                                 \n",
            " dense_5 (Dense)             (None, 1)                 9         \n",
            "                                                                 \n",
            "=================================================================\n",
            "Total params: 8,633\n",
            "Trainable params: 8,633\n",
            "Non-trainable params: 0\n",
            "_________________________________________________________________\n"
          ]
        }
      ]
    },
    {
      "cell_type": "markdown",
      "source": [
        "- GRU 층의 모델 파라미터 개수를 계산\n",
        "  - GRU 셀에는 3개의 작은 셀이 존재\n",
        "- 작은 셀에는 입력과 은닉 상태에 곱하는 가중치와 절편이 존재\n",
        "- 입력에 곱하는 가중치는 $16 \\times 8 =128$이고 은닉상태에 곱하는 가중치는 $8 \\times 8 =64$개\n",
        "- 절편은 뉴런마다 하나씩이므로 8개\n",
        "- 모두 더하면 $128 + 64+8=200$개\n",
        "  - 이런 작은 셀이 3개이므로 모두 600개의 모델 파라미터가 필요\n",
        "\n",
        "- But) summary() 메서드의 출력은 624개"
      ],
      "metadata": {
        "id": "0wdRFY4KF1TA"
      }
    },
    {
      "cell_type": "markdown",
      "source": [
        "- GRU 셀의 초기 버전 계산\n",
        "  - 은닉 상태가 먼저 가중치와 곱해진 다음 가운데 셀의 출력과 곱해짐\n",
        "- 이전에는 입력과 은닉 상태에 곱해지는 가중치를 $w_{g}$로 별도로 표기했지만, 이번에는 $w_{x}$와 $w_{h}$로 나눔\n",
        "- 이렇게 나누어 계산하면 은닉 상태에 곱해지는 가중치 외에 절편이 별도로 필요\n",
        "  - 따라서, 작은 셀마다 하나씩 절편이 추가되고 8개의 뉴런이 있으므로 총 24개의 모델 파라미터가 더해짐\n",
        "  - GRU 층의 총 모델 파라미터 개수는 624개가 됨"
      ],
      "metadata": {
        "id": "C5UAWpSuHJkI"
      }
    },
    {
      "cell_type": "code",
      "source": [
        "rmsprop = keras.optimizers.RMSprop(learning_rate=1e-4)\n",
        "model4.compile(optimizer=rmsprop, loss = 'binary_crossentropy',\n",
        "              metrics=['accuracy'])\n",
        "checkpoint_cb = keras.callbacks.ModelCheckpoint('best-gru-model.h5',\n",
        "                                                 save_best_only=True)\n",
        "early_stopping_cb = keras.callbacks.EarlyStopping(patience=3,\n",
        "                                                  restore_best_weights=True)\n",
        "history = model4.fit(train_seq, train_target, epochs=100, batch_size=64,\n",
        "                    validation_data=(val_seq, val_target),\n",
        "                    callbacks=[checkpoint_cb, early_stopping_cb])"
      ],
      "metadata": {
        "id": "Qog4kBDEI_PS",
        "outputId": "d6ae17d7-9c74-469c-fd00-8d0e67011af0",
        "colab": {
          "base_uri": "https://localhost:8080/"
        }
      },
      "execution_count": 25,
      "outputs": [
        {
          "output_type": "stream",
          "name": "stdout",
          "text": [
            "Epoch 1/100\n",
            "313/313 [==============================] - 14s 39ms/step - loss: 0.6926 - accuracy: 0.5252 - val_loss: 0.6921 - val_accuracy: 0.5400\n",
            "Epoch 2/100\n",
            "313/313 [==============================] - 12s 37ms/step - loss: 0.6911 - accuracy: 0.5662 - val_loss: 0.6904 - val_accuracy: 0.5648\n",
            "Epoch 3/100\n",
            "313/313 [==============================] - 14s 46ms/step - loss: 0.6886 - accuracy: 0.5810 - val_loss: 0.6876 - val_accuracy: 0.5776\n",
            "Epoch 4/100\n",
            "313/313 [==============================] - 13s 40ms/step - loss: 0.6845 - accuracy: 0.5996 - val_loss: 0.6831 - val_accuracy: 0.5930\n",
            "Epoch 5/100\n",
            "313/313 [==============================] - 13s 41ms/step - loss: 0.6782 - accuracy: 0.6112 - val_loss: 0.6763 - val_accuracy: 0.6054\n",
            "Epoch 6/100\n",
            "313/313 [==============================] - 12s 38ms/step - loss: 0.6686 - accuracy: 0.6296 - val_loss: 0.6658 - val_accuracy: 0.6186\n",
            "Epoch 7/100\n",
            "313/313 [==============================] - 12s 39ms/step - loss: 0.6541 - accuracy: 0.6432 - val_loss: 0.6495 - val_accuracy: 0.6402\n",
            "Epoch 8/100\n",
            "313/313 [==============================] - 12s 37ms/step - loss: 0.6310 - accuracy: 0.6634 - val_loss: 0.6235 - val_accuracy: 0.6618\n",
            "Epoch 9/100\n",
            "313/313 [==============================] - 12s 37ms/step - loss: 0.5925 - accuracy: 0.6913 - val_loss: 0.5769 - val_accuracy: 0.7014\n",
            "Epoch 10/100\n",
            "313/313 [==============================] - 12s 37ms/step - loss: 0.5347 - accuracy: 0.7347 - val_loss: 0.5331 - val_accuracy: 0.7396\n",
            "Epoch 11/100\n",
            "313/313 [==============================] - 12s 37ms/step - loss: 0.5046 - accuracy: 0.7569 - val_loss: 0.5103 - val_accuracy: 0.7536\n",
            "Epoch 12/100\n",
            "313/313 [==============================] - 13s 40ms/step - loss: 0.4884 - accuracy: 0.7667 - val_loss: 0.4978 - val_accuracy: 0.7606\n",
            "Epoch 13/100\n",
            "313/313 [==============================] - 12s 37ms/step - loss: 0.4758 - accuracy: 0.7762 - val_loss: 0.4853 - val_accuracy: 0.7720\n",
            "Epoch 14/100\n",
            "313/313 [==============================] - 13s 42ms/step - loss: 0.4653 - accuracy: 0.7840 - val_loss: 0.4798 - val_accuracy: 0.7770\n",
            "Epoch 15/100\n",
            "313/313 [==============================] - 13s 40ms/step - loss: 0.4571 - accuracy: 0.7893 - val_loss: 0.4696 - val_accuracy: 0.7778\n",
            "Epoch 16/100\n",
            "313/313 [==============================] - 12s 39ms/step - loss: 0.4496 - accuracy: 0.7930 - val_loss: 0.4642 - val_accuracy: 0.7828\n",
            "Epoch 17/100\n",
            "313/313 [==============================] - 12s 39ms/step - loss: 0.4439 - accuracy: 0.7972 - val_loss: 0.4614 - val_accuracy: 0.7850\n",
            "Epoch 18/100\n",
            "313/313 [==============================] - 13s 41ms/step - loss: 0.4390 - accuracy: 0.7997 - val_loss: 0.4551 - val_accuracy: 0.7860\n",
            "Epoch 19/100\n",
            "313/313 [==============================] - 12s 38ms/step - loss: 0.4347 - accuracy: 0.8025 - val_loss: 0.4513 - val_accuracy: 0.7908\n",
            "Epoch 20/100\n",
            "313/313 [==============================] - 12s 38ms/step - loss: 0.4311 - accuracy: 0.8042 - val_loss: 0.4490 - val_accuracy: 0.7916\n",
            "Epoch 21/100\n",
            "313/313 [==============================] - 12s 38ms/step - loss: 0.4282 - accuracy: 0.8077 - val_loss: 0.4471 - val_accuracy: 0.7920\n",
            "Epoch 22/100\n",
            "313/313 [==============================] - 12s 37ms/step - loss: 0.4257 - accuracy: 0.8086 - val_loss: 0.4454 - val_accuracy: 0.7946\n",
            "Epoch 23/100\n",
            "313/313 [==============================] - 12s 38ms/step - loss: 0.4239 - accuracy: 0.8091 - val_loss: 0.4442 - val_accuracy: 0.7942\n",
            "Epoch 24/100\n",
            "313/313 [==============================] - 12s 38ms/step - loss: 0.4221 - accuracy: 0.8108 - val_loss: 0.4453 - val_accuracy: 0.7908\n",
            "Epoch 25/100\n",
            "313/313 [==============================] - 12s 37ms/step - loss: 0.4206 - accuracy: 0.8122 - val_loss: 0.4429 - val_accuracy: 0.7954\n",
            "Epoch 26/100\n",
            "313/313 [==============================] - 12s 38ms/step - loss: 0.4190 - accuracy: 0.8138 - val_loss: 0.4443 - val_accuracy: 0.7962\n",
            "Epoch 27/100\n",
            "313/313 [==============================] - 12s 38ms/step - loss: 0.4183 - accuracy: 0.8122 - val_loss: 0.4412 - val_accuracy: 0.7976\n",
            "Epoch 28/100\n",
            "313/313 [==============================] - 12s 37ms/step - loss: 0.4170 - accuracy: 0.8144 - val_loss: 0.4410 - val_accuracy: 0.8002\n",
            "Epoch 29/100\n",
            "313/313 [==============================] - 12s 38ms/step - loss: 0.4164 - accuracy: 0.8136 - val_loss: 0.4424 - val_accuracy: 0.7928\n",
            "Epoch 30/100\n",
            "313/313 [==============================] - 12s 38ms/step - loss: 0.4158 - accuracy: 0.8145 - val_loss: 0.4399 - val_accuracy: 0.7984\n",
            "Epoch 31/100\n",
            "313/313 [==============================] - 12s 39ms/step - loss: 0.4152 - accuracy: 0.8144 - val_loss: 0.4412 - val_accuracy: 0.7984\n",
            "Epoch 32/100\n",
            "313/313 [==============================] - 12s 39ms/step - loss: 0.4142 - accuracy: 0.8156 - val_loss: 0.4392 - val_accuracy: 0.7980\n",
            "Epoch 33/100\n",
            "313/313 [==============================] - 12s 39ms/step - loss: 0.4140 - accuracy: 0.8148 - val_loss: 0.4428 - val_accuracy: 0.7966\n",
            "Epoch 34/100\n",
            "313/313 [==============================] - 12s 40ms/step - loss: 0.4129 - accuracy: 0.8158 - val_loss: 0.4406 - val_accuracy: 0.7966\n",
            "Epoch 35/100\n",
            "313/313 [==============================] - 12s 38ms/step - loss: 0.4125 - accuracy: 0.8156 - val_loss: 0.4409 - val_accuracy: 0.7970\n"
          ]
        }
      ]
    },
    {
      "cell_type": "markdown",
      "source": [
        "- LSTM과 비슷한 성능"
      ],
      "metadata": {
        "id": "G6Z-CkC-I5yB"
      }
    },
    {
      "cell_type": "code",
      "source": [
        "plt.plot(history.history['loss'])\n",
        "plt.plot(history.history['val_loss'])\n",
        "plt.xlabel('epoch')\n",
        "plt.ylabel('loss')\n",
        "plt.legend(['train', 'val'])\n",
        "plt.show()"
      ],
      "metadata": {
        "id": "DEMTj9AKJebc",
        "outputId": "7fdc83af-db15-4362-cd8f-6d54e9016ad6",
        "colab": {
          "base_uri": "https://localhost:8080/",
          "height": 279
        }
      },
      "execution_count": 26,
      "outputs": [
        {
          "output_type": "display_data",
          "data": {
            "text/plain": [
              "<Figure size 432x288 with 1 Axes>"
            ],
            "image/png": "[encoded data removed]"
          },
          "metadata": {
            "needs_background": "light"
          }
        }
      ]
    },
    {
      "cell_type": "markdown",
      "source": [
        "- 드롭아웃을 사용하지 않았기 때문에 이전보다 훈련 손실과 검증 손실 사이에 차이가 있지만 훈련 과정이 잘 수렴되고 있는 것을 확인 가능"
      ],
      "metadata": {
        "id": "TZaW17qpJohA"
      }
    },
    {
      "cell_type": "markdown",
      "source": [
        "## 마무리"
      ],
      "metadata": {
        "id": "iRxoyzYxJ9vm"
      }
    },
    {
      "cell_type": "markdown",
      "source": [
        "### 키워드로 끝내는 핵심 포인트"
      ],
      "metadata": {
        "id": "vw7gmgcNKCgz"
      }
    },
    {
      "cell_type": "markdown",
      "source": [
        "- LSTM : 셀은 타임스텝이 긴 데이터를 효과적으로 학습하기 위해 고안된 순환층\n",
        "  - 입력 게이트, 삭제 게이트, 출력 게이트 역할을 하는 작은 셀이 포함되어 있음\n",
        "- LSTM 셀은 은닉 상태 외에 **셀 상태**를 출력.\n",
        "  - 셀 상태는 다음 층으로 전달되지 않으며 현재 셀에서만 순환됨\n",
        "- GRU 셀 : LSTM 셀의 간소화 버전으로 생각할 수 있지만 LSTM 셀에 못지않은 성능을 냄"
      ],
      "metadata": {
        "id": "vO4iXRuwKFw4"
      }
    },
    {
      "cell_type": "markdown",
      "source": [
        "### 핵심 패키지와 함수"
      ],
      "metadata": {
        "id": "G4D6B8ixKxSA"
      }
    },
    {
      "cell_type": "markdown",
      "source": [
        "> TensorFlow\n",
        "- LSTM : LSTM 셀을 사용한 순환층 클래스\n",
        "  - 첫 번째 매개변수 : 뉴런의 개수를 지정\n",
        "  - dropout : 입력에 대한 드롭아웃 비율을 지정\n",
        "  - return_sequences : 모든 타임스텝의 은닉 상태를 출력할 지 결정\n",
        "    - 기본값 : False\n",
        "- GRU : GRU 셀을 사용한 순환층 클래스\n",
        "  - 첫 번째 매개변수 : 뉴런의 개수를 지정\n",
        "  - dropout : 입력에 대한 드롭아웃 비율을 지정\n",
        "  - return_sequences : 모든 타임스텝의 은닉 상태를 출력할 지 결정\n",
        "    - 기본값 : False"
      ],
      "metadata": {
        "id": "iu010JptK3R9"
      }
    }
  ]
}