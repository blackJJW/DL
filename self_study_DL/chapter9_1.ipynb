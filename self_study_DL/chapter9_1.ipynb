{
  "nbformat": 4,
  "nbformat_minor": 0,
  "metadata": {
    "colab": {
      "name": "chapter9_1.ipynb",
      "provenance": [],
      "authorship_tag": "ABX9TyMHqYrWt5eB3Diau2b6bhlB",
      "include_colab_link": true
    },
    "kernelspec": {
      "name": "python3",
      "display_name": "Python 3"
    },
    "language_info": {
      "name": "python"
    }
  },
  "cells": [
    {
      "cell_type": "markdown",
      "metadata": {
        "id": "view-in-github",
        "colab_type": "text"
      },
      "source": [
        "<a href=\"https://colab.research.google.com/github/blackJJW/DL/blob/main/self_study_DL/chapter9_1.ipynb\" target=\"_parent\"><img src=\"https://colab.research.google.com/assets/colab-badge.svg\" alt=\"Open In Colab\"/></a>"
      ]
    },
    {
      "cell_type": "markdown",
      "source": [
        "# 09-1 순차 데이터와 순환 신경망"
      ],
      "metadata": {
        "id": "NZr1hWEFQngx"
      }
    },
    {
      "cell_type": "markdown",
      "source": [
        "## 순차 데이터"
      ],
      "metadata": {
        "id": "oY13vQMORV-9"
      }
    },
    {
      "cell_type": "markdown",
      "source": [
        "- 순차 데이터(sequential data)는 시계열 데이터(time series data)와 같이 순서에 의미가 있는 데이터"
      ],
      "metadata": {
        "id": "R4seLV1cRYVE"
      }
    },
    {
      "cell_type": "markdown",
      "source": [
        "- 텍스트 데이터는 단어의 순서가 중요한 순서 데이터\n",
        "- 순서를 유지하며 신경망에 주입해야 함\n",
        "- 단어의 순서를 마구 섞어서 주입하면 안됨"
      ],
      "metadata": {
        "id": "MIWU1SohSHap"
      }
    },
    {
      "cell_type": "markdown",
      "source": [
        "- 순차 데이터를 다룰 때는 이전에 입력한 데이터를 기억하는 기능이 필요"
      ],
      "metadata": {
        "id": "YcsKm8E_XKMr"
      }
    },
    {
      "cell_type": "markdown",
      "source": [
        "- 완전 연결 신경망이나 합성곱 신경망은 이런 기능이 없음\n",
        "- 하나의 샘플 (또는 하나의 배치)을 사용하여 정방향 계산을 수행하고 나면 그 샘플은 버려지고 다름 샘플은 버려지고 다음 샘플을 처리할 때 재사용하지 않음"
      ],
      "metadata": {
        "id": "7aoAzmE9XUhh"
      }
    },
    {
      "cell_type": "markdown",
      "source": [
        "- 입력 데이터의 흐름으로만 전달되는 신경망을 **피드포워드 신경망(feedforward neural network, FFNN)**\n",
        "- 완전 연결 신경망과 합성곱 신경망이 모두 피드포워드 신경망"
      ],
      "metadata": {
        "id": "jj83o82kYzK1"
      }
    },
    {
      "cell_type": "markdown",
      "source": [
        "- 다음 샘플을 위해서 이전 데이터가 신경망 층에 순환될 필요가 있는 신경망 : **순환 신경망**"
      ],
      "metadata": {
        "id": "pAq2d_LgaSd3"
      }
    },
    {
      "cell_type": "markdown",
      "source": [
        "## 순환 신경망"
      ],
      "metadata": {
        "id": "VBfkHFQmadOB"
      }
    },
    {
      "cell_type": "markdown",
      "source": [
        "- 순환 신경망(recurrent neural network, RNN)은 일반적으로 완전 연결 신경망과 비슷\n",
        "- 완전 연결 신경망에 이전 데이터의 처리 흐름을 순환하는 고리 하나만 추가\n",
        "- 뉴런의 출력이 다시 자기 자신으로 전달\n",
        "  - 어떤 샘플을 처리할 때 바로 이전에 사용했던 데이터를 재사용"
      ],
      "metadata": {
        "id": "3Gj1V-eyafVe"
      }
    },
    {
      "cell_type": "markdown",
      "source": [
        "## 마무리"
      ],
      "metadata": {
        "id": "8E8yHijafMVD"
      }
    },
    {
      "cell_type": "markdown",
      "source": [
        "### 키워드로 끝내는 핵심 포인트"
      ],
      "metadata": {
        "id": "6g4qCOtjfN97"
      }
    },
    {
      "cell_type": "markdown",
      "source": [
        "> 순차 데이터 : 텍스트나 시계열 데이터와 같이 순서에 의미가 있는 데이터\n",
        "- ex) 글, 대화, 일자별 날씨, 일자별 판매 실적 등\n",
        "\n",
        "> 순환 신경망 : 순차 데이터에 잘 맞는 인공 신경망의 한 종류\n",
        "- 순차 데이터를 처리하기 위해 고안된 순환층을 1개 이상 사용한 신경망\n",
        "\n",
        "> 셀 : 순환 신경망에서 종종 순환층을 부르는 말\n",
        "- 일반적인 인공 신경망과 마찬가지로 하나의 셀은 여러 개의 뉴런으로 구성\n",
        "\n",
        "> 은닉 상태 : 순환 신경망에서는 셀의 출력을 특별히 부르는 말\n",
        "- 은닉 상태는 다음 층으로 전달될 뿐만 아니라 셀이 다음 타임스텝의 데이터를 처리할 때 재사용"
      ],
      "metadata": {
        "id": "6AbZ0XbxfRC2"
      }
    }
  ]
}