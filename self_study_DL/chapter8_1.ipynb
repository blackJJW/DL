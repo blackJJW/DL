{
  "nbformat": 4,
  "nbformat_minor": 0,
  "metadata": {
    "colab": {
      "name": "chapter8_1",
      "provenance": [],
      "authorship_tag": "ABX9TyPwY14a4QdU2ZosEJlihIEL",
      "include_colab_link": true
    },
    "kernelspec": {
      "name": "python3",
      "display_name": "Python 3"
    },
    "language_info": {
      "name": "python"
    }
  },
  "cells": [
    {
      "cell_type": "markdown",
      "metadata": {
        "id": "view-in-github",
        "colab_type": "text"
      },
      "source": [
        "<a href=\"https://colab.research.google.com/github/blackJJW/DL/blob/main/self_study_DL/chapter8_1.ipynb\" target=\"_parent\"><img src=\"https://colab.research.google.com/assets/colab-badge.svg\" alt=\"Open In Colab\"/></a>"
      ]
    },
    {
      "cell_type": "markdown",
      "source": [
        "# Book : '혼자 공부하는 머신러닝 + 딥러닝', 박해선 지음, 한빛미디어"
      ],
      "metadata": {
        "id": "Afzz5egZyvu3"
      }
    },
    {
      "cell_type": "markdown",
      "source": [
        "# 08-1 합성곱 신경망의 구성 요소"
      ],
      "metadata": {
        "id": "QS0P_zq7ysOG"
      }
    },
    {
      "cell_type": "markdown",
      "source": [
        "## 합성곱(convolution)"
      ],
      "metadata": {
        "id": "1z1oq8rCy-0l"
      }
    },
    {
      "cell_type": "markdown",
      "source": [
        "- 밀집층에는 뉴런마다 입력 개수만큼의 가중치가 있음\n",
        "  - 모든 입력에 가중치를 곱합\n",
        "  - 인공 신경망은 처음에 가중치 $w_{1} \\sim w_{10}$과 절편 $b$를 랜덤하게 초기화 한 다음 에포크를 반복하면서 경사 하강법 알고리즘을 사용하여 낮아지도록 최적의 가중치와 절편을 찾아감\n",
        "    - 이것이 모델 훈련\n",
        "    - ex) 밀집층에 뉴런이 3개 있다면 출력은 3개\n",
        "      - 입력 개수에 상관없이 동일"
      ],
      "metadata": {
        "id": "ag_8-Rj2zDhv"
      }
    },
    {
      "cell_type": "markdown",
      "source": [
        "- 합성곱은 밀집층의 계산과 조금 다름\n",
        "  - 입력 데이터 전체에 가중치를 적용하는 것이 아니라 일부에 가중치를 곱해야함\n",
        "  "
      ],
      "metadata": {
        "id": "VTZj8gu27yu5"
      }
    },
    {
      "cell_type": "markdown",
      "source": [
        "1. 뉴런이 3개 가중치를 가진다고 가정\n",
        "2. 가중치 $w_{1} \\sim w_{3}$이 입력의 처음 3개 특성과 곱해져 1개의 출력을 생성\n",
        "3. 다음, 뉴런이 한 칸 아래로 이동, 두 번째부터 네 번째 특성과 곱해져 새로운 츨력을 생성\n",
        "  - 첫 번째 합성곱에서 사옹된 가중치 $w_{1} \\sim w_{3}$과 절편 $b$가 두 번째 합성곱에도 동일하게 사용됨\n",
        "  - 뉴런의 가중치가 3개이기 때문에 모두 8개의 출력이 만들어짐\n",
        "- 이렇게 한 칸씩 아래로 이동하면서 출력이 만드는 것이 합성곱\n"
      ],
      "metadata": {
        "id": "7St2DKFBJRuq"
      }
    },
    {
      "cell_type": "markdown",
      "source": [
        "- 밀집층의 뉴런은 입력 개수 만큼 10개의 가중치를 가지고 1개의 출력을 생성\n",
        "- 합성곱 층의 뉴런은 3개의 가중치를 가지고 8개의 출력을 생성\n",
        "  - 합성곱 층의 뉴런에 있는 가중치 개수는 정하기 나름 -> 또 다른 하이퍼파라미터"
      ],
      "metadata": {
        "id": "hleC9V7lajLV"
      }
    },
    {
      "cell_type": "markdown",
      "source": [
        "- **합성곱 신경망(convolutional neural network. CNN)**에서는 완전 신경망과는 달리 뉴런은 **필터(filter)** 또는 **커널(kernel)**이라고 부름"
      ],
      "metadata": {
        "id": "2i4wfbLxIrra"
      }
    },
    {
      "cell_type": "markdown",
      "source": [
        "- 케라스 API와 이름을 맞추어 뉴런의 개수를 이야기 할 때는 필터\n",
        "- 입력에 곱해지는 가중치를 의미할 때는 커널"
      ],
      "metadata": {
        "id": "LIKnplbTJZ_A"
      }
    },
    {
      "cell_type": "markdown",
      "source": [
        "- 합성곱의 장점은 1차원이 아니라 2차원 입력에도 적용 가능\n",
        "- 입력이 2차원 배열이면 필터도 2차원"
      ],
      "metadata": {
        "id": "WK9fx2d4J0Xm"
      }
    },
    {
      "cell_type": "markdown",
      "source": [
        "- 합성곱 계산을 총해 얻은 출력을 특성 맵(feature map)이라고 부름"
      ],
      "metadata": {
        "id": "n01GPCTzKoCy"
      }
    },
    {
      "cell_type": "markdown",
      "source": [
        "## 케라스 합성곱 층"
      ],
      "metadata": {
        "id": "sJEVOgOTKiie"
      }
    },
    {
      "cell_type": "code",
      "source": [
        "from tensorflow import keras\n",
        "keras.layers.Conv2D(10, kernel_size=(3, 3), activation='relu')"
      ],
      "metadata": {
        "colab": {
          "base_uri": "https://localhost:8080/"
        },
        "id": "ThtVF2tURfd0",
        "outputId": "b19872dc-291a-4539-f4af-e164c6b31e9d"
      },
      "execution_count": 1,
      "outputs": [
        {
          "output_type": "execute_result",
          "data": {
            "text/plain": [
              "<keras.layers.convolutional.Conv2D at 0x7f97f1cf4710>"
            ]
          },
          "metadata": {},
          "execution_count": 1
        }
      ]
    },
    {
      "cell_type": "markdown",
      "source": [
        "- 첫 번째 매개변수는 필터의 개수\n",
        "- kernel_size : 필터에 사용할 커널의 크기를 지정\n",
        "  - 필터의 개수와 커널의 크기는 반드시 지정해야 하는 매개변수\n",
        "- 마지막으로 활성화 함수 지정"
      ],
      "metadata": {
        "id": "R-B6CzTnRbHV"
      }
    },
    {
      "cell_type": "markdown",
      "source": [
        "## 마무리"
      ],
      "metadata": {
        "id": "uU3NQnV2SUi3"
      }
    },
    {
      "cell_type": "markdown",
      "source": [
        "### 키워드로 끝내는 핵심 포인트"
      ],
      "metadata": {
        "id": "dZkRcsnSVWhi"
      }
    },
    {
      "cell_type": "markdown",
      "source": [
        "> 합성곱 : 밀집층과 비슷하게 입력과 가중치를 곱하고 절편을 더하는 선형 계산\n",
        "  - 밀집층과는 달리 각 합성곱은 입력 전체가 아니라 일부만 사용하여 선형 계산을 수행\n",
        "\n",
        "> 필터 : 합성곱 층의 필터는 밀집층의 뉴런에 해당. 필터의 가중치와 절편을 종종 커널이라고 부름.\n",
        "  - 자주 사용되는 커널의 크기는 (3, 3) 또는 (5, 5)\n",
        "  - 커널의 깊이는 입력의 깊이와 같음\n",
        "\n",
        "> 특성 맵 : 합성곱 층이나 풀링 층의 출력 배열을 의미\n",
        "  - 필터 하나가 하나의 특성 맵을 생성\n",
        "  - 합성곱 층에서 5개의 필터를 적용하면 4개의 특성 맵이 만들어짐.\n",
        "\n",
        "> 패딩 : 합성곱 층의 입력 주위에 추가한 0으로 채워진 픽셀\n",
        "  - 패딩을 사용하지 않는 것을 밸리드 패딩\n",
        "  - 합성곱 층의 출력 크기를 입력과 동일하게 만들기 위해 입려게 패딩을 추가하는 것을 세임 패딩\n",
        "\n",
        "> 스트라이드 : 합성곱 층에서 필터가 입력 위를 이동하는 크기\n",
        "  - 합성곱 층에서 필터가 입력 위를 이동하는 크기\n",
        "  - 일반적으로 1픽셀을 사용\n",
        "\n",
        "> 풀링 : 가중치가 없고 특성 맵의 가로세로 크기를 줄이는 역할을 수행\n",
        "  - 대표적으로 최대 풀링과 평균 풀링이 있으며 (2, 2) 풀링으로 입력을 절반으로 줄임"
      ],
      "metadata": {
        "id": "ddsQYOhbVbpk"
      }
    }
  ]
}