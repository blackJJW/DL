{
  "nbformat": 4,
  "nbformat_minor": 0,
  "metadata": {
    "colab": {
      "name": "chapter8_1",
      "provenance": [],
      "authorship_tag": "ABX9TyMJKKfioPQP3mC6smJzDnek",
      "include_colab_link": true
    },
    "kernelspec": {
      "name": "python3",
      "display_name": "Python 3"
    },
    "language_info": {
      "name": "python"
    }
  },
  "cells": [
    {
      "cell_type": "markdown",
      "metadata": {
        "id": "view-in-github",
        "colab_type": "text"
      },
      "source": [
        "<a href=\"https://colab.research.google.com/github/blackJJW/DL/blob/main/self_study_DL/chapter8_1.ipynb\" target=\"_parent\"><img src=\"https://colab.research.google.com/assets/colab-badge.svg\" alt=\"Open In Colab\"/></a>"
      ]
    },
    {
      "cell_type": "markdown",
      "source": [
        "# Book : '혼자 공부하는 머신러닝 + 딥러닝', 박해선 지음, 한빛미디어"
      ],
      "metadata": {
        "id": "Afzz5egZyvu3"
      }
    },
    {
      "cell_type": "markdown",
      "source": [
        "# 08-1 합성곱 신경망의 구성 요소"
      ],
      "metadata": {
        "id": "QS0P_zq7ysOG"
      }
    },
    {
      "cell_type": "markdown",
      "source": [
        "## 합성곱(convolution)"
      ],
      "metadata": {
        "id": "1z1oq8rCy-0l"
      }
    },
    {
      "cell_type": "markdown",
      "source": [
        "- 밀집층에는 뉴런마다 입력 개수만큼의 가중치가 있음\n",
        "  - 모든 입력에 가중치를 곱합\n",
        "  - 인공 신경망은 처음에 가중치 $w_{1} \\sim w_{10}$과 절편 $b$를 랜덤하게 초기화 한 다음 에포크를 반복하면서 경사 하강법 알고리즘을 사용하여 낮아지도록 최적의 가중치와 절편을 찾아감\n",
        "    - 이것이 모델 훈련\n",
        "    - ex) 밀집층에 뉴런이 3개 있다면 출력은 3개\n",
        "      - 입력 개수에 상관없이 동일"
      ],
      "metadata": {
        "id": "ag_8-Rj2zDhv"
      }
    },
    {
      "cell_type": "markdown",
      "source": [
        "- 합성곱은 밀집층의 계산과 조금 다름\n",
        "  - 입력 데이터 전체에 가중치를 적용하는 것이 아니라 일부에 "
      ],
      "metadata": {
        "id": "VTZj8gu27yu5"
      }
    }
  ]
}