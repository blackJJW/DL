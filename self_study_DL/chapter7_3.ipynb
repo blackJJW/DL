{
  "nbformat": 4,
  "nbformat_minor": 0,
  "metadata": {
    "colab": {
      "name": "chapter7_3",
      "provenance": [],
      "authorship_tag": "ABX9TyNxlR03gdY+uGd+g9zgCIKc",
      "include_colab_link": true
    },
    "kernelspec": {
      "name": "python3",
      "display_name": "Python 3"
    },
    "language_info": {
      "name": "python"
    },
    "accelerator": "GPU"
  },
  "cells": [
    {
      "cell_type": "markdown",
      "metadata": {
        "id": "view-in-github",
        "colab_type": "text"
      },
      "source": [
        "<a href=\"https://colab.research.google.com/github/blackJJW/DL/blob/main/self_study_DL/chapter7_3.ipynb\" target=\"_parent\"><img src=\"https://colab.research.google.com/assets/colab-badge.svg\" alt=\"Open In Colab\"/></a>"
      ]
    },
    {
      "cell_type": "markdown",
      "source": [
        "# Book : '혼자 공부하는 머신러닝 + 딥러닝', 박해선 지음, 한빛미디어"
      ],
      "metadata": {
        "id": "5mMmNYnFd_bI"
      }
    },
    {
      "cell_type": "markdown",
      "source": [
        "# 07-3 신경망 모델 훈련"
      ],
      "metadata": {
        "id": "RmctvkpPeHtz"
      }
    },
    {
      "cell_type": "markdown",
      "source": [
        "## 손실 곡선"
      ],
      "metadata": {
        "id": "_tuL9i3NeMst"
      }
    },
    {
      "cell_type": "markdown",
      "source": [
        "- 케라스의 fit() 메서드는 HIstory 클래스를 반환\n",
        "- History 객체에는 훈련 과정에서 계산한 지표, 즉 손실과 정확도 값이 저장되어 있음."
      ],
      "metadata": {
        "id": "umnsrt1DePeX"
      }
    },
    {
      "cell_type": "code",
      "source": [
        "from tensorflow import keras\n",
        "from sklearn.model_selection import train_test_split\n",
        "\n",
        "(train_input, train_target), (test_input, test_target) = keras.datasets.fashion_mnist.load_data()\n",
        "\n",
        "train_scaled = train_input / 255.0\n",
        "train_scaled, val_scaled, train_target, val_target = train_test_split(\n",
        "    train_scaled, train_target, test_size = 0.2, random_state = 42\n",
        ")"
      ],
      "metadata": {
        "colab": {
          "base_uri": "https://localhost:8080/"
        },
        "id": "2EV6ls44euLm",
        "outputId": "f3811a6d-9121-461a-f33a-e7363b5a9561"
      },
      "execution_count": 1,
      "outputs": [
        {
          "output_type": "stream",
          "name": "stdout",
          "text": [
            "Downloading data from https://storage.googleapis.com/tensorflow/tf-keras-datasets/train-labels-idx1-ubyte.gz\n",
            "32768/29515 [=================================] - 0s 0us/step\n",
            "40960/29515 [=========================================] - 0s 0us/step\n",
            "Downloading data from https://storage.googleapis.com/tensorflow/tf-keras-datasets/train-images-idx3-ubyte.gz\n",
            "26427392/26421880 [==============================] - 0s 0us/step\n",
            "26435584/26421880 [==============================] - 0s 0us/step\n",
            "Downloading data from https://storage.googleapis.com/tensorflow/tf-keras-datasets/t10k-labels-idx1-ubyte.gz\n",
            "16384/5148 [===============================================================================================] - 0s 0us/step\n",
            "Downloading data from https://storage.googleapis.com/tensorflow/tf-keras-datasets/t10k-images-idx3-ubyte.gz\n",
            "4423680/4422102 [==============================] - 0s 0us/step\n",
            "4431872/4422102 [==============================] - 0s 0us/step\n"
          ]
        }
      ]
    },
    {
      "cell_type": "code",
      "source": [
        "def model_fn(a_layer = None):\n",
        "  model = keras.Sequential()\n",
        "  model.add(keras.layers.Flatten(input_shape=(28, 28)))\n",
        "  model.add(keras.layers.Dense(100, activation='relu'))\n",
        "\n",
        "  if a_layer:\n",
        "    model.add(a_layer)\n",
        "  \n",
        "  model.add(keras.layers.Dense(10, activation='softmax'))\n",
        "\n",
        "  return model"
      ],
      "metadata": {
        "id": "qeJxE7vJfZL8"
      },
      "execution_count": 2,
      "outputs": []
    },
    {
      "cell_type": "markdown",
      "source": [
        "- if 구문 제외, 이전 절에서 만든 것과 동일한 모델 생성\n",
        "- if 구문의 역할 : model_fn() 함수에 (a_layer 매개변수로) 케라스 층을 추가하면 은닉층 뒤에 또 하나의 층을 추가하는 것."
      ],
      "metadata": {
        "id": "AWpXpQN3gUFB"
      }
    },
    {
      "cell_type": "code",
      "source": [
        "model = model_fn()\n",
        "model.summary()"
      ],
      "metadata": {
        "colab": {
          "base_uri": "https://localhost:8080/"
        },
        "id": "EQyZp99mg8RF",
        "outputId": "dc6fea89-ea9b-46e1-b382-b03fef731926"
      },
      "execution_count": 3,
      "outputs": [
        {
          "output_type": "stream",
          "name": "stdout",
          "text": [
            "Model: \"sequential\"\n",
            "_________________________________________________________________\n",
            " Layer (type)                Output Shape              Param #   \n",
            "=================================================================\n",
            " flatten (Flatten)           (None, 784)               0         \n",
            "                                                                 \n",
            " dense (Dense)               (None, 100)               78500     \n",
            "                                                                 \n",
            " dense_1 (Dense)             (None, 10)                1010      \n",
            "                                                                 \n",
            "=================================================================\n",
            "Total params: 79,510\n",
            "Trainable params: 79,510\n",
            "Non-trainable params: 0\n",
            "_________________________________________________________________\n"
          ]
        }
      ]
    },
    {
      "cell_type": "markdown",
      "source": [
        "- fit() 메서드의 결과를 history 변수에 저장"
      ],
      "metadata": {
        "id": "ObB7ralvhA9W"
      }
    },
    {
      "cell_type": "code",
      "source": [
        "model.compile(loss = 'sparse_categorical_crossentropy', metrics = 'accuracy')\n",
        "history = model.fit(train_scaled, train_target, epochs = 5, verbose = 0)"
      ],
      "metadata": {
        "id": "A60r6RsbhKPk"
      },
      "execution_count": 4,
      "outputs": []
    },
    {
      "cell_type": "markdown",
      "source": [
        "> verbose = 0\n",
        "- verbose : 훈련 과정 출력 조절\n",
        "- 기본값 = 1, 에포크마다 진행 막새돠 함께 손실 등의 지표가 출력.\n",
        "- 2 : 진행 막대를 빼고 출력.\n",
        "- 0 : 훈련 과정 출력 안함."
      ],
      "metadata": {
        "id": "uQq4un9mhb23"
      }
    },
    {
      "cell_type": "code",
      "source": [
        "print(history.history.keys())"
      ],
      "metadata": {
        "colab": {
          "base_uri": "https://localhost:8080/"
        },
        "id": "n02CJCxKiEs-",
        "outputId": "f4e5e917-ce0a-41a8-ca00-02b5cd284b13"
      },
      "execution_count": 5,
      "outputs": [
        {
          "output_type": "stream",
          "name": "stdout",
          "text": [
            "dict_keys(['loss', 'accuracy'])\n"
          ]
        }
      ]
    },
    {
      "cell_type": "markdown",
      "source": [
        "- history 딕셔너리에 loss와 accuracy가 저장."
      ],
      "metadata": {
        "id": "iWA_VuQeiL5m"
      }
    },
    {
      "cell_type": "code",
      "source": [
        "# 손실도 그래프\n",
        "import matplotlib.pyplot as plt\n",
        "plt.plot(history.history['loss'])\n",
        "plt.xlabel('epoch')\n",
        "plt.ylabel('loss')\n",
        "plt.show()"
      ],
      "metadata": {
        "colab": {
          "base_uri": "https://localhost:8080/",
          "height": 279
        },
        "id": "cl_GsDlRiWmR",
        "outputId": "185b4991-8e78-4114-dfb3-aace188f02bb"
      },
      "execution_count": 6,
      "outputs": [
        {
          "output_type": "display_data",
          "data": {
            "text/plain": [
              "<Figure size 432x288 with 1 Axes>"
            ],
            "image/png": "[encoded data removed]"
          },
          "metadata": {
            "needs_background": "light"
          }
        }
      ]
    },
    {
      "cell_type": "code",
      "source": [
        "# 정확도 그래프\n",
        "plt.plot(history.history['accuracy'])\n",
        "plt.xlabel('epoch')\n",
        "plt.ylabel('accuracy')\n",
        "plt.show()"
      ],
      "metadata": {
        "colab": {
          "base_uri": "https://localhost:8080/",
          "height": 283
        },
        "id": "aQPHHs0KisXv",
        "outputId": "6cd70479-c143-4f0a-b332-a0fbfefd2313"
      },
      "execution_count": 7,
      "outputs": [
        {
          "output_type": "display_data",
          "data": {
            "text/plain": [
              "<Figure size 432x288 with 1 Axes>"
            ],
            "image/png": "[encoded data removed]"
          },
          "metadata": {
            "needs_background": "light"
          }
        }
      ]
    },
    {
      "cell_type": "markdown",
      "source": [
        "- 에포크마다 손실이 감소하고 정확도가 상승."
      ],
      "metadata": {
        "id": "aONSpt7rjAUn"
      }
    },
    {
      "cell_type": "code",
      "source": [
        "model = model_fn()\n",
        "model.compile(loss = 'sparse_categorical_crossentropy', metrics = 'accuracy')\n",
        "history = model.fit(train_scaled, train_target, epochs = 20, verbose = 0)\n",
        "plt.plot(history.history['loss'])\n",
        "plt.xlabel('epoch')\n",
        "plt.ylabel('loss')\n",
        "plt.show()"
      ],
      "metadata": {
        "colab": {
          "base_uri": "https://localhost:8080/",
          "height": 279
        },
        "id": "IOfZ67QojLLs",
        "outputId": "ada41747-f67d-4939-d0ba-20aaa20f375d"
      },
      "execution_count": 8,
      "outputs": [
        {
          "output_type": "display_data",
          "data": {
            "text/plain": [
              "<Figure size 432x288 with 1 Axes>"
            ],
            "image/png": "[encoded data removed]"
          },
          "metadata": {
            "needs_background": "light"
          }
        }
      ]
    },
    {
      "cell_type": "markdown",
      "source": [
        "## 검증 손실"
      ],
      "metadata": {
        "id": "_jLZQy4GkVi2"
      }
    },
    {
      "cell_type": "markdown",
      "source": [
        "> 손실을 사용하는 것과 정확도를 사용하는 것.\n",
        "- 인공 신경망 모델이 최적화하는 대사이 정확도가 아니라 손실 함수.\n",
        "- 모델이 잘 훈련되었는지 판단하려면 정확도보다는 손실 함수의 값을 확인하는 것이 더 좋음."
      ],
      "metadata": {
        "id": "koSpTwhvkYLN"
      }
    },
    {
      "cell_type": "markdown",
      "source": [
        "- 에포크마다 검증 손실을 계산하기 위해 케라스 모델의 fit() 메서드에 검증 데이터를 전달 가능.\n",
        "- 다음 처럼 validation_data 매개변수에 검즈에 사용할 입력과 타깃값을 튜플로 만들어 전달."
      ],
      "metadata": {
        "id": "w9yO5mBzlCSJ"
      }
    },
    {
      "cell_type": "code",
      "source": [
        "model = model_fn()\n",
        "model.compile(loss = 'sparse_categorical_crossentropy', metrics = 'accuracy')\n",
        "history = model.fit(train_scaled, train_target, epochs = 20, verbose = 0, \n",
        "                    validation_data = (val_scaled, val_target))"
      ],
      "metadata": {
        "id": "QnRkfABKlWsp"
      },
      "execution_count": 10,
      "outputs": []
    },
    {
      "cell_type": "code",
      "source": [
        "print(history.history.keys())"
      ],
      "metadata": {
        "colab": {
          "base_uri": "https://localhost:8080/"
        },
        "id": "hhPlyFUjlzd0",
        "outputId": "b019d634-fdbe-4d9f-8c84-4476fc6112de"
      },
      "execution_count": 11,
      "outputs": [
        {
          "output_type": "stream",
          "name": "stdout",
          "text": [
            "dict_keys(['loss', 'accuracy', 'val_loss', 'val_accuracy'])\n"
          ]
        }
      ]
    },
    {
      "cell_type": "code",
      "source": [
        "# val_loss : 검증 세트에 대한 손실\n",
        "plt.plot(history.history['loss'])\n",
        "plt.plot(history.history['val_loss'])\n",
        "plt.xlabel('epoch')\n",
        "plt.ylabel('loss')\n",
        "plt.legend(['train', 'val'])\n",
        "plt.show()"
      ],
      "metadata": {
        "colab": {
          "base_uri": "https://localhost:8080/",
          "height": 279
        },
        "id": "HAETdGkCmRbe",
        "outputId": "76d91a1e-d465-4f05-c4a6-80d4514d6935"
      },
      "execution_count": 12,
      "outputs": [
        {
          "output_type": "display_data",
          "data": {
            "text/plain": [
              "<Figure size 432x288 with 1 Axes>"
            ],
            "image/png": "[encoded data removed]"
          },
          "metadata": {
            "needs_background": "light"
          }
        }
      ]
    },
    {
      "cell_type": "markdown",
      "source": [
        "- 훈련 손실은 꾸준히 감소 -> 전형적인 과대적합 모델.\n",
        "- 검증 손실이 상승하는 시점을 가능한 뒤로 늦추면 검증 세트에 대한 손실이 줄어들고, 정확도도 증가할 것."
      ],
      "metadata": {
        "id": "yrc9SbF-mu_2"
      }
    },
    {
      "cell_type": "markdown",
      "source": [
        "- 옵티마이저 하이퍼파라미터를 조정하여 과대적합을 완화시킬 수 있는가?\n",
        "- 기본 RMSprop 옵티마이저는 많은 문제에서 잘 동작.\n",
        "- Adam은 적응적 학습률을 사용하기 때문에 에포크가 진행되면서 학습률의 크기를 조정 가능."
      ],
      "metadata": {
        "id": "KIEYeVPKnSxE"
      }
    },
    {
      "cell_type": "code",
      "source": [
        "model = model_fn()\n",
        "model.compile(optimizer='adam', loss = 'sparse_categorical_crossentropy', \n",
        "              metrics = 'accuracy')\n",
        "history = model.fit(train_scaled, train_target, epochs = 20, verbose = 0, \n",
        "                    validation_data = (val_scaled, val_target))\n",
        "plt.plot(history.history['loss'])\n",
        "plt.plot(history.history['val_loss'])\n",
        "plt.xlabel('epoch')\n",
        "plt.ylabel('loss')\n",
        "plt.legend(['train', 'val'])\n",
        "plt.show()"
      ],
      "metadata": {
        "colab": {
          "base_uri": "https://localhost:8080/",
          "height": 279
        },
        "id": "jkY-qm-Inxw_",
        "outputId": "2d21b6f3-dc91-4ac6-9401-c383db2855c4"
      },
      "execution_count": 13,
      "outputs": [
        {
          "output_type": "display_data",
          "data": {
            "text/plain": [
              "<Figure size 432x288 with 1 Axes>"
            ],
            "image/png": "[encoded data removed]"
          },
          "metadata": {
            "needs_background": "light"
          }
        }
      ]
    },
    {
      "cell_type": "markdown",
      "source": [
        "- 과대적합이 줄어들어듬.\n",
        "- Adam 옵티마이저가 이 데이터 셋에 잘 맞음."
      ],
      "metadata": {
        "id": "j7nryeEooQE6"
      }
    },
    {
      "cell_type": "markdown",
      "source": [
        "## 드롭아웃(dropout)"
      ],
      "metadata": {
        "id": "UvtbZ9XeobGD"
      }
    },
    {
      "cell_type": "markdown",
      "source": [
        "- 훈련 과정에서 층에 있는 일부 뉴런을 랜덤하게 꺼서(즉 뉴런의 출력을 0으로 만들어) 과대적합을 막음.\n",
        "- 뉴런은 랜덤하게 드롭아웃되고 얼마나 많은 뉴런을 드롭할지 정하는 하이퍼파라미터."
      ],
      "metadata": {
        "id": "vBOg6yCPofHH"
      }
    },
    {
      "cell_type": "markdown",
      "source": [
        "- 과대적합을 막는 이유 \n",
        "  - 이전 층의 일부 뉴런이 랜덤하게 꺼지면 특정 뉴런에 과대하게 의존하는 것을 줄일 수 있고, 모든 입력에 대한 주의를 기울여야 함.\n",
        "  - 드롭아웃이 적용된 2개의 신경망을 훈련하는 것은 2개의 신경망을 앙상블하는 것과 비슷."
      ],
      "metadata": {
        "id": "jR0UVG6jpTnJ"
      }
    },
    {
      "cell_type": "code",
      "source": [
        "model = model_fn(keras.layers.Dropout(0.3)) \n",
        "model.summary()"
      ],
      "metadata": {
        "colab": {
          "base_uri": "https://localhost:8080/"
        },
        "id": "-9RKGaCxq5od",
        "outputId": "95aa130d-7941-4a6d-82f2-b1e7ba07ea4e"
      },
      "execution_count": 16,
      "outputs": [
        {
          "output_type": "stream",
          "name": "stdout",
          "text": [
            "Model: \"sequential_6\"\n",
            "_________________________________________________________________\n",
            " Layer (type)                Output Shape              Param #   \n",
            "=================================================================\n",
            " flatten_6 (Flatten)         (None, 784)               0         \n",
            "                                                                 \n",
            " dense_12 (Dense)            (None, 100)               78500     \n",
            "                                                                 \n",
            " dropout_1 (Dropout)         (None, 100)               0         \n",
            "                                                                 \n",
            " dense_13 (Dense)            (None, 10)                1010      \n",
            "                                                                 \n",
            "=================================================================\n",
            "Total params: 79,510\n",
            "Trainable params: 79,510\n",
            "Non-trainable params: 0\n",
            "_________________________________________________________________\n"
          ]
        }
      ]
    },
    {
      "cell_type": "markdown",
      "source": [
        "- 드롭아웃 층은 훈련되는 파라미터가 없음.\n",
        "- 입력과 출력이 같음.\n",
        "- 일부 뉴런의 출력을 0으로 만들지만 전체 출력 배열의 크기를 바꾸지 않음."
      ],
      "metadata": {
        "id": "aGPkPH65qunY"
      }
    },
    {
      "cell_type": "markdown",
      "source": [
        "- 훈련이 끝난 뒤, 평가나 예측을 수행할 때는 드롭아웃을 적용하지 말아야 함.\n",
        "- 훈련된 모든 뉴런을 사용해야 올바른 예측 수행 가능."
      ],
      "metadata": {
        "id": "f_MCFYXrrVtU"
      }
    },
    {
      "cell_type": "markdown",
      "source": [
        "- 텐서플로와 케라스는 모델을 평가와 예측에 사용할 때는 자동으로 드롭아웃을 적용하지 않음."
      ],
      "metadata": {
        "id": "L7-6ocu9r09Z"
      }
    },
    {
      "cell_type": "code",
      "source": [
        "model.compile(optimizer='adam', loss = 'sparse_categorical_crossentropy', \n",
        "              metrics = 'accuracy')\n",
        "history = model.fit(train_scaled, train_target, epochs = 20, verbose = 0, \n",
        "                    validation_data = (val_scaled, val_target))\n",
        "plt.plot(history.history['loss'])\n",
        "plt.plot(history.history['val_loss'])\n",
        "plt.xlabel('epoch')\n",
        "plt.ylabel('loss')\n",
        "plt.legend(['train', 'val'])\n",
        "plt.show()"
      ],
      "metadata": {
        "colab": {
          "base_uri": "https://localhost:8080/",
          "height": 282
        },
        "id": "YaQGgqvQsBdB",
        "outputId": "51ac6710-c744-4a30-f6d1-ad5bd780b46e"
      },
      "execution_count": 17,
      "outputs": [
        {
          "output_type": "display_data",
          "data": {
            "text/plain": [
              "<Figure size 432x288 with 1 Axes>"
            ],
            "image/png": "[encoded data removed]"
          },
          "metadata": {
            "needs_background": "light"
          }
        }
      ]
    },
    {
      "cell_type": "markdown",
      "source": [
        "- 과대 적합이 줄어들어듬."
      ],
      "metadata": {
        "id": "MWUQzmhJsOHV"
      }
    },
    {
      "cell_type": "markdown",
      "source": [
        "## 모델 저장과 복원"
      ],
      "metadata": {
        "id": "CtswPzz1qiUv"
      }
    },
    {
      "cell_type": "markdown",
      "source": [
        "- 에포크 횟수를 10으로 다시 지정하고 모델을 훈련."
      ],
      "metadata": {
        "id": "hVqmSuX4sc26"
      }
    },
    {
      "cell_type": "code",
      "source": [
        "model = model_fn(keras.layers.Dropout(0.3))\n",
        "model.compile(optimizer='adam', loss = 'sparse_categorical_crossentropy', \n",
        "              metrics = 'accuracy')\n",
        "history = model.fit(train_scaled, train_target, epochs = 10, verbose = 0, \n",
        "                    validation_data = (val_scaled, val_target))"
      ],
      "metadata": {
        "id": "nbtMEgqrsnTf"
      },
      "execution_count": 18,
      "outputs": []
    },
    {
      "cell_type": "markdown",
      "source": [
        "- 케라스 모델은 훈련된 모델의 파라미터를 저장하는 save_weights() 메서드 제공.\n",
        "- 이 메서드는 텐서플로의 체크포인트 포맷으로 저장하지만 파일의 확장자가 '.h5'일 경우 HDF5 포맷으로 저장."
      ],
      "metadata": {
        "id": "r_GSDLbDs1Wx"
      }
    },
    {
      "cell_type": "code",
      "source": [
        "model.save_weights('model-weights.h5')"
      ],
      "metadata": {
        "id": "Wnkjr0a6tPyH"
      },
      "execution_count": 19,
      "outputs": []
    },
    {
      "cell_type": "markdown",
      "source": [
        "- 모델 구조와 모델 파라미터를 함께 저장하는 save() 메서드\n",
        "- 이 메서드는 텐서플로의 SavedModel 포맷으로 저장하지만 파일의 확장자가 '.h5'일 경우 HDF5 포맷으로 저장."
      ],
      "metadata": {
        "id": "84bHxiELtV8B"
      }
    },
    {
      "cell_type": "code",
      "source": [
        "model.save('model-whole.h5')"
      ],
      "metadata": {
        "id": "PdncEe7qtpvN"
      },
      "execution_count": 20,
      "outputs": []
    },
    {
      "cell_type": "markdown",
      "source": [
        "- 저장 모델 확인"
      ],
      "metadata": {
        "id": "-Wbb7icwtuX1"
      }
    },
    {
      "cell_type": "code",
      "source": [
        "!ls -al *.h5"
      ],
      "metadata": {
        "colab": {
          "base_uri": "https://localhost:8080/"
        },
        "id": "oDFSiDx6tzIX",
        "outputId": "8511a753-4ae0-42a8-d2d5-5512a54777f3"
      },
      "execution_count": 21,
      "outputs": [
        {
          "output_type": "stream",
          "name": "stdout",
          "text": [
            "-rw-r--r-- 1 root root 333448 Apr 24 17:53 model-weights.h5\n",
            "-rw-r--r-- 1 root root 982664 Apr 24 17:55 model-whole.h5\n"
          ]
        }
      ]
    },
    {
      "cell_type": "markdown",
      "source": [
        "- 첫 번째 실험\n",
        "  - 훈련을 하지 않은 새로운 모델 생성, model-weights.h5 파일에서 훈련된 모델 파라미터를 읽어서 사용."
      ],
      "metadata": {
        "id": "dW2P7bUOt3JD"
      }
    },
    {
      "cell_type": "code",
      "source": [
        "model = model_fn(keras.layers.Dropout(0.3))\n",
        "model.load_weights('model-weights.h5')"
      ],
      "metadata": {
        "id": "GGRw-CVUv-mp"
      },
      "execution_count": 22,
      "outputs": []
    },
    {
      "cell_type": "markdown",
      "source": [
        "> 모델 파라미터를 적재하는 조건\n",
        "- load_weights() 메서드를 사용하려면 save_weights() 메서드로 저장했던 모델과 정확히 같은 구조를 가져야함."
      ],
      "metadata": {
        "id": "VkE3le_3wO_D"
      }
    },
    {
      "cell_type": "markdown",
      "source": [
        "- 케라스에서 예측을 수행하는 predict() 메서드는 사이킷런과 달리 샘플마다 10개의 클래스에 대한 확률을 반환.\n",
        "  - 사용하고 있는 데이터셋이 다중 분류이기 때문.\n",
        "  - 이진 분류 문제라면 양성 클래스에 대한 확률 하나만 반환.\n",
        "- 패션 MNIST 데이터셋에서 덜어낸 검중 세트의 샘플 개수는 12,000개이기 때문에 predict() 메서드는 (12000, 10) 크기의 배열을 반환."
      ],
      "metadata": {
        "id": "Pai77-wrwlZg"
      }
    },
    {
      "cell_type": "markdown",
      "source": [
        "- 10개 확률 중 가장 큰 값의 인덱스를 골라 타깃 레이블과 비교하여 정확도를 계산."
      ],
      "metadata": {
        "id": "y5b0duEfxZ-1"
      }
    },
    {
      "cell_type": "code",
      "source": [
        "import numpy as np\n",
        "val_labels = np.argmax(model.predict(val_scaled), axis = -1)\n",
        "print(np.mean(val_labels == val_target))"
      ],
      "metadata": {
        "colab": {
          "base_uri": "https://localhost:8080/"
        },
        "id": "IvSruK6xxk_z",
        "outputId": "6015bde4-d901-48d6-b8e7-937af50635fb"
      },
      "execution_count": 23,
      "outputs": [
        {
          "output_type": "stream",
          "name": "stdout",
          "text": [
            "0.8801666666666667\n"
          ]
        }
      ]
    },
    {
      "cell_type": "markdown",
      "source": [
        "- 가장 큰 값을 고르기 위해 argmax()함수 사용.\n",
        "  - 배열에서 가장 큰 값의 인덱스를 반환.\n",
        "  - axis=-1 은 배열의 마지막 차원을 따라 최댓값을 고름."
      ],
      "metadata": {
        "id": "VaclFazrx0kX"
      }
    },
    {
      "cell_type": "markdown",
      "source": [
        "- 두 번째 실험\n",
        "  - 모델 전체를 파일에서 읽은 다음 검증 세트의 정확도 출력."
      ],
      "metadata": {
        "id": "3Fuk9RB6yvyg"
      }
    },
    {
      "cell_type": "code",
      "source": [
        "model = keras.models.load_model('model-whole.h5')\n",
        "model.evaluate(val_scaled, val_target)"
      ],
      "metadata": {
        "colab": {
          "base_uri": "https://localhost:8080/"
        },
        "id": "-Rmjs_nNy7eE",
        "outputId": "ac5d7968-3d7a-4751-854e-a7366d1aa9d1"
      },
      "execution_count": 25,
      "outputs": [
        {
          "output_type": "stream",
          "name": "stdout",
          "text": [
            "375/375 [==============================] - 1s 3ms/step - loss: 0.3321 - accuracy: 0.8802\n"
          ]
        },
        {
          "output_type": "execute_result",
          "data": {
            "text/plain": [
              "[0.33207204937934875, 0.8801666498184204]"
            ]
          },
          "metadata": {},
          "execution_count": 25
        }
      ]
    },
    {
      "cell_type": "markdown",
      "source": [
        "- 같은 모델을 저장하고 불렀기 때문에 동일한 정확도를 출력."
      ],
      "metadata": {
        "id": "L5Qn08G3zG2M"
      }
    },
    {
      "cell_type": "markdown",
      "source": [
        "## 콜백(callback)"
      ],
      "metadata": {
        "id": "wNlxva4CzYkJ"
      }
    },
    {
      "cell_type": "markdown",
      "source": [
        "- 훈련 과정 중간에 어떤 작업을 수행할 수 있게 하는 객체.\n",
        "- keras.callbacks 패키지 아래에 존재.\n",
        "- fit() 메서드의 callbacks 매개변수에 리스트로 전달하여 사용."
      ],
      "metadata": {
        "id": "dyy4zRm9zddt"
      }
    },
    {
      "cell_type": "markdown",
      "source": [
        "- ModelCheckpoint 콜백은 기본적으로 에포크마다 모델을 저장.\n",
        "- save_best_only=True 매개변수를 지정하여 가장 낮은 검증 점수를 저장 가능."
      ],
      "metadata": {
        "id": "t0wevPOEzyoG"
      }
    },
    {
      "cell_type": "code",
      "source": [
        "model = model_fn(keras.layers.Dropout(0.3))\n",
        "model.compile(optimizer='adam', loss = 'sparse_categorical_crossentropy', \n",
        "              metrics = 'accuracy')\n",
        "checkpoint_cb = keras.callbacks.ModelCheckpoint('best-model.h5', \n",
        "                                                save_best_only=True)\n",
        "model.fit(train_scaled, train_target, epochs = 20, verbose = 0, \n",
        "                    validation_data = (val_scaled, val_target),\n",
        "                    callbacks=[checkpoint_cb])"
      ],
      "metadata": {
        "colab": {
          "base_uri": "https://localhost:8080/"
        },
        "id": "ipAvhpeo0H7W",
        "outputId": "23f66849-e4d6-4820-b364-f7d68ea0c3a9"
      },
      "execution_count": 26,
      "outputs": [
        {
          "output_type": "execute_result",
          "data": {
            "text/plain": [
              "<keras.callbacks.History at 0x7f1e34ebfdd0>"
            ]
          },
          "metadata": {},
          "execution_count": 26
        }
      ]
    },
    {
      "cell_type": "code",
      "source": [
        "model = keras.models.load_model('best-model.h5')\n",
        "model.evaluate(val_scaled, val_target)"
      ],
      "metadata": {
        "colab": {
          "base_uri": "https://localhost:8080/"
        },
        "id": "sLY-57NC0svo",
        "outputId": "c613db9a-9673-4ede-e206-7e1575e30b8d"
      },
      "execution_count": 27,
      "outputs": [
        {
          "output_type": "stream",
          "name": "stdout",
          "text": [
            "375/375 [==============================] - 2s 4ms/step - loss: 0.3191 - accuracy: 0.8852\n"
          ]
        },
        {
          "output_type": "execute_result",
          "data": {
            "text/plain": [
              "[0.3190595805644989, 0.8852499723434448]"
            ]
          },
          "metadata": {},
          "execution_count": 27
        }
      ]
    },
    {
      "cell_type": "markdown",
      "source": [
        "- ModelCheckpoint 콜백이 가장 낮은 검증 점수의 모델을 자동으로 저장.\n",
        "  - 하지만 에포크 20번 모두 수행함.\n",
        "  - 검증 점수가 상승하기 시작하면 과대적합이 더 커지기 때문에 훈련을 계속할 필요 없음.\n",
        "    - 이 때 훈련을 중지하면 자원과 시간을 아낄 수 있음.\n",
        "    - 과대적합이 시작되기 전에 훈련을 미리 중지하는 것 -> 조기 종료(early stopping)"
      ],
      "metadata": {
        "id": "c5-6rzKj1FQb"
      }
    },
    {
      "cell_type": "markdown",
      "source": [
        "- 조기 종료는 훈련 에포크 횟수를 제한하는 역할을 하지만 모델이 과대적합되는 것을 막아 주기 때문에 규제 방법 중 하나로 생각할 수 있음."
      ],
      "metadata": {
        "id": "NXQbkrNp1zCF"
      }
    },
    {
      "cell_type": "markdown",
      "source": [
        "- 케라스에서는 조기 종료를 위한 EarlyStopping 콜백을 제공.\n",
        "  - patience 매개변수는 검증 점수가 향상되지 않더라도 참을 에포크 횟수로 지정.\n",
        "  - restore_best_weights 매개변수를 True로 지정하면 가장 낮은 검증 손실을 낸 모델 파라미터로 되돌림."
      ],
      "metadata": {
        "id": "YSfoWuTx2AjK"
      }
    },
    {
      "cell_type": "markdown",
      "source": [
        "- EarlyStopping과 ModelCheckpoint를 함께 사용하면 가장 낮은 검증 손실의 모델을 파일에 저장하고 검증 손실이 다시 상승할 때 훈련 중지 가능.\n",
        "- 또한, 훈련을 중지한 다음 현재 모델의 파라미터를 최상의 파라미터로 되돌림."
      ],
      "metadata": {
        "id": "mPs0OT6M2eub"
      }
    },
    {
      "cell_type": "code",
      "source": [
        "model = model_fn(keras.layers.Dropout(0.3))\n",
        "model.compile(optimizer='adam', loss = 'sparse_categorical_crossentropy', \n",
        "              metrics = 'accuracy')\n",
        "checkpoint_cb = keras.callbacks.ModelCheckpoint('best-model.h5', \n",
        "                                                save_best_only=True)\n",
        "early_stopping_cb = keras.callbacks.EarlyStopping(patience=2, \n",
        "                                                  restore_best_weights=True)\n",
        "model.fit(train_scaled, train_target, epochs = 20, verbose = 0, \n",
        "                    validation_data = (val_scaled, val_target),\n",
        "                    callbacks=[checkpoint_cb, early_stopping_cb])"
      ],
      "metadata": {
        "colab": {
          "base_uri": "https://localhost:8080/"
        },
        "id": "v5nwHNlT28t9",
        "outputId": "087bcc1f-a798-4fb1-875a-66b3f6f1da86"
      },
      "execution_count": 28,
      "outputs": [
        {
          "output_type": "execute_result",
          "data": {
            "text/plain": [
              "<keras.callbacks.History at 0x7f1e34d89c90>"
            ]
          },
          "metadata": {},
          "execution_count": 28
        }
      ]
    },
    {
      "cell_type": "markdown",
      "source": [
        "- 몇 번째 에포크에서 멈췄는 지 확인 : early_stopping_cb 객체의 stopped_epoch 속성에서 확인."
      ],
      "metadata": {
        "id": "EJWalfFZ3eAV"
      }
    },
    {
      "cell_type": "code",
      "source": [
        "print(early_stopping_cb.stopped_epoch)"
      ],
      "metadata": {
        "colab": {
          "base_uri": "https://localhost:8080/"
        },
        "id": "zTprE9oJ34z_",
        "outputId": "36ac0e39-a5fb-47dc-fca8-8cfcfac11ff5"
      },
      "execution_count": 29,
      "outputs": [
        {
          "output_type": "stream",
          "name": "stdout",
          "text": [
            "12\n"
          ]
        }
      ]
    },
    {
      "cell_type": "markdown",
      "source": [
        "- patience = 2 로 지정했기 때문에 최상의 모델은 11번 째 에포크."
      ],
      "metadata": {
        "id": "5esluao43-xV"
      }
    },
    {
      "cell_type": "code",
      "source": [
        "plt.plot(history.history['loss'])\n",
        "plt.plot(history.history['val_loss'])\n",
        "plt.xlabel('epoch')\n",
        "plt.ylabel('loss')\n",
        "plt.legend(['train', 'val'])\n",
        "plt.show()"
      ],
      "metadata": {
        "colab": {
          "base_uri": "https://localhost:8080/",
          "height": 282
        },
        "id": "vMCSFcSZ4MCv",
        "outputId": "4b356e5a-efd9-49fa-c130-ac87509e1831"
      },
      "execution_count": 30,
      "outputs": [
        {
          "output_type": "display_data",
          "data": {
            "text/plain": [
              "<Figure size 432x288 with 1 Axes>"
            ],
            "image/png": "[encoded data removed]"
          },
          "metadata": {
            "needs_background": "light"
          }
        }
      ]
    },
    {
      "cell_type": "markdown",
      "source": [
        "- 조기 종료로 얻은 모델을 사용해 검증 세트에 대한 성능 확인."
      ],
      "metadata": {
        "id": "y3Q1pSCL4Be2"
      }
    },
    {
      "cell_type": "code",
      "source": [
        "model.evaluate(val_scaled, val_target)"
      ],
      "metadata": {
        "colab": {
          "base_uri": "https://localhost:8080/"
        },
        "id": "YdFHbkEf4mIi",
        "outputId": "cf08fdd4-c76d-42e9-f477-c96ac07e622e"
      },
      "execution_count": 31,
      "outputs": [
        {
          "output_type": "stream",
          "name": "stdout",
          "text": [
            "375/375 [==============================] - 1s 4ms/step - loss: 0.3212 - accuracy: 0.8839\n"
          ]
        },
        {
          "output_type": "execute_result",
          "data": {
            "text/plain": [
              "[0.3211706578731537, 0.8839166760444641]"
            ]
          },
          "metadata": {},
          "execution_count": 31
        }
      ]
    },
    {
      "cell_type": "markdown",
      "source": [
        "## 마무리"
      ],
      "metadata": {
        "id": "Z7RanF2S4qSN"
      }
    },
    {
      "cell_type": "markdown",
      "source": [
        "### 키워드로 끝내는 핵심 포인트"
      ],
      "metadata": {
        "id": "zLM-g-9D4xSJ"
      }
    },
    {
      "cell_type": "markdown",
      "source": [
        "- 드롭아웃 : 은닉층에 있는 뉴런의 출력을 랜덤하게 꺼서 과대적합을 막는 기법.\n",
        "  - 훈련 중에 적용되며 평가나 예측에 사용하지 않음.\n",
        "- 콜백 : 케라스 모델을 훈련하는 도중에 어떤 작업을 수행할 수 있도록 도와주는 도구.\n",
        "  - 대표적으로 최상의 모델을 자동으로 저장해 주거나 검증 점수가 더 이상 향상되지 않으면 일찍 종료 가능.\n",
        "- 조기 종료 : 검증 점수가 더 이상 감소하지 않고 상승하여 과대 적합이 일어나면 훈련을 계속 진행하지 않고 멈추는 기법.\n",
        "  - 계산 비용과 시간 절약."
      ],
      "metadata": {
        "id": "3dG09cyE41JY"
      }
    },
    {
      "cell_type": "markdown",
      "source": [
        "### 핵심 패키지와 함수"
      ],
      "metadata": {
        "id": "k82EHqGV5q7G"
      }
    },
    {
      "cell_type": "markdown",
      "source": [
        "> TensorFlow\n",
        "- DropOut : 드롭아웃 층\n",
        "  - 첫 번째 매개변수로 드롭아웃 할 비율(r)을 지정.\n",
        "  - 드롭아웃하지 않는 뉴런의 출력은 1/(1 - r) 만큼 증가시켜 출력의 총합이 같도록 만듬.\n",
        "- save_weights() : 모든 층의 가중치와 절편을 파일에 저장.\n",
        "  - 첫 번째 매개변수에 저장할 파일을 지정.\n",
        "  - save_format : 저장할 파일 형식 지정.\n",
        "    - 기본적으로 텐서플로의 Checkpoint 포멧을 사용.\n",
        "    - 'h5'로 지정하거나 파일의 확장자가 '.h5'이면 HDF5 포맷으로 저장.\n",
        "- load_weights() : 모든 줄의 가중치와 절편을 파일에 읽음.\n",
        "  - 첫 번째 매개변수에 읽을 파일을 지정.\n",
        "- save() : 모델 구조와 모든 가중치와 절편을 파일에 저장.\n",
        "  - 첫 번째 매개변수에 저장할 파일을 지정\n",
        "  - save_format : 저장할 파일 형식 지정.\n",
        "    - 기본적으로 텐서플로의 SavedModel 포멧을 사용.\n",
        "    - 'h5'로 지정하거나 파일의 확장자가 '.h5'이면 HDF5 포맷으로 저장.\n",
        "- load_model() : model.save()로 저장된 모델을 로드.\n",
        "  - 첫 번째 매개변수에 읽을 파일을 지정.\n",
        "- ModelCheckpoint : 케라스 모델과 가중치를 일정 간격으로 저장.\n",
        "  - 첫 번째 매개변수에 저장할 파일을 지정\n",
        "  - monitor : 모니터링할 지표를 지정.\n",
        "    - 기본값 = 'val_loss' : 검증 손실을 관찰\n",
        "    - save_weights_only : 기본값 = False -> 전체 모델 저장.\n",
        "      - True : 모델의 가중치와 절편만 저장.\n",
        "    - save_best_only : True로 지정하면 가장 낮은 점수를 만드는 모델 저장.\n",
        "- EarlyStopping : 관심 지표가 더이상 향상하지 않으면 훈련을 중지.\n",
        "  - monitor : 모니터링할 지표를 지정.\n",
        "    - 기본값 = 'val_loss' : 검증 손실을 관찰\n",
        "  - patience : 모델이 더 이상 향상되지 않고 지속할 수 있는 최대 에포크 횟수를 지정.\n",
        "  - restore_best_weights : 최상의 모델 가중치를 복원할지 지정.\n",
        "    - 기본값 = False    "
      ],
      "metadata": {
        "id": "-bKiHpMU50fw"
      }
    },
    {
      "cell_type": "markdown",
      "source": [
        "> Numpy\n",
        "- argmax : 배열에서 축을 따라 최댓값의 인덱스를 반환.\n",
        "  - axis : 어떤 축을 따라 최댓값을 찾을지 지정.\n",
        "    - 기본값 = None : 전체 배열에서 최댓값을 찾음."
      ],
      "metadata": {
        "id": "mXrkA88O9F3W"
      }
    }
  ]
}