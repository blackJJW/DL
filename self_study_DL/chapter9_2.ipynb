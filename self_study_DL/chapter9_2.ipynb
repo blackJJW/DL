{
  "cells": [
    {
      "cell_type": "markdown",
      "metadata": {
        "id": "view-in-github",
        "colab_type": "text"
      },
      "source": [
        "<a href=\"https://colab.research.google.com/github/blackJJW/DL/blob/main/self_study_DL/chapter9_2.ipynb\" target=\"_parent\"><img src=\"https://colab.research.google.com/assets/colab-badge.svg\" alt=\"Open In Colab\"/></a>"
      ]
    },
    {
      "cell_type": "markdown",
      "metadata": {
        "id": "F99QK_Llh1IJ"
      },
      "source": [
        "# 09-2 순환 신경망으로 IMDB 리뷰 분류하기"
      ]
    },
    {
      "cell_type": "markdown",
      "metadata": {
        "id": "6CMH3Y5BiJu2"
      },
      "source": [
        "## IMDB 리뷰 데이터 셋"
      ]
    },
    {
      "cell_type": "markdown",
      "metadata": {
        "id": "WJNZh-noiQIK"
      },
      "source": [
        "- IMDB 리뷰 데이터셋은 imdb.com에서 수집한 리뷰 감상평에 따라 긍정과 부정으로 분류해 놓은 데이터셋\n",
        "- 총 50,000개의 샘플\n",
        "- 훈련 데이터와 테스트 데이터 각각 25,000개"
      ]
    },
    {
      "cell_type": "markdown",
      "metadata": {
        "id": "X_mE6qE26pqV"
      },
      "source": [
        "> 자연어 처리와 말뭉치\n",
        "- **자연어 처리**(natural language processing, NLP) : 컴퓨터를 사용해 인간의 언어를 처리하는 분야\n",
        "  - ex) 음성 인식, 기계 번역, 감성 분석 등\n",
        "- **말뭉치**(corpus) : 자연어 처리 분야에서의 훈련 데이터"
      ]
    },
    {
      "cell_type": "markdown",
      "metadata": {
        "id": "G2kX-NN17chZ"
      },
      "source": [
        "- 텍스트 자체를 신경망에 전달하지 않은.\n",
        "  - 컴퓨터에서 처리하는 모든 것은 어떤 숫자 데이터\n",
        "  - 텍스트 데이터의 경우 단어를 숫자 데이터로 바꾸는 방법 : 단어마다 고유한 정수를 부여\n",
        "- **토큰**(token) : 영어 문장을 모두 소문자로 바꾸고 구둣점을 삭제한 다음 공백을 기준으로 분리한 단어\n",
        "  - 하나의 샘플은 여러 개의 토큰으로 이루어져 있고 1개의 토큰이 하나의 타임스텝에 해당"
      ]
    },
    {
      "cell_type": "markdown",
      "metadata": {
        "id": "gWXxMQ0w9Hbu"
      },
      "source": [
        "> 한글 문장은 어떻게 토큰을 분리?\n",
        "- 한글은 조사가 발달, 공백으로 나누는 것만으로는 부족\n",
        "- 일반적으로 한글은 형태소 분석을 통해 토큰을 생성"
      ]
    },
    {
      "cell_type": "markdown",
      "metadata": {
        "id": "Ve07txA3DjcJ"
      },
      "source": [
        "- 토큰에 할당하는 정수 중에 몇 개는 특정한 용도로 예약\n",
        "  - 0 : 패딩\n",
        "  - 1 : 문장의 시작\n",
        "  - 2 : 어휘 사전에 없는 토큰\n"
      ]
    },
    {
      "cell_type": "markdown",
      "metadata": {
        "id": "V_QCO9HDD-pI"
      },
      "source": [
        "> 어휘 사전\n",
        "- 훈련 세트에서 고유한 단어를 뽑아 만든 목록\n",
        "- ex) 테스트 세트 안에 어휘 사전에 없는 단어가 았다면 2로 변환하여 신경망 모델에 주입"
      ]
    },
    {
      "cell_type": "markdown",
      "metadata": {
        "id": "3fAd5Rn7Fg0r"
      },
      "source": [
        "- tensorflow.keras.datasets 패키지 아래 imdb 모듈을 임포트\n",
        "- 가장 자주 등장하는 단어 500개"
      ]
    },
    {
      "cell_type": "code",
      "execution_count": 1,
      "metadata": {
        "colab": {
          "base_uri": "https://localhost:8080/"
        },
        "id": "oH3J67pkFtvh",
        "outputId": "42685e5c-a050-4dac-c813-5e8447d2d5b5"
      },
      "outputs": [
        {
          "output_type": "stream",
          "name": "stdout",
          "text": [
            "Downloading data from https://storage.googleapis.com/tensorflow/tf-keras-datasets/imdb.npz\n",
            "17465344/17464789 [==============================] - 0s 0us/step\n",
            "17473536/17464789 [==============================] - 0s 0us/step\n"
          ]
        }
      ],
      "source": [
        "from tensorflow.keras.datasets import imdb\n",
        "(train_input, train_target), (test_input, test_target) = imdb.load_data(num_words=500)"
      ]
    },
    {
      "cell_type": "code",
      "execution_count": 2,
      "metadata": {
        "colab": {
          "base_uri": "https://localhost:8080/"
        },
        "id": "TdDTGuJ_GJjU",
        "outputId": "65fb6777-f7ce-4bbd-9876-ad70ac62dd49"
      },
      "outputs": [
        {
          "output_type": "stream",
          "name": "stdout",
          "text": [
            "(25000,) (25000,)\n"
          ]
        }
      ],
      "source": [
        "print(train_input.shape, test_input.shape)"
      ]
    },
    {
      "cell_type": "markdown",
      "metadata": {
        "id": "gOOMfPTJGUwb"
      },
      "source": [
        "- IMDB 리뷰 텍스트는 길이가 제각각\n",
        "- 고정 크기의 2차원 배열에 담기 보다는 리뷰마다 별도의 파이썬 리스트로 담아야 메모리를 효율적으로 사용 가능\n",
        "\n",
        "\n",
        "```\n",
        "train_input: [리뷰1, 리뷰2, 리뷰3, ...] <- 넘파이 배열\n",
        "```\n",
        "- 이 데이터는 개별 리뷰를 담은 파이썬 리스트 객체로 이루어진 넘파이 배열\n",
        "- 넘파이 배열은 정수나 실수 외에도 파이썬 객체를 담을 수 있음\n",
        "\n"
      ]
    },
    {
      "cell_type": "code",
      "execution_count": 3,
      "metadata": {
        "colab": {
          "base_uri": "https://localhost:8080/"
        },
        "id": "Zqo42xV6HISf",
        "outputId": "6bcc6012-2da4-4e50-d1b2-eb6cf8a16c4c"
      },
      "outputs": [
        {
          "output_type": "stream",
          "name": "stdout",
          "text": [
            "218\n"
          ]
        }
      ],
      "source": [
        "print(len(train_input[0]))"
      ]
    },
    {
      "cell_type": "code",
      "execution_count": 4,
      "metadata": {
        "colab": {
          "base_uri": "https://localhost:8080/"
        },
        "id": "hQQAGkmkHPuh",
        "outputId": "dd7adcf6-0dc8-4bcd-ec9d-8c2cbd857ce3"
      },
      "outputs": [
        {
          "output_type": "stream",
          "name": "stdout",
          "text": [
            "189\n"
          ]
        }
      ],
      "source": [
        "print(len(train_input[1]))"
      ]
    },
    {
      "cell_type": "code",
      "execution_count": 5,
      "metadata": {
        "colab": {
          "base_uri": "https://localhost:8080/"
        },
        "id": "6WM1rVvYHU6X",
        "outputId": "5d28f6c0-2f6c-4752-d716-b7e66c27b0cf"
      },
      "outputs": [
        {
          "output_type": "stream",
          "name": "stdout",
          "text": [
            "[1, 14, 22, 16, 43, 2, 2, 2, 2, 65, 458, 2, 66, 2, 4, 173, 36, 256, 5, 25, 100, 43, 2, 112, 50, 2, 2, 9, 35, 480, 284, 5, 150, 4, 172, 112, 167, 2, 336, 385, 39, 4, 172, 2, 2, 17, 2, 38, 13, 447, 4, 192, 50, 16, 6, 147, 2, 19, 14, 22, 4, 2, 2, 469, 4, 22, 71, 87, 12, 16, 43, 2, 38, 76, 15, 13, 2, 4, 22, 17, 2, 17, 12, 16, 2, 18, 2, 5, 62, 386, 12, 8, 316, 8, 106, 5, 4, 2, 2, 16, 480, 66, 2, 33, 4, 130, 12, 16, 38, 2, 5, 25, 124, 51, 36, 135, 48, 25, 2, 33, 6, 22, 12, 215, 28, 77, 52, 5, 14, 407, 16, 82, 2, 8, 4, 107, 117, 2, 15, 256, 4, 2, 7, 2, 5, 2, 36, 71, 43, 2, 476, 26, 400, 317, 46, 7, 4, 2, 2, 13, 104, 88, 4, 381, 15, 297, 98, 32, 2, 56, 26, 141, 6, 194, 2, 18, 4, 226, 22, 21, 134, 476, 26, 480, 5, 144, 30, 2, 18, 51, 36, 28, 224, 92, 25, 104, 4, 226, 65, 16, 38, 2, 88, 12, 16, 283, 5, 16, 2, 113, 103, 32, 15, 16, 2, 19, 178, 32]\n"
          ]
        }
      ],
      "source": [
        "print(train_input[0])"
      ]
    },
    {
      "cell_type": "markdown",
      "metadata": {
        "id": "-QawuXZHHOy7"
      },
      "source": [
        "- 텐서플로에 있는 IMDB 리뷰 데이터는 이미 정수로 변환"
      ]
    },
    {
      "cell_type": "code",
      "execution_count": 6,
      "metadata": {
        "colab": {
          "base_uri": "https://localhost:8080/"
        },
        "id": "D2kh774FHnMo",
        "outputId": "5533a69f-fd78-4daa-d770-2870649b4482"
      },
      "outputs": [
        {
          "output_type": "stream",
          "name": "stdout",
          "text": [
            "[1 0 0 1 0 0 1 0 1 0 1 0 0 0 0 0 1 1 0 1]\n"
          ]
        }
      ],
      "source": [
        "print(train_target[:20])"
      ]
    },
    {
      "cell_type": "markdown",
      "metadata": {
        "id": "fOJ1lpUOHs8P"
      },
      "source": [
        "- 해결할 문제는 리뷰가 긍정인지 부정인지 판단하는 것\n",
        "  - 이진 분류 문제로 볼 수 있으며 타깃값이 0(부정)과 1(긍정)로 나누어짐"
      ]
    },
    {
      "cell_type": "code",
      "execution_count": 7,
      "metadata": {
        "id": "bd8Hg1XiIuHe"
      },
      "outputs": [],
      "source": [
        "from sklearn.model_selection import train_test_split\n",
        "train_input, val_input, train_target, val_target = train_test_split(train_input, train_target, test_size=0.2, random_state=42)"
      ]
    },
    {
      "cell_type": "markdown",
      "source": [
        "- 각 리뷰의 길이를 계산하여 넘파이 배열에 담음\n",
        "  - 평균적인 리뷰의 길이와 가장 짧은 리뷰의 길이 그리고 가장 긴 리뷰의 길이를 확인 하고자 함"
      ],
      "metadata": {
        "id": "BmLDazj2JOVD"
      }
    },
    {
      "cell_type": "code",
      "source": [
        "import numpy as np\n",
        "lengths = np.array([len(x) for x in train_input])"
      ],
      "metadata": {
        "id": "A5j0xMlrJjcQ"
      },
      "execution_count": 8,
      "outputs": []
    },
    {
      "cell_type": "code",
      "source": [
        "print(np.mean(lengths), np.median(lengths))"
      ],
      "metadata": {
        "colab": {
          "base_uri": "https://localhost:8080/"
        },
        "id": "J4fZqetLJ4_Y",
        "outputId": "7cc2d6fd-cb19-401b-f8f6-a20fd8100dbb"
      },
      "execution_count": 9,
      "outputs": [
        {
          "output_type": "stream",
          "name": "stdout",
          "text": [
            "239.00925 178.0\n"
          ]
        }
      ]
    },
    {
      "cell_type": "code",
      "source": [
        "import matplotlib.pyplot as plt\n",
        "plt.hist(lengths)\n",
        "plt.xlabel('lengths')\n",
        "plt.ylabel('frequency')\n",
        "plt.show()"
      ],
      "metadata": {
        "colab": {
          "base_uri": "https://localhost:8080/",
          "height": 279
        },
        "id": "2fcxbwL2KEfs",
        "outputId": "a0604539-927e-44dd-e8cd-d25a1e58dc23"
      },
      "execution_count": 10,
      "outputs": [
        {
          "output_type": "display_data",
          "data": {
            "text/plain": [
              "<Figure size 432x288 with 1 Axes>"
            ],
            "image/png": "[encoded data removed]"
          },
          "metadata": {
            "needs_background": "light"
          }
        }
      ]
    },
    {
      "cell_type": "markdown",
      "source": [
        "- 대부분의 리뷰 길이는 300 미만\n",
        "- 리뷰는 대부분 짧아서 중간값보다 훨씬 짧은 100개의 단어만 사용\n",
        "  - 하지만 100개의 단어보다 작은 리뷰 존재\n",
        "  - 이런 리뷰들의 길이를 맞추기 위해 패딩이 필요\n",
        "    - 보통 패딩을 나타내는 토큰 : 0"
      ],
      "metadata": {
        "id": "IaPrWMDoKZw9"
      }
    },
    {
      "cell_type": "markdown",
      "source": [
        "- 케라스는 시퀀스 데이터의 길이를 맞추는 pad_squences() 함수를 제공\n",
        "- 이 함수를 사용해 train_input의 길이를 100으로 맞춤"
      ],
      "metadata": {
        "id": "UNbx103PK9QD"
      }
    },
    {
      "cell_type": "code",
      "source": [
        "from tensorflow.keras.preprocessing.sequence import pad_sequences\n",
        "train_seq = pad_sequences(train_input, maxlen=100)"
      ],
      "metadata": {
        "id": "Y0_v046sMJ9T"
      },
      "execution_count": 11,
      "outputs": []
    },
    {
      "cell_type": "markdown",
      "source": [
        "- maxlen에 원하는 길이를 지정하면 이보다 긴 경우는 잘라내고 짧은 경우는 0으로 패딩"
      ],
      "metadata": {
        "id": "IUTz5okVMpYa"
      }
    },
    {
      "cell_type": "code",
      "source": [
        "print(train_seq.shape)"
      ],
      "metadata": {
        "colab": {
          "base_uri": "https://localhost:8080/"
        },
        "id": "JGQxmM8jMzfZ",
        "outputId": "6c243b2f-327d-438a-90c5-50e0c8d41f92"
      },
      "execution_count": 12,
      "outputs": [
        {
          "output_type": "stream",
          "name": "stdout",
          "text": [
            "(20000, 100)\n"
          ]
        }
      ]
    },
    {
      "cell_type": "markdown",
      "source": [
        "- train_input은 파이썬 리스트의 배열이었지만, 길이를 100으로 맞춘 train_seq는 이제 (20000, 100) 크기의 2차원 배열이 되었음"
      ],
      "metadata": {
        "id": "3x8UvMDYM9Ms"
      }
    },
    {
      "cell_type": "code",
      "source": [
        "print(train_seq[0])"
      ],
      "metadata": {
        "colab": {
          "base_uri": "https://localhost:8080/"
        },
        "id": "_z7lBqEtNUAA",
        "outputId": "73137e47-8ce6-4b28-f59d-cec84b35a5a8"
      },
      "execution_count": 13,
      "outputs": [
        {
          "output_type": "stream",
          "name": "stdout",
          "text": [
            "[ 10   4  20   9   2 364 352   5  45   6   2   2  33 269   8   2 142   2\n",
            "   5   2  17  73  17 204   5   2  19  55   2   2  92  66 104  14  20  93\n",
            "  76   2 151  33   4  58  12 188   2 151  12 215  69 224 142  73 237   6\n",
            "   2   7   2   2 188   2 103  14  31  10  10 451   7   2   5   2  80  91\n",
            "   2  30   2  34  14  20 151  50  26 131  49   2  84  46  50  37  80  79\n",
            "   6   2  46   7  14  20  10  10 470 158]\n"
          ]
        }
      ]
    },
    {
      "cell_type": "code",
      "source": [
        "print(train_input[0][-10:])"
      ],
      "metadata": {
        "colab": {
          "base_uri": "https://localhost:8080/"
        },
        "id": "_-hQRRMRNcd5",
        "outputId": "90d17ed2-37cb-428c-95a1-f01cdd8798de"
      },
      "execution_count": 14,
      "outputs": [
        {
          "output_type": "stream",
          "name": "stdout",
          "text": [
            "[6, 2, 46, 7, 14, 20, 10, 10, 470, 158]\n"
          ]
        }
      ]
    },
    {
      "cell_type": "markdown",
      "source": [
        "- 음수 인덱스와 슬라이싱을 사용해 train_input[0]에 있는 마지막 10개의 토큰을 출력\n",
        "- train_seq[0]의 출력값과 비교하면 정확히 일치\n",
        "  - 샘플의 앞부분이 잘렸음을 짐작"
      ],
      "metadata": {
        "id": "XuPx2O9tNoPw"
      }
    },
    {
      "cell_type": "markdown",
      "source": [
        "- pad_sequences() 함수는 기본으로 maxlen보다 긴 시퀀스의 앞부분을 자름\n",
        "  - 일반적으로 시퀀스의 뒷부분의 정보가 더 유용하리라 기대하기 때문"
      ],
      "metadata": {
        "id": "8fTFU0whSc1w"
      }
    },
    {
      "cell_type": "markdown",
      "source": [
        "- 시퀀스의 뒷부분을 잘라내고 싶다면 pad_sequences() 함수의 truncating 매개변수의 값을 기본값 'pre'가 아닌 'post'로 바꾸면 됨"
      ],
      "metadata": {
        "id": "UDS5fB4ZSuWV"
      }
    },
    {
      "cell_type": "code",
      "source": [
        "print(train_seq[5])"
      ],
      "metadata": {
        "colab": {
          "base_uri": "https://localhost:8080/"
        },
        "id": "aNqmuVd6TCYG",
        "outputId": "b9700c91-0c5f-46c6-fe43-8afdbcc3d4f1"
      },
      "execution_count": 15,
      "outputs": [
        {
          "output_type": "stream",
          "name": "stdout",
          "text": [
            "[  0   0   0   0   1   2 195  19  49   2   2 190   4   2 352   2 183  10\n",
            "  10  13  82  79   4   2  36  71 269   8   2  25  19  49   7   4   2   2\n",
            "   2   2   2  10  10  48  25  40   2  11   2   2  40   2   2   5   4   2\n",
            "   2  95  14 238  56 129   2  10  10  21   2  94 364 352   2   2  11 190\n",
            "  24 484   2   7  94 205 405  10  10  87   2  34  49   2   7   2   2   2\n",
            "   2   2 290   2  46  48  64  18   4   2]\n"
          ]
        }
      ]
    },
    {
      "cell_type": "markdown",
      "source": [
        "- 앞부분에 0이 있는 것으로 보아 이 샘플의 길이는 100이 안됨\n",
        "  - 같은 이유로 패딩 토큰은 시퀀스의 뒷부분이 아닌 앞부분에 추가\n",
        "- 시원스의 마지막에 있는 단어가 셀의 은닉 상테에 가장 큰 영향을 미치게 되므로 마지막에 패딩을 추가하는 것은 일반적으로 선호하지 않음\n",
        "  - 하지만 원한다면 pad_sequences() 함수의 padding 매개변수의 기본값인 'pre'를 'post'로 바꾸면 샘플의 뒷부분에 패딩을 추가 가능"
      ],
      "metadata": {
        "id": "Wd2bt-IvTG3H"
      }
    },
    {
      "cell_type": "markdown",
      "source": [
        "- 검증 세트의 길이도 100으로 맞춤"
      ],
      "metadata": {
        "id": "jAej-NlmUEx_"
      }
    },
    {
      "cell_type": "code",
      "source": [
        "val_seq = pad_sequences(val_input, maxlen=100)"
      ],
      "metadata": {
        "id": "s5bpifVvUKKf"
      },
      "execution_count": 16,
      "outputs": []
    },
    {
      "cell_type": "markdown",
      "source": [
        "## 순환 신경망 만들기"
      ],
      "metadata": {
        "id": "JMV_L5GvUUXD"
      }
    },
    {
      "cell_type": "markdown",
      "source": [
        "- 케라스는 여러 종류의 순환층 클래스를 제공\n",
        "- 그중 가장 간단한 것은 SimpleRNN 클래스\n",
        "- IMDB 리뷰 분류 문제는 이진 분류이므로 마지막 출력층은 1개의 뉴런을 가지고 시그모이드 활성화 함수를 사용해야 함"
      ],
      "metadata": {
        "id": "LcJ6OsP_UY1w"
      }
    },
    {
      "cell_type": "markdown",
      "source": [
        "- 케라스의 Sequential 클래스로 만든 신경망 코드\n",
        "\n",
        "> Sequential 클래스가 순환 신경망을 만드는 용도?\n",
        "- Sequential 클래스는 순환 신경망뿐만 아니라 합성곱 신경망이나 일반적인 인공 신경망 모델을 모두 만들 수 있음\n",
        "- 순차 데이터(Sequential data)와 관련이 없음"
      ],
      "metadata": {
        "id": "kqLUgE0-VAh6"
      }
    },
    {
      "cell_type": "code",
      "source": [
        "from tensorflow import keras\n",
        "model = keras.Sequential()\n",
        "model.add(keras.layers.SimpleRNN(8, input_shape=(100, 500)))\n",
        "model.add(keras.layers.Dense(1, activation='sigmoid'))"
      ],
      "metadata": {
        "id": "-TJYpztdVpgZ"
      },
      "execution_count": 17,
      "outputs": []
    },
    {
      "cell_type": "markdown",
      "source": [
        "- 첫 번째 매개변수는 사용할 뉴런의 개수로 input_shape에 입력 차원을 (100, 500)으로 지정\n",
        "- 첫 번째 차원이 100인 것은 앞에서 샘플의 길이를 100으로 지정했기 때문"
      ],
      "metadata": {
        "id": "fR3k1sl5WEYY"
      }
    },
    {
      "cell_type": "markdown",
      "source": [
        "- 순환층도 당연히 활성화 함수를 사용해야 함\n",
        "- SimpleRNN 클래스의 activation 매개변수의 기본값 'tanh'로 하이퍼볼릭 탄젠트 함수를 사용\n",
        "  - 여기서는 기본값을 사용"
      ],
      "metadata": {
        "id": "MtNCUSE3Wa-n"
      }
    },
    {
      "cell_type": "markdown",
      "source": [
        "- input_shape의 두 번쩨 차원인 500인 이유\n",
        "  - 이전 섹션에서 만든 train_seq와 val_seq에는 한 가지 문제가 존재\n",
        "    - 토큰을 정수로 변환한 이 데이터를 신경망에 주입하면 큰 정수가 큰 활성화 출력을 만들기 때문\n",
        "  - 단순한 정숫값을 신경망에 입력하기 위해서는 다른 방법을 찾아야 함\n",
        "  - 정숫값에 있는 크기 속성을 없애고 각 정수를 고유하게 표현하는 방법은 원-핫 인코딩"
      ],
      "metadata": {
        "id": "CFgLLyKQZFaY"
      }
    },
    {
      "cell_type": "markdown",
      "source": [
        "- imdb.load_data() 함수에서 500개의 단어만 사용하도록 지정했기 때문에 고유한 단어는 모두 500개\n",
        "  - 훈련 데이터에 포함될 수 있는 정숫값의 범위는 0(패딩 토큰)에서 499까지\n",
        "  - 따라서 이 범위를 원-핫 인코딩으로 표현하려면 배열의 길이가 500이어야 함"
      ],
      "metadata": {
        "id": "EL0oebzecGXz"
      }
    },
    {
      "cell_type": "markdown",
      "source": [
        "- 토큰마다 500개의 숫자를 사용해 표현\n",
        "  - 다만 500개 중에 하나만 1이고 나머지는 모두 0으로 만드러 정수 사이에 있던 크기 속성을 없애는 원-핫 인코딩을 사용 "
      ],
      "metadata": {
        "id": "y34qrGJCcoZ-"
      }
    },
    {
      "cell_type": "markdown",
      "source": [
        "- keras.utils 패키지 아래에 있는 to_categorical() 함수\n",
        "  - 정수 배열을 입력하면 자동으로 원-핫 인코딩된 배열을 반환"
      ],
      "metadata": {
        "id": "12vxBC72dDbl"
      }
    },
    {
      "cell_type": "code",
      "source": [
        "train_oh = keras.utils.to_categorical(train_seq)"
      ],
      "metadata": {
        "id": "-K2hQUR4divf"
      },
      "execution_count": 18,
      "outputs": []
    },
    {
      "cell_type": "code",
      "source": [
        "print(train_oh.shape)"
      ],
      "metadata": {
        "colab": {
          "base_uri": "https://localhost:8080/"
        },
        "id": "QfFvcmykdqRf",
        "outputId": "85912647-fc9c-40bf-fb58-237ea4ee22ae"
      },
      "execution_count": 19,
      "outputs": [
        {
          "output_type": "stream",
          "name": "stdout",
          "text": [
            "(20000, 100, 500)\n"
          ]
        }
      ]
    },
    {
      "cell_type": "markdown",
      "source": [
        "- 정수 하나마다 모두 500차원의 배열로 변경되었기 때문에 (20000, 100) 크기의 train_seq가 (20000, 100, 500) 크기의 train_oh로 바뀜\n",
        "- 샘플 데이터의 크기가 1차원 정수 배열 (100, )에서 2차원 배열 (100, 500)로 바꿔야 하므로 SimpleRNN 클래스의 input_shape 매개변수의 값을 (100, 500)으로 지정"
      ],
      "metadata": {
        "id": "7HG1BLeSdtm8"
      }
    },
    {
      "cell_type": "code",
      "source": [
        "print(train_oh[0][0][:12])"
      ],
      "metadata": {
        "colab": {
          "base_uri": "https://localhost:8080/"
        },
        "id": "99ju0VKFeqIy",
        "outputId": "ba3afaae-7b85-4fc5-c4d4-8d325a9f5bfc"
      },
      "execution_count": 20,
      "outputs": [
        {
          "output_type": "stream",
          "name": "stdout",
          "text": [
            "[0. 0. 0. 0. 0. 0. 0. 0. 0. 0. 1. 0.]\n"
          ]
        }
      ]
    },
    {
      "cell_type": "markdown",
      "source": [
        "- 처음 12개 원소를 출력해 보면 열한 번째 원소가 1인 것을 확인 가능"
      ],
      "metadata": {
        "id": "EPINvLdwezhT"
      }
    },
    {
      "cell_type": "code",
      "source": [
        "print(np.sum(train_oh[0][0]))"
      ],
      "metadata": {
        "colab": {
          "base_uri": "https://localhost:8080/"
        },
        "id": "1_HotfTWe9qp",
        "outputId": "7a92471a-45ed-470e-b333-a859b61b76a9"
      },
      "execution_count": 21,
      "outputs": [
        {
          "output_type": "stream",
          "name": "stdout",
          "text": [
            "1.0\n"
          ]
        }
      ]
    },
    {
      "cell_type": "markdown",
      "source": [
        "- 나머지 원소가 전부 0인 것을 확인\n",
        "- 토큰 10이 잘 인코딩됨"
      ],
      "metadata": {
        "id": "V7ZEjApVfGsV"
      }
    },
    {
      "cell_type": "markdown",
      "source": [
        "- 같은 방식으로 val_seq도 원-핫 인코딩으로 변환"
      ],
      "metadata": {
        "id": "GLLgKkrdgFpa"
      }
    },
    {
      "cell_type": "code",
      "source": [
        "val_oh = keras.utils.to_categorical(val_seq)"
      ],
      "metadata": {
        "id": "juXrI7Z8gLBR"
      },
      "execution_count": 22,
      "outputs": []
    },
    {
      "cell_type": "markdown",
      "source": [
        "- 모델의 구조를 출력"
      ],
      "metadata": {
        "id": "x6IlR-uJgSm0"
      }
    },
    {
      "cell_type": "code",
      "source": [
        "model.summary()"
      ],
      "metadata": {
        "colab": {
          "base_uri": "https://localhost:8080/"
        },
        "id": "2OajT-k_gXYE",
        "outputId": "15f1f8d6-7e4e-4b33-8af3-b0a215193e57"
      },
      "execution_count": 23,
      "outputs": [
        {
          "output_type": "stream",
          "name": "stdout",
          "text": [
            "Model: \"sequential\"\n",
            "_________________________________________________________________\n",
            " Layer (type)                Output Shape              Param #   \n",
            "=================================================================\n",
            " simple_rnn (SimpleRNN)      (None, 8)                 4072      \n",
            "                                                                 \n",
            " dense (Dense)               (None, 1)                 9         \n",
            "                                                                 \n",
            "=================================================================\n",
            "Total params: 4,081\n",
            "Trainable params: 4,081\n",
            "Non-trainable params: 0\n",
            "_________________________________________________________________\n"
          ]
        }
      ]
    },
    {
      "cell_type": "markdown",
      "source": [
        "- SimpleRNN에 전달할 샘플의 크기는 (100, 500)이지만 이 순환층은 마지막 타임스텝의 은닉 상태만 출력\n",
        "- 출력 크기가 순환층의 뉴런 개수와 동일한 8임을 확인"
      ],
      "metadata": {
        "id": "KpjbvYoqgi6T"
      }
    },
    {
      "cell_type": "markdown",
      "source": [
        "- 순환층에 사용된 모델 파라미터의 개수를 계산\n",
        "  - 입력 토큰은 500차원의 원-핫 인코딩 배열\n",
        "  - 이 배열이 순환층의 뉴런 8개와 완전히 연결되기 때문에 총 $500 \\times 8 = 4000$개의 가중치가 있음\n",
        "  - 순환층의 은닉 상태는 다시 다음 타임스텝에 사용되기 위해 또 다른 가중치와 곱해짐\n",
        "  - 이 은닉 상태도 순환층의 뉴런과 완전히 연결되기 때문에 $8(은닉 상태 크기)\\times 8(뉴런 개수) = 64$개의 가중치가 필요\n",
        "  - 마지막으로 뉴런마다 하나의 절편이 존재\n",
        "    - $4000 + 64 + 8 = 4072$개의 모델 파라미터가 필요"
      ],
      "metadata": {
        "id": "ckf-5_kJg41R"
      }
    },
    {
      "cell_type": "markdown",
      "source": [
        "## 순환 신경망 훈련하기"
      ],
      "metadata": {
        "id": "J_-Cc1jHikrs"
      }
    },
    {
      "cell_type": "markdown",
      "source": [
        "- 이 예에서는 기본 RMSprop의 학습률 0.001을 사용하지 않기 위해 별도의 RMSprop 객체를 만들어 학습률을 0.001로 지정\n",
        "- 에포크 횟수를 100으로, 배치 크기를 64개로 설정"
      ],
      "metadata": {
        "id": "QBrDDgrhinaQ"
      }
    },
    {
      "cell_type": "code",
      "source": [
        "rmsprop = keras.optimizers.RMSprop(learning_rate=1e-4)\n",
        "model.compile(optimizer=rmsprop, loss='binary_crossentropy',\n",
        "              metrics=['accuracy'])\n",
        "checkpoint_cb = keras.callbacks.ModelCheckpoint('best-simplernn-model.h5',\n",
        "                                                save_best_onlu = True)\n",
        "early_stopping_cb = keras.callbacks.EarlyStopping(patience=3,\n",
        "                                                  restore_best_weights = True)\n",
        "history = model.fit(train_oh, train_target, epochs=100, batch_size=64, \n",
        "                    validation_data=(val_oh, val_target),\n",
        "                    callbacks=[checkpoint_cb, early_stopping_cb])"
      ],
      "metadata": {
        "colab": {
          "base_uri": "https://localhost:8080/"
        },
        "id": "ThwsiDFFi_hs",
        "outputId": "0001e61c-796c-4ff7-d91a-eeecef5169b8"
      },
      "execution_count": 24,
      "outputs": [
        {
          "output_type": "stream",
          "name": "stdout",
          "text": [
            "Epoch 1/100\n",
            "313/313 [==============================] - 31s 85ms/step - loss: 0.7004 - accuracy: 0.4995 - val_loss: 0.7015 - val_accuracy: 0.4874\n",
            "Epoch 2/100\n",
            "313/313 [==============================] - 26s 82ms/step - loss: 0.6961 - accuracy: 0.5068 - val_loss: 0.6984 - val_accuracy: 0.4920\n",
            "Epoch 3/100\n",
            "313/313 [==============================] - 25s 80ms/step - loss: 0.6932 - accuracy: 0.5163 - val_loss: 0.6962 - val_accuracy: 0.5020\n",
            "Epoch 4/100\n",
            "313/313 [==============================] - 35s 111ms/step - loss: 0.6910 - accuracy: 0.5275 - val_loss: 0.6946 - val_accuracy: 0.5030\n",
            "Epoch 5/100\n",
            "313/313 [==============================] - 26s 81ms/step - loss: 0.6890 - accuracy: 0.5373 - val_loss: 0.6931 - val_accuracy: 0.5146\n",
            "Epoch 6/100\n",
            "313/313 [==============================] - 25s 80ms/step - loss: 0.6840 - accuracy: 0.5591 - val_loss: 0.6851 - val_accuracy: 0.5580\n",
            "Epoch 7/100\n",
            "313/313 [==============================] - 25s 80ms/step - loss: 0.6760 - accuracy: 0.5914 - val_loss: 0.6787 - val_accuracy: 0.5818\n",
            "Epoch 8/100\n",
            "313/313 [==============================] - 25s 81ms/step - loss: 0.6672 - accuracy: 0.6197 - val_loss: 0.6695 - val_accuracy: 0.6074\n",
            "Epoch 9/100\n",
            "313/313 [==============================] - 25s 80ms/step - loss: 0.6558 - accuracy: 0.6458 - val_loss: 0.6593 - val_accuracy: 0.6304\n",
            "Epoch 10/100\n",
            "313/313 [==============================] - 26s 82ms/step - loss: 0.6429 - accuracy: 0.6683 - val_loss: 0.6447 - val_accuracy: 0.6602\n",
            "Epoch 11/100\n",
            "313/313 [==============================] - 25s 80ms/step - loss: 0.6279 - accuracy: 0.6911 - val_loss: 0.6300 - val_accuracy: 0.6848\n",
            "Epoch 12/100\n",
            "313/313 [==============================] - 25s 79ms/step - loss: 0.6116 - accuracy: 0.7099 - val_loss: 0.6149 - val_accuracy: 0.6976\n",
            "Epoch 13/100\n",
            "313/313 [==============================] - 25s 80ms/step - loss: 0.5950 - accuracy: 0.7234 - val_loss: 0.6011 - val_accuracy: 0.7122\n",
            "Epoch 14/100\n",
            "313/313 [==============================] - 25s 81ms/step - loss: 0.5786 - accuracy: 0.7389 - val_loss: 0.5865 - val_accuracy: 0.7228\n",
            "Epoch 15/100\n",
            "313/313 [==============================] - 25s 80ms/step - loss: 0.5641 - accuracy: 0.7485 - val_loss: 0.5748 - val_accuracy: 0.7270\n",
            "Epoch 16/100\n",
            "313/313 [==============================] - 25s 81ms/step - loss: 0.5505 - accuracy: 0.7568 - val_loss: 0.5638 - val_accuracy: 0.7338\n",
            "Epoch 17/100\n",
            "313/313 [==============================] - 25s 80ms/step - loss: 0.5375 - accuracy: 0.7653 - val_loss: 0.5531 - val_accuracy: 0.7426\n",
            "Epoch 18/100\n",
            "313/313 [==============================] - 25s 80ms/step - loss: 0.5258 - accuracy: 0.7696 - val_loss: 0.5462 - val_accuracy: 0.7412\n",
            "Epoch 19/100\n",
            "313/313 [==============================] - 25s 80ms/step - loss: 0.5150 - accuracy: 0.7746 - val_loss: 0.5334 - val_accuracy: 0.7546\n",
            "Epoch 20/100\n",
            "313/313 [==============================] - 25s 81ms/step - loss: 0.5049 - accuracy: 0.7830 - val_loss: 0.5255 - val_accuracy: 0.7556\n",
            "Epoch 21/100\n",
            "313/313 [==============================] - 25s 81ms/step - loss: 0.4956 - accuracy: 0.7857 - val_loss: 0.5191 - val_accuracy: 0.7602\n",
            "Epoch 22/100\n",
            "313/313 [==============================] - 26s 82ms/step - loss: 0.4865 - accuracy: 0.7898 - val_loss: 0.5098 - val_accuracy: 0.7644\n",
            "Epoch 23/100\n",
            "313/313 [==============================] - 25s 80ms/step - loss: 0.4784 - accuracy: 0.7946 - val_loss: 0.5033 - val_accuracy: 0.7706\n",
            "Epoch 24/100\n",
            "313/313 [==============================] - 26s 81ms/step - loss: 0.4716 - accuracy: 0.7967 - val_loss: 0.5000 - val_accuracy: 0.7696\n",
            "Epoch 25/100\n",
            "313/313 [==============================] - 25s 81ms/step - loss: 0.4650 - accuracy: 0.7973 - val_loss: 0.4908 - val_accuracy: 0.7768\n",
            "Epoch 26/100\n",
            "313/313 [==============================] - 25s 80ms/step - loss: 0.4588 - accuracy: 0.8006 - val_loss: 0.4862 - val_accuracy: 0.7770\n",
            "Epoch 27/100\n",
            "313/313 [==============================] - 25s 81ms/step - loss: 0.4529 - accuracy: 0.8044 - val_loss: 0.4854 - val_accuracy: 0.7732\n",
            "Epoch 28/100\n",
            "313/313 [==============================] - 25s 81ms/step - loss: 0.4482 - accuracy: 0.8061 - val_loss: 0.4778 - val_accuracy: 0.7826\n",
            "Epoch 29/100\n",
            "313/313 [==============================] - 25s 80ms/step - loss: 0.4434 - accuracy: 0.8082 - val_loss: 0.4758 - val_accuracy: 0.7802\n",
            "Epoch 30/100\n",
            "313/313 [==============================] - 25s 81ms/step - loss: 0.4396 - accuracy: 0.8094 - val_loss: 0.4740 - val_accuracy: 0.7814\n",
            "Epoch 31/100\n",
            "313/313 [==============================] - 25s 79ms/step - loss: 0.4354 - accuracy: 0.8116 - val_loss: 0.4692 - val_accuracy: 0.7880\n",
            "Epoch 32/100\n",
            "313/313 [==============================] - 25s 81ms/step - loss: 0.4321 - accuracy: 0.8127 - val_loss: 0.4698 - val_accuracy: 0.7818\n",
            "Epoch 33/100\n",
            "313/313 [==============================] - 25s 81ms/step - loss: 0.4288 - accuracy: 0.8130 - val_loss: 0.4673 - val_accuracy: 0.7858\n",
            "Epoch 34/100\n",
            "313/313 [==============================] - 25s 81ms/step - loss: 0.4257 - accuracy: 0.8148 - val_loss: 0.4639 - val_accuracy: 0.7906\n",
            "Epoch 35/100\n",
            "313/313 [==============================] - 25s 80ms/step - loss: 0.4232 - accuracy: 0.8169 - val_loss: 0.4656 - val_accuracy: 0.7866\n",
            "Epoch 36/100\n",
            "313/313 [==============================] - 25s 80ms/step - loss: 0.4201 - accuracy: 0.8168 - val_loss: 0.4631 - val_accuracy: 0.7870\n",
            "Epoch 37/100\n",
            "313/313 [==============================] - 25s 80ms/step - loss: 0.4180 - accuracy: 0.8180 - val_loss: 0.4699 - val_accuracy: 0.7840\n",
            "Epoch 38/100\n",
            "313/313 [==============================] - 25s 80ms/step - loss: 0.4159 - accuracy: 0.8206 - val_loss: 0.4611 - val_accuracy: 0.7890\n",
            "Epoch 39/100\n",
            "313/313 [==============================] - 25s 80ms/step - loss: 0.4137 - accuracy: 0.8203 - val_loss: 0.4599 - val_accuracy: 0.7900\n",
            "Epoch 40/100\n",
            "313/313 [==============================] - 25s 81ms/step - loss: 0.4119 - accuracy: 0.8221 - val_loss: 0.4599 - val_accuracy: 0.7888\n",
            "Epoch 41/100\n",
            "313/313 [==============================] - 25s 80ms/step - loss: 0.4100 - accuracy: 0.8225 - val_loss: 0.4609 - val_accuracy: 0.7862\n",
            "Epoch 42/100\n",
            "313/313 [==============================] - 25s 81ms/step - loss: 0.4086 - accuracy: 0.8233 - val_loss: 0.4585 - val_accuracy: 0.7908\n",
            "Epoch 43/100\n",
            "313/313 [==============================] - 25s 80ms/step - loss: 0.4069 - accuracy: 0.8230 - val_loss: 0.4582 - val_accuracy: 0.7892\n",
            "Epoch 44/100\n",
            "313/313 [==============================] - 25s 79ms/step - loss: 0.4052 - accuracy: 0.8252 - val_loss: 0.4587 - val_accuracy: 0.7896\n",
            "Epoch 45/100\n",
            "313/313 [==============================] - 25s 80ms/step - loss: 0.4036 - accuracy: 0.8253 - val_loss: 0.4585 - val_accuracy: 0.7886\n",
            "Epoch 46/100\n",
            "313/313 [==============================] - 25s 80ms/step - loss: 0.4028 - accuracy: 0.8252 - val_loss: 0.4623 - val_accuracy: 0.7874\n"
          ]
        }
      ]
    },
    {
      "cell_type": "code",
      "source": [
        "plt.plot(history.history['loss'])\n",
        "plt.plot(history.history['val_loss'])\n",
        "plt.xlabel('epoch')\n",
        "plt.ylabel('loss')\n",
        "plt.legend(['train', 'val'])\n",
        "plt.show()"
      ],
      "metadata": {
        "colab": {
          "base_uri": "https://localhost:8080/",
          "height": 279
        },
        "id": "xciwDo5Ek3Ht",
        "outputId": "9bd73e5e-168f-4ad6-8455-75f9fdb97fe8"
      },
      "execution_count": 25,
      "outputs": [
        {
          "output_type": "display_data",
          "data": {
            "text/plain": [
              "<Figure size 432x288 with 1 Axes>"
            ],
            "image/png": "[encoded data removed]"
          },
          "metadata": {
            "needs_background": "light"
          }
        }
      ]
    },
    {
      "cell_type": "markdown",
      "source": [
        "- 훈련 손실은 꾸준히 감소하고 있지만 검증 손실은 대략 20번째에서 감소가 둔해짐\n",
        "- 원-핫 인코딩의 단점은 입력 데이터가 엄청나게 커진다는 것"
      ],
      "metadata": {
        "id": "LE9uBcrDpVLj"
      }
    },
    {
      "cell_type": "code",
      "source": [
        "print(train_seq.nbytes, train_oh.nbytes)"
      ],
      "metadata": {
        "colab": {
          "base_uri": "https://localhost:8080/"
        },
        "id": "X_uieHtvrK_S",
        "outputId": "909b60a9-137e-4ce1-9555-5fb9b729de2b"
      },
      "execution_count": 26,
      "outputs": [
        {
          "output_type": "stream",
          "name": "stdout",
          "text": [
            "8000000 4000000000\n"
          ]
        }
      ]
    },
    {
      "cell_type": "markdown",
      "source": [
        "- 토큰 1개를 500차원으로 늘렸기 때문에 대략 500배가 커짐\n",
        "- 훈련 데이터가 커질수록 더 문제가 됨"
      ],
      "metadata": {
        "id": "8ODulBmUraV6"
      }
    },
    {
      "cell_type": "markdown",
      "source": [
        "## 단어 임베딩을 사용하기"
      ],
      "metadata": {
        "id": "RhIRXm8Fr56w"
      }
    },
    {
      "cell_type": "markdown",
      "source": [
        "- 순환 신경망에서 텍스트를 처리할 때 즐려 사용하는 방법은 단어 임베딩(word embedding)\n",
        "- 단어 임베딩은 각 단어를 고정된 크기의 실수 벡터로 바꾸어줌\n",
        "- 단어 임베딩으로 만들어진 벡터는 원-핫 인코딩된 벡터보다 훨씬 의미 있는 값으로 채워져 있기 때문에 자연어 처리에서 더 좋은 성능을 내는 경우가 많음"
      ],
      "metadata": {
        "id": "6vGIUL87sID0"
      }
    },
    {
      "cell_type": "markdown",
      "source": [
        "- keras.layers 패키지 아래 Embedding 클래스로 임베딩 기능을 제공\n",
        "- 이 클래스를 다른 층처럼 모델에 추가하면 처음에는 모든 벡터가 랜덤하게 초기화되지만 훈련을 통해 데이터에서 좋은 단어 임베딩을 학습"
      ],
      "metadata": {
        "id": "4om_CGKctS0l"
      }
    },
    {
      "cell_type": "markdown",
      "source": [
        "- 단어 임베딩의 장점은 입력으로 정수 데이터를 받는 것\n",
        "  - 원-핫 인코딩으로 변경된 train_oh 배열이 아니라 train_seq를 사용할 수 있음\n",
        "  - 메모리를 훨씬 효울적으로 사용 가능"
      ],
      "metadata": {
        "id": "DxkRxHOPtrFg"
      }
    },
    {
      "cell_type": "markdown",
      "source": [
        "- 원-핫 인코딩은 샘플 하나를 500차원으로 늘렸기 때문에 (100, ) 크기의 샘플이 (100, 500)으로 커짐\n",
        "- 임베딩도 (100, ) 크기의 샘플을 (100, 20)과 같이 2차원 배열로 늘림\n",
        "- 하지만 원-핫 인코딩과는 달리 훨씬 작은 크기로도 단어를 잘 표현 가능"
      ],
      "metadata": {
        "id": "7_lzSQodt_o2"
      }
    },
    {
      "cell_type": "markdown",
      "source": [
        "- Embedding 클래스를 SimpleRNN 층 앞에 추가한 두 번째 순환 신경망을 생성"
      ],
      "metadata": {
        "id": "68JEz48busOw"
      }
    },
    {
      "cell_type": "code",
      "source": [
        "model2 = keras.Sequential()\n",
        "model2.add(keras.layers.Embedding(500, 16, input_length=100))\n",
        "model2.add(keras.layers.SimpleRNN(8))\n",
        "model2.add(keras.layers.Dense(1, activation='sigmoid'))"
      ],
      "metadata": {
        "id": "CMJJT1Cau_N7"
      },
      "execution_count": 32,
      "outputs": []
    },
    {
      "cell_type": "markdown",
      "source": [
        "- Embedding 클래스의 첫 번째 매개변수 (500)는 어휘 사전의 크기\n",
        "  - 앞서 IMDB 리뷰 데이터셋에서 500개의 단어만 사용하도록 imdb.load_data(num_words=500)과 같이 설정했기 때문에 이 매개변수의 값을 500으로 지정"
      ],
      "metadata": {
        "id": "zgQ4eO79u3gb"
      }
    },
    {
      "cell_type": "markdown",
      "source": [
        "- 두 번째 매개변수 (16)는 임베딩 벡터의 크기\n",
        "  - 원-핫 인코딩보다 훨씬 작은 크기 (16)의 벡터를 사용"
      ],
      "metadata": {
        "id": "PmtTmeQKv6FN"
      }
    },
    {
      "cell_type": "markdown",
      "source": [
        "- 세 번째 input_length 매개변수는 입력 시퀀스의 길이\n",
        "  - 앞서 샘플의 길이를 100으로 맞추어 train_seq를 생성\n",
        "  - 따라서 100으로 지정"
      ],
      "metadata": {
        "id": "0AZgulElwLCn"
      }
    },
    {
      "cell_type": "markdown",
      "source": [
        "- SimpleRNN 층과 Dense 층은 이전과 동일"
      ],
      "metadata": {
        "id": "toxbnJiNwbE4"
      }
    },
    {
      "cell_type": "code",
      "source": [
        "model2.summary()"
      ],
      "metadata": {
        "colab": {
          "base_uri": "https://localhost:8080/"
        },
        "id": "K9daA6D2wlLL",
        "outputId": "0c1e4018-b5cf-409d-a151-c9c9cb734f46"
      },
      "execution_count": 33,
      "outputs": [
        {
          "output_type": "stream",
          "name": "stdout",
          "text": [
            "Model: \"sequential_2\"\n",
            "_________________________________________________________________\n",
            " Layer (type)                Output Shape              Param #   \n",
            "=================================================================\n",
            " embedding_1 (Embedding)     (None, 100, 16)           8000      \n",
            "                                                                 \n",
            " simple_rnn_2 (SimpleRNN)    (None, 8)                 200       \n",
            "                                                                 \n",
            " dense_2 (Dense)             (None, 1)                 9         \n",
            "                                                                 \n",
            "=================================================================\n",
            "Total params: 8,209\n",
            "Trainable params: 8,209\n",
            "Non-trainable params: 0\n",
            "_________________________________________________________________\n"
          ]
        }
      ]
    },
    {
      "cell_type": "markdown",
      "source": [
        "- 이 모델은 (100, ) 크기의 입력을 받아 (100, 16) 크기의 출력을 생성"
      ],
      "metadata": {
        "id": "wOFDHDLNwxIU"
      }
    },
    {
      "cell_type": "markdown",
      "source": [
        "- Embedding 클래스는 500개의 각 토큰을 크기가 16인 벡터로 변경하기 때문데 총 $500 \\times 16 = 8000$개의 모델 파라미터를 가짐\n",
        "- 그 다음 SimpleRNN 층은 임베딩 벡터의 크기가 16이므로 8개의 뉴런과 곱하기 위해 필요한 가중치 $16 \\times 8 =128$개를 가짐\n",
        "- 은닉 상태에 곱해지는 $8\\times 8 = 64$개가 있음\n",
        "- 마지막으로 8개의 절편이 존재\n",
        "  - $128 + 64 + 8 = 200$개의 모델 파라미터"
      ],
      "metadata": {
        "id": "1dp1zfynw8i3"
      }
    },
    {
      "cell_type": "markdown",
      "source": [
        "- 마지막 Dense 층의 가중치 개수는 이전과 동일하게 9개\n",
        "- 원-핫 인코딩보다 SimpleRNN에 주입되는 입력의 크기가 크게 줄었지만 임베딩 벡터는 단어를 잘 표현하는 능력이 있기 때문에 훈련 결과는 이전에 못지 않음\n",
        "- 훈련 과정은 이전과 동일"
      ],
      "metadata": {
        "id": "NT0Wtjgnyiul"
      }
    },
    {
      "cell_type": "code",
      "source": [
        "rmsprop = keras.optimizers.RMSprop(learning_rate=1e-4)\n",
        "model2.compile(optimizer=rmsprop, loss='binary_crossentropy',\n",
        "              metrics=['accuracy'])\n",
        "checkpoint_cb = keras.callbacks.ModelCheckpoint('best-embedding-model.h5',\n",
        "                                                save_best_onlu = True)\n",
        "early_stopping_cb = keras.callbacks.EarlyStopping(patience=3,\n",
        "                                                  restore_best_weights = True)\n",
        "history = model2.fit(train_seq, train_target, epochs=100, batch_size=64, \n",
        "                    validation_data=(val_seq, val_target),\n",
        "                    callbacks=[checkpoint_cb, early_stopping_cb])"
      ],
      "metadata": {
        "colab": {
          "base_uri": "https://localhost:8080/"
        },
        "id": "fwGVwPBzy8gh",
        "outputId": "c0dfdb10-9e99-4da6-f813-33b752c790c9"
      },
      "execution_count": 34,
      "outputs": [
        {
          "output_type": "stream",
          "name": "stdout",
          "text": [
            "Epoch 1/100\n",
            "313/313 [==============================] - 32s 99ms/step - loss: 0.6949 - accuracy: 0.5070 - val_loss: 0.6948 - val_accuracy: 0.5012\n",
            "Epoch 2/100\n",
            "313/313 [==============================] - 31s 98ms/step - loss: 0.6913 - accuracy: 0.5238 - val_loss: 0.6930 - val_accuracy: 0.5136\n",
            "Epoch 3/100\n",
            "313/313 [==============================] - 31s 99ms/step - loss: 0.6883 - accuracy: 0.5418 - val_loss: 0.6916 - val_accuracy: 0.5224\n",
            "Epoch 4/100\n",
            "313/313 [==============================] - 31s 99ms/step - loss: 0.6852 - accuracy: 0.5553 - val_loss: 0.6906 - val_accuracy: 0.5248\n",
            "Epoch 5/100\n",
            "313/313 [==============================] - 31s 100ms/step - loss: 0.6819 - accuracy: 0.5654 - val_loss: 0.6898 - val_accuracy: 0.5256\n",
            "Epoch 6/100\n",
            "313/313 [==============================] - 31s 98ms/step - loss: 0.6784 - accuracy: 0.5796 - val_loss: 0.6892 - val_accuracy: 0.5296\n",
            "Epoch 7/100\n",
            "313/313 [==============================] - 31s 101ms/step - loss: 0.6747 - accuracy: 0.5874 - val_loss: 0.6883 - val_accuracy: 0.5334\n",
            "Epoch 8/100\n",
            "313/313 [==============================] - 31s 100ms/step - loss: 0.6708 - accuracy: 0.5958 - val_loss: 0.6870 - val_accuracy: 0.5404\n",
            "Epoch 9/100\n",
            "313/313 [==============================] - 31s 99ms/step - loss: 0.6668 - accuracy: 0.6024 - val_loss: 0.6859 - val_accuracy: 0.5408\n",
            "Epoch 10/100\n",
            "313/313 [==============================] - 31s 98ms/step - loss: 0.6625 - accuracy: 0.6105 - val_loss: 0.6848 - val_accuracy: 0.5472\n",
            "Epoch 11/100\n",
            "313/313 [==============================] - 31s 101ms/step - loss: 0.6583 - accuracy: 0.6168 - val_loss: 0.6834 - val_accuracy: 0.5520\n",
            "Epoch 12/100\n",
            "313/313 [==============================] - 31s 98ms/step - loss: 0.6538 - accuracy: 0.6270 - val_loss: 0.6815 - val_accuracy: 0.5612\n",
            "Epoch 13/100\n",
            "313/313 [==============================] - 31s 100ms/step - loss: 0.6494 - accuracy: 0.6346 - val_loss: 0.6812 - val_accuracy: 0.5612\n",
            "Epoch 14/100\n",
            "313/313 [==============================] - 30s 96ms/step - loss: 0.6451 - accuracy: 0.6420 - val_loss: 0.6793 - val_accuracy: 0.5644\n",
            "Epoch 15/100\n",
            "313/313 [==============================] - 32s 102ms/step - loss: 0.6405 - accuracy: 0.6475 - val_loss: 0.6782 - val_accuracy: 0.5684\n",
            "Epoch 16/100\n",
            "313/313 [==============================] - 31s 100ms/step - loss: 0.6358 - accuracy: 0.6561 - val_loss: 0.6747 - val_accuracy: 0.5782\n",
            "Epoch 17/100\n",
            "313/313 [==============================] - 31s 98ms/step - loss: 0.6311 - accuracy: 0.6604 - val_loss: 0.6744 - val_accuracy: 0.5794\n",
            "Epoch 18/100\n",
            "313/313 [==============================] - 31s 100ms/step - loss: 0.6264 - accuracy: 0.6650 - val_loss: 0.6729 - val_accuracy: 0.5852\n",
            "Epoch 19/100\n",
            "313/313 [==============================] - 30s 97ms/step - loss: 0.6217 - accuracy: 0.6723 - val_loss: 0.6700 - val_accuracy: 0.5920\n",
            "Epoch 20/100\n",
            "313/313 [==============================] - 31s 98ms/step - loss: 0.6171 - accuracy: 0.6750 - val_loss: 0.6671 - val_accuracy: 0.5972\n",
            "Epoch 21/100\n",
            "313/313 [==============================] - 32s 102ms/step - loss: 0.6124 - accuracy: 0.6803 - val_loss: 0.6661 - val_accuracy: 0.5968\n",
            "Epoch 22/100\n",
            "313/313 [==============================] - 32s 101ms/step - loss: 0.6079 - accuracy: 0.6862 - val_loss: 0.6644 - val_accuracy: 0.6008\n",
            "Epoch 23/100\n",
            "313/313 [==============================] - 31s 98ms/step - loss: 0.6032 - accuracy: 0.6890 - val_loss: 0.6615 - val_accuracy: 0.6080\n",
            "Epoch 24/100\n",
            "313/313 [==============================] - 31s 100ms/step - loss: 0.5988 - accuracy: 0.6916 - val_loss: 0.6604 - val_accuracy: 0.6080\n",
            "Epoch 25/100\n",
            "313/313 [==============================] - 32s 101ms/step - loss: 0.5945 - accuracy: 0.6957 - val_loss: 0.6615 - val_accuracy: 0.6040\n",
            "Epoch 26/100\n",
            "313/313 [==============================] - 31s 99ms/step - loss: 0.5904 - accuracy: 0.7017 - val_loss: 0.6578 - val_accuracy: 0.6156\n",
            "Epoch 27/100\n",
            "313/313 [==============================] - 31s 99ms/step - loss: 0.5862 - accuracy: 0.7031 - val_loss: 0.6570 - val_accuracy: 0.6174\n",
            "Epoch 28/100\n",
            "313/313 [==============================] - 30s 97ms/step - loss: 0.5820 - accuracy: 0.7053 - val_loss: 0.6583 - val_accuracy: 0.6118\n",
            "Epoch 29/100\n",
            "313/313 [==============================] - 30s 96ms/step - loss: 0.5781 - accuracy: 0.7105 - val_loss: 0.6571 - val_accuracy: 0.6166\n",
            "Epoch 30/100\n",
            "313/313 [==============================] - 31s 98ms/step - loss: 0.5741 - accuracy: 0.7116 - val_loss: 0.6559 - val_accuracy: 0.6184\n",
            "Epoch 31/100\n",
            "313/313 [==============================] - 32s 101ms/step - loss: 0.5701 - accuracy: 0.7177 - val_loss: 0.6584 - val_accuracy: 0.6172\n",
            "Epoch 32/100\n",
            "313/313 [==============================] - 31s 99ms/step - loss: 0.5664 - accuracy: 0.7200 - val_loss: 0.6549 - val_accuracy: 0.6218\n",
            "Epoch 33/100\n",
            "313/313 [==============================] - 32s 101ms/step - loss: 0.5629 - accuracy: 0.7209 - val_loss: 0.6531 - val_accuracy: 0.6250\n",
            "Epoch 34/100\n",
            "313/313 [==============================] - 32s 101ms/step - loss: 0.5594 - accuracy: 0.7236 - val_loss: 0.6547 - val_accuracy: 0.6234\n",
            "Epoch 35/100\n",
            "313/313 [==============================] - 31s 99ms/step - loss: 0.5556 - accuracy: 0.7283 - val_loss: 0.6593 - val_accuracy: 0.6158\n",
            "Epoch 36/100\n",
            "313/313 [==============================] - 31s 99ms/step - loss: 0.5525 - accuracy: 0.7298 - val_loss: 0.6553 - val_accuracy: 0.6274\n"
          ]
        }
      ]
    },
    {
      "cell_type": "code",
      "source": [
        "plt.plot(history.history['loss'])\n",
        "plt.plot(history.history['val_loss'])\n",
        "plt.xlabel('epoch')\n",
        "plt.ylabel('loss')\n",
        "plt.legend(['train', 'val'])\n",
        "plt.show()"
      ],
      "metadata": {
        "colab": {
          "base_uri": "https://localhost:8080/",
          "height": 281
        },
        "id": "Si-BhzyRz_8w",
        "outputId": "7cee8914-1c58-4701-dee8-8e53d6c1c7ba"
      },
      "execution_count": 35,
      "outputs": [
        {
          "output_type": "display_data",
          "data": {
            "text/plain": [
              "<Figure size 432x288 with 1 Axes>"
            ],
            "image/png": "[encoded data removed]"
          },
          "metadata": {
            "needs_background": "light"
          }
        }
      ]
    },
    {
      "cell_type": "markdown",
      "source": [
        "- 검증 손실이 더 감소되지 않아 훈련이 적절히 조기 종료\n",
        "- 이에 비해 훈련 손실은 계속 감소"
      ],
      "metadata": {
        "id": "o-FhxWp20Plc"
      }
    },
    {
      "cell_type": "markdown",
      "source": [
        "## 마무리"
      ],
      "metadata": {
        "id": "nXecZhIK0dFc"
      }
    },
    {
      "cell_type": "markdown",
      "source": [
        "### 키워드로 끝내는 핵심 포인트"
      ],
      "metadata": {
        "id": "2z7FV-_Z0ju2"
      }
    },
    {
      "cell_type": "markdown",
      "source": [
        "- 말뭉치 : 자연어 처리에서 사용하는 텍스트 데이터의모음, 즉 훈련 데이터셋\n",
        "- 토큰 : 텍스트에서 공백으로 구분되는 문자열. 종종 소문자로 변환하고 구둣점은 삭제\n",
        "- 원-핫 인코딩 : 어떤 클래스에 해당하는 원소만 1이고 나머지는 모두 0인 벡터.\n",
        "  - 정수로 변환된 토큰을 원-핫 인코딩으로 변환하려면 어휘 사전 크기의 벡터가 생성\n",
        "- 단어 임베딩 : 정수로 변환된 토큰을 비교적 작은 크기의 실수 밀집 벡터로 변환\n",
        "  - 이런 밀집 벡터는 단어 사이의 관계를 표현할 수 있기 때문에 자연어 처리에서 좋은 성능을 발휘"
      ],
      "metadata": {
        "id": "qaCqErFx0n00"
      }
    },
    {
      "cell_type": "markdown",
      "source": [
        "### 핵심 패키지와 함수"
      ],
      "metadata": {
        "id": "cKUeLrRh1dbN"
      }
    },
    {
      "cell_type": "markdown",
      "source": [
        "> TensorFlow\n",
        "- pad_sequences() : 시퀀스 길이를 맞추기 위해 패딩을 추가\n",
        "  - 이 함수는 (샘플 개수, 타임스텝 개수) 크기의 2차원 배열을 기대\n",
        "  - maxlen : 원하는 시퀀스 길이를 지정\n",
        "    - 이 값보다 긴 시퀀스는 잘리고 짧은 시퀀스는 패딩\n",
        "    - 이 매개변수를 지정하지 않으면 가장 긴 시퀀스의 길이가 됨\n",
        "  - padding : 패딩을 추가할 위치를 지정\n",
        "    - 'pre' : 기본값\n",
        "      - 시퀀스 앞에 패딩을 추가\n",
        "    - 'post' : 시퀀스 뒤에 패딩을 추가\n",
        "  - 'truncating' : 긴 시퀀에서 잘라버릴 위치를 지정\n",
        "    - 'pre' : 시퀀스 앞부분을 잘라냄\n",
        "    - 'post' : 시퀀스 뒷부분을 잘라냄\n",
        "- to_categorical() : 정수 시퀀스를 원-핫 인코딩으로 변환\n",
        "  - 토큰을 원-핫 인코딩하거나 타깃값을 원-핫 인코딩할 때 사용\n",
        "  - num_classes : 클래스 개수를 지정\n",
        "    - 지정하지 않으면 데이터에서 자동으로 찾음\n",
        "- SimpleRNN : 케라스의 기본 순환층 클래스\n",
        "  - 첫 번째 매개변수 : 뉴런의 개수를 지정\n",
        "  - activation : 매개변수에서 활성화 함수를 지정\n",
        "    - 'tanh' : 기본값, 하이퍼볼릭 탄젠트\n",
        "    - dropout : 입력에 대한 드롭아웃 비율을 지정\n",
        "    - return_sequences : 모든 타임스텝의 은닉 상태를 출력할지 결정\n",
        "      - 기본값 : False\n",
        "- Embedding : 단어 임베딩을 위한 클래스\n",
        "  - 첫 번째 매개변수 : 어휘 사전의 크기를 지정\n",
        "  - 두 번째 매개변수 : Embedding 층이 출력할 밀집 벡터의 크기를 지정\n",
        "  - input_length : 입력 시퀀스의 길이를 지정\n",
        "    - Embedding 층 바로 뒤에 Flatten이나 Dense 클래스가 올 때 꼭 필요"
      ],
      "metadata": {
        "id": "Qg5_212_1kPs"
      }
    }
  ],
  "metadata": {
    "colab": {
      "name": "chapter9_2",
      "provenance": [],
      "authorship_tag": "ABX9TyPGKLAw2SnpK6lQ7zD9n2Bg",
      "include_colab_link": true
    },
    "kernelspec": {
      "display_name": "Python 3",
      "name": "python3"
    },
    "language_info": {
      "name": "python"
    },
    "accelerator": "GPU"
  },
  "nbformat": 4,
  "nbformat_minor": 0
}