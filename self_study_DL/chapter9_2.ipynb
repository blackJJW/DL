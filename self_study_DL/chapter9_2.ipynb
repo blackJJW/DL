{
  "nbformat": 4,
  "nbformat_minor": 0,
  "metadata": {
    "colab": {
      "name": "chapter9_2",
      "provenance": [],
      "authorship_tag": "ABX9TyOhUZTMH7JEfZQoYZxolqpL",
      "include_colab_link": true
    },
    "kernelspec": {
      "name": "python3",
      "display_name": "Python 3"
    },
    "language_info": {
      "name": "python"
    }
  },
  "cells": [
    {
      "cell_type": "markdown",
      "metadata": {
        "id": "view-in-github",
        "colab_type": "text"
      },
      "source": [
        "<a href=\"https://colab.research.google.com/github/blackJJW/DL/blob/main/self_study_DL/chapter9_2.ipynb\" target=\"_parent\"><img src=\"https://colab.research.google.com/assets/colab-badge.svg\" alt=\"Open In Colab\"/></a>"
      ]
    },
    {
      "cell_type": "markdown",
      "source": [
        "# 09-2 순환 신경망으로 IMDB 리뷰 분류하기"
      ],
      "metadata": {
        "id": "F99QK_Llh1IJ"
      }
    },
    {
      "cell_type": "markdown",
      "source": [
        "## IMDB 리뷰 데이터 셋"
      ],
      "metadata": {
        "id": "6CMH3Y5BiJu2"
      }
    },
    {
      "cell_type": "markdown",
      "source": [
        "- IMDB 리뷰 데이터셋은 imdb.com에서 수집한 리뷰 감상평에 따라 긍정과 부정으로 분류해 놓은 데이터셋\n",
        "- 총 50,000개의 샘플\n",
        "- 훈련 데이터와 테스트 데이터 각각 25,000개"
      ],
      "metadata": {
        "id": "WJNZh-noiQIK"
      }
    }
  ]
}